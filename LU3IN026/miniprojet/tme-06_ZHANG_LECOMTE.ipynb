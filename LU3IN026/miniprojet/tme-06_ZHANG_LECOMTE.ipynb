{
 "cells": [
  {
   "cell_type": "markdown",
   "metadata": {},
   "source": [
    "IA & Data science (LU3IN0226) -- 2024-2025\n",
    "--------\n",
    "*&copy; Equipe pédagogique: Christophe Marsala, Olivier Schwander, Jean-Noël Vittaut.*\n"
   ]
  },
  {
   "cell_type": "markdown",
   "metadata": {},
   "source": [
    "# TD-TME 6 : Apprentissage pour le texte"
   ]
  },
  {
   "cell_type": "markdown",
   "metadata": {},
   "source": [
    "<font size=\"+1\" color=\"RED\"><b>[Q]</b></font> **Indiquer dans la boîte ci-dessous vos noms et prénoms :**"
   ]
  },
  {
   "cell_type": "markdown",
   "metadata": {},
   "source": [
    "ZHANG Yuxiang & LECOMTE Antoine"
   ]
  },
  {
   "cell_type": "markdown",
   "metadata": {},
   "source": [
    "<font color=\"RED\" size=\"+1\"><b>[Q]</b></font> **Renommer ce notebook**\n",
    "\n",
    "Tout en haut de cette page, cliquer sur <tt>tme-06</tt> et rajouter à la suite de <tt>tme-06</tt> les noms des membres du binômes séparés par un tiret.\n",
    "\n",
    "<font color=\"RED\" size=\"+1\">IMPORTANT: soumission de votre fichier final</font>\n",
    "\n",
    "**Nom à donner au fichier à poster** : *tme-06-Nom1_Nom2.ipynb* \n",
    "- *Nom1* et *Nom2* : noms des membres du binôme\n",
    "- ne pas compresser ou faire une archive: il faut rendre le fichier ipython tel quel, éventuellement, si vous avez d'autres fichiers vous les rendez séparément.\n",
    "\n",
    "**Echancier pour la soumission de votre compte-rendu:**\n",
    "- le compte-rendu d'une séance doit être remis obligatoirement <font color=\"RED\">avant la séance suivante</font>.\n",
    "\n",
    "**Le compte-rendu est soumis sur la page Moodle.**"
   ]
  },
  {
   "cell_type": "code",
   "execution_count": 1,
   "metadata": {},
   "outputs": [
    {
     "name": "stdout",
     "output_type": "stream",
     "text": [
      "Version python et des librairies:\n",
      "\tPython  3.9.6 (default, Nov 11 2024, 03:15:38) \n",
      "[Clang 16.0.0 (clang-1600.0.26.6)]\n",
      "\tpandas:  2.2.3\n",
      "\tnumpy:  2.0.2\n",
      "\tmatplotlib:  3.9.4\n"
     ]
    }
   ],
   "source": [
    "# - - - - - - - - - - - - - - - - - -\n",
    "# imports utiles\n",
    "import numpy as np\n",
    "import pandas as pd\n",
    "import matplotlib.pyplot as plt\n",
    "import matplotlib as mtpl\n",
    "%matplotlib inline  \n",
    "\n",
    "import math\n",
    "import time\n",
    "import sys\n",
    "\n",
    "# Les instructions suivantes sont utiles pour recharger automatiquement \n",
    "# le code modifié dans les librairies externes\n",
    "%load_ext autoreload\n",
    "%autoreload 2\n",
    "\n",
    "# - - - - - - - - - - - - - - - - - -\n",
    "# Information sur l'environnent utilisé ici:\n",
    "print(\"Version python et des librairies:\")\n",
    "print(\"\\tPython \",sys.version)\n",
    "print(\"\\tpandas: \",pd.__version__)\n",
    "print(\"\\tnumpy: \",np.__version__)\n",
    "print(\"\\tmatplotlib: \",mtpl.__version__)"
   ]
  },
  {
   "cell_type": "code",
   "execution_count": 2,
   "metadata": {},
   "outputs": [],
   "source": [
    "# Importation de votre librairie iads:\n",
    "# La ligne suivante permet de préciser le chemin d'accès à la librairie iads\n",
    "import sys\n",
    "sys.path.append('../')   # iads doit être dans le répertoire père du répertoire courant !\n",
    "\n",
    "# Importation de la librairie iads\n",
    "import iads as iads\n",
    "\n",
    "# importation de Classifiers\n",
    "from iads import Classifiers as classif\n",
    "\n",
    "# importation de utils\n",
    "from iads import utils as ut\n",
    "\n",
    "# importation de evaluation\n",
    "from iads import evaluation as ev\n",
    "\n"
   ]
  },
  {
   "cell_type": "markdown",
   "metadata": {},
   "source": [
    "# Objectifs de ce TME\n",
    "\n",
    "<div class=\"alert alert-block alert-warning\">\n",
    "Ce TME a pour but d'implémenter des fonctions pour traiter un corpus textuel et un nouvel algorithme d'apprentissage vu dans le cours 6. \n",
    "\n",
    "Pour expérimenter, on utilise la base `SMS spam Collection` qui contient 5572 messages associés à 2 labels: `spam` et `ham`. \n",
    "</div>"
   ]
  },
  {
   "cell_type": "code",
   "execution_count": 3,
   "metadata": {},
   "outputs": [
    {
     "data": {
      "text/html": [
       "<div>\n",
       "<style scoped>\n",
       "    .dataframe tbody tr th:only-of-type {\n",
       "        vertical-align: middle;\n",
       "    }\n",
       "\n",
       "    .dataframe tbody tr th {\n",
       "        vertical-align: top;\n",
       "    }\n",
       "\n",
       "    .dataframe thead th {\n",
       "        text-align: right;\n",
       "    }\n",
       "</style>\n",
       "<table border=\"1\" class=\"dataframe\">\n",
       "  <thead>\n",
       "    <tr style=\"text-align: right;\">\n",
       "      <th></th>\n",
       "      <th>label</th>\n",
       "      <th>message</th>\n",
       "    </tr>\n",
       "  </thead>\n",
       "  <tbody>\n",
       "    <tr>\n",
       "      <th>0</th>\n",
       "      <td>ham</td>\n",
       "      <td>Go until jurong point  crazy.. Available only ...</td>\n",
       "    </tr>\n",
       "    <tr>\n",
       "      <th>1</th>\n",
       "      <td>ham</td>\n",
       "      <td>Ok lar... Joking wif u oni...</td>\n",
       "    </tr>\n",
       "    <tr>\n",
       "      <th>2</th>\n",
       "      <td>spam</td>\n",
       "      <td>Free entry in 2 a wkly comp to win FA Cup fina...</td>\n",
       "    </tr>\n",
       "    <tr>\n",
       "      <th>3</th>\n",
       "      <td>ham</td>\n",
       "      <td>U dun say so early hor... U c already then say...</td>\n",
       "    </tr>\n",
       "    <tr>\n",
       "      <th>4</th>\n",
       "      <td>ham</td>\n",
       "      <td>Nah I don't think he goes to usf  he lives aro...</td>\n",
       "    </tr>\n",
       "    <tr>\n",
       "      <th>...</th>\n",
       "      <td>...</td>\n",
       "      <td>...</td>\n",
       "    </tr>\n",
       "    <tr>\n",
       "      <th>5567</th>\n",
       "      <td>spam</td>\n",
       "      <td>This is the 2nd time we have tried 2 contact u...</td>\n",
       "    </tr>\n",
       "    <tr>\n",
       "      <th>5568</th>\n",
       "      <td>ham</td>\n",
       "      <td>Will Ì_ b going to esplanade fr home?</td>\n",
       "    </tr>\n",
       "    <tr>\n",
       "      <th>5569</th>\n",
       "      <td>ham</td>\n",
       "      <td>Pity  * was in mood for that. So...any other s...</td>\n",
       "    </tr>\n",
       "    <tr>\n",
       "      <th>5570</th>\n",
       "      <td>ham</td>\n",
       "      <td>The guy did some bitching but I acted like i'd...</td>\n",
       "    </tr>\n",
       "    <tr>\n",
       "      <th>5571</th>\n",
       "      <td>ham</td>\n",
       "      <td>Rofl. Its true to its name</td>\n",
       "    </tr>\n",
       "  </tbody>\n",
       "</table>\n",
       "<p>5572 rows × 2 columns</p>\n",
       "</div>"
      ],
      "text/plain": [
       "     label                                            message\n",
       "0      ham  Go until jurong point  crazy.. Available only ...\n",
       "1      ham                      Ok lar... Joking wif u oni...\n",
       "2     spam  Free entry in 2 a wkly comp to win FA Cup fina...\n",
       "3      ham  U dun say so early hor... U c already then say...\n",
       "4      ham  Nah I don't think he goes to usf  he lives aro...\n",
       "...    ...                                                ...\n",
       "5567  spam  This is the 2nd time we have tried 2 contact u...\n",
       "5568   ham              Will Ì_ b going to esplanade fr home?\n",
       "5569   ham  Pity  * was in mood for that. So...any other s...\n",
       "5570   ham  The guy did some bitching but I acted like i'd...\n",
       "5571   ham                         Rofl. Its true to its name\n",
       "\n",
       "[5572 rows x 2 columns]"
      ]
     },
     "execution_count": 3,
     "metadata": {},
     "output_type": "execute_result"
    }
   ],
   "source": [
    "# Chargement du dataset\n",
    "\n",
    "df_spam = pd.read_csv('data/spam.csv', sep='\\t', encoding = 'latin1')\n",
    "df_spam"
   ]
  },
  {
   "cell_type": "code",
   "execution_count": 4,
   "metadata": {},
   "outputs": [
    {
     "data": {
      "text/plain": [
       "array(['ham', 'spam'], dtype=object)"
      ]
     },
     "execution_count": 4,
     "metadata": {},
     "output_type": "execute_result"
    }
   ],
   "source": [
    "# Valeurs du label:\n",
    "df_spam['label'].unique()"
   ]
  },
  {
   "cell_type": "code",
   "execution_count": 5,
   "metadata": {},
   "outputs": [],
   "source": [
    "# On met les labels dans une liste car cela sera utile:\n",
    "les_labels = df_spam['label'].unique()"
   ]
  },
  {
   "cell_type": "markdown",
   "metadata": {},
   "source": [
    "<font color=\"RED\" size=\"+1\"><b>[Q]</b></font> En utilisant `value_counts` (voir la doc de la librairie pandas), afficher le nombre d'exemples de chaque classe dans la base."
   ]
  },
  {
   "cell_type": "code",
   "execution_count": 6,
   "metadata": {},
   "outputs": [
    {
     "name": "stdout",
     "output_type": "stream",
     "text": [
      "Nombre d'exemples pour 'ham': 4825\n",
      "Nombre d'exemples pour 'spam': 747\n"
     ]
    }
   ],
   "source": [
    "for label in les_labels:\n",
    "    print(f\"Nombre d'exemples pour '{label}': {df_spam['label'].value_counts()[label]}\")"
   ]
  },
  {
   "cell_type": "markdown",
   "metadata": {},
   "source": [
    "## Prétraitements"
   ]
  },
  {
   "cell_type": "markdown",
   "metadata": {},
   "source": [
    "### Nettoyage des données"
   ]
  },
  {
   "cell_type": "markdown",
   "metadata": {},
   "source": [
    "Pour pouvoir travailler sur les messages, on commence par les nettoyer : il faut enlever les caractères de ponctuations, les articles, les mots trop courants, etc. (voir le cours 6)."
   ]
  },
  {
   "cell_type": "markdown",
   "metadata": {},
   "source": [
    "Pour traiter les données textuelles (colonne `message` du dataset), on utilise les fonctions de la librairie `string`."
   ]
  },
  {
   "cell_type": "code",
   "execution_count": 7,
   "metadata": {},
   "outputs": [
    {
     "name": "stdout",
     "output_type": "stream",
     "text": [
      "Caractères de ponctuations :  !\"#$%&'()*+,-./:;<=>?@[\\]^_`{|}~\n",
      "Mise en minuscules (pour homogénéiser l'écriture :  may the force be with you!\n",
      "Découper une phrase avec espace (retourne une liste): ['LU3IN026', 'est', \"l'UE\", \"d'IA\", 'et', 'Sciences', 'des', 'données.']\n",
      "Découper une phrase avec apostrophe (retourne une liste): ['LU3IN026 est l', 'UE d', 'IA et Sciences des données.']\n"
     ]
    }
   ],
   "source": [
    "import string\n",
    "\n",
    "print(\"Caractères de ponctuations : \", string.punctuation)\n",
    "\n",
    "print(\"Mise en minuscules (pour homogénéiser l'écriture : \", \"May the Force be with you!\".lower())\n",
    "\n",
    "print(\"Découper une phrase avec espace (retourne une liste):\", \"LU3IN026 est l'UE d'IA et Sciences des données.\".split())\n",
    "\n",
    "print(\"Découper une phrase avec apostrophe (retourne une liste):\", \"LU3IN026 est l'UE d'IA et Sciences des données.\".split(\"'\"))\n",
    "\n"
   ]
  },
  {
   "cell_type": "code",
   "execution_count": 8,
   "metadata": {},
   "outputs": [
    {
     "name": "stdout",
     "output_type": "stream",
     "text": [
      "Premier message du train:  Go until jurong point  crazy.. Available only in bugis n great world la e buffet... Cine there got amore wat...\n",
      "Résultat d'un découpage:  ['Go', 'until', 'jurong', 'point', 'crazy..', 'Available', 'only', 'in', 'bugis', 'n', 'great', 'world', 'la', 'e', 'buffet...', 'Cine', 'there', 'got', 'amore', 'wat...']\n"
     ]
    }
   ],
   "source": [
    "# Avec le dataframe du dataset:\n",
    "print(\"Premier message du train: \",df_spam['message'].iloc[0])\n",
    "\n",
    "print(\"Résultat d'un découpage: \",df_spam['message'].iloc[0].split())"
   ]
  },
  {
   "cell_type": "code",
   "execution_count": 9,
   "metadata": {},
   "outputs": [],
   "source": [
    "# Certains éléments d'une phrase ne sont pas utiles pour le traitement, par exemple en anglais:\n",
    "mots_inutiles = ['i', 'me', 'my', 'myself', 'we', 'our', 'ours', 'ourselves', 'you', \"you're\", \"you've\", \"you'll\", \"you'd\", 'your', 'yours', 'yourself', 'yourselves', 'he', 'him', 'his', 'himself', 'she', \"she's\", 'her', 'hers', 'herself', 'it', \"it's\", 'its', 'itself', 'they', 'them', 'their', 'theirs', 'themselves', 'what', 'which', 'who', 'whom', 'this', 'that', \"that'll\", 'these', 'those', 'am', 'is', 'are', 'was', 'were', 'be', 'been', 'being', 'have', 'has', 'had', 'having', 'do', 'does', 'did', 'doing', 'a', 'an', 'the', 'and', 'but', 'if', 'or', 'because', 'as', 'until', 'while', 'of', 'at', 'by', 'for', 'with', 'about', 'against', 'between', 'into', 'through', 'during', 'before', 'after', 'above', 'below', 'to', 'from', 'up', 'down', 'in', 'out', 'on', 'off', 'over', 'under', 'again', 'further', 'then', 'once', 'here', 'there', 'when', 'where', 'why', 'how', 'all', 'any', 'both', 'each', 'few', 'more', 'most', 'other', 'some', 'such', 'no', 'nor', 'not', 'only', 'own', 'same', 'so', 'than', 'too', 'very', 's', 't', 'can', 'will', 'just', 'don', \"don't\", 'should', \"should've\", 'now', 'd', 'll', 'm', 'o', 're', 've', 'y', 'ain', 'aren', \"aren't\", 'couldn', \"couldn't\", 'didn', \"didn't\", 'doesn', \"doesn't\", 'hadn', \"hadn't\", 'hasn', \"hasn't\", 'haven', \"haven't\", 'isn', \"isn't\", 'ma', 'mightn', \"mightn't\", 'mustn', \"mustn't\", 'needn', \"needn't\", 'shan', \"shan't\", 'shouldn', \"shouldn't\", 'wasn', \"wasn't\", 'weren', \"weren't\", 'won', \"won't\", 'wouldn', \"wouldn't\"]"
   ]
  },
  {
   "cell_type": "markdown",
   "metadata": {},
   "source": [
    "<font color=\"RED\" size=\"+1\"><b>[Q]</b></font> Ecrire la fonction `nettoyage` qui prend une chaîne de caractères et rend la chaîne après nettoyage: 1) mise en minuscules 2) remplacement des caractères de ponctuation par un espace (SAUF l'apostrophe qui doit rester car elle va être utilisée pour les mots inutiles).\n"
   ]
  },
  {
   "cell_type": "code",
   "execution_count": 10,
   "metadata": {},
   "outputs": [],
   "source": [
    "import re\n",
    "\n",
    "def nettoyage(chaine, stopwords=None):\n",
    "    # Mise en minuscules\n",
    "    chaine = chaine.lower()\n",
    "    \n",
    "    # Remplacement de la ponctuation sauf l'apostrophe par un espace\n",
    "    ponctuation_sans_apostrophe = string.punctuation.replace(\"'\", \"\")\n",
    "    chaine = re.sub(f\"[{re.escape(ponctuation_sans_apostrophe)}]\", \" \", chaine)\n",
    "    \n",
    "    # Découpage en mots\n",
    "    mots = chaine.split()\n",
    "    \n",
    "    # Suppression des mots inutiles s'ils sont fournis\n",
    "    if stopwords:\n",
    "        mots = [mot for mot in mots if mot not in stopwords]\n",
    "    \n",
    "    return \" \".join(mots)"
   ]
  },
  {
   "cell_type": "code",
   "execution_count": 11,
   "metadata": {},
   "outputs": [
    {
     "data": {
      "text/plain": [
       "\"lu3in026 est l'ue d'ia et sciences des données\""
      ]
     },
     "execution_count": 11,
     "metadata": {},
     "output_type": "execute_result"
    }
   ],
   "source": [
    "nettoyage(\"LU3IN026 est l'UE d'IA et Sciences des données.\")"
   ]
  },
  {
   "cell_type": "code",
   "execution_count": 12,
   "metadata": {},
   "outputs": [
    {
     "data": {
      "text/plain": [
       "'go until jurong point crazy available only in bugis n great world la e buffet cine there got amore wat'"
      ]
     },
     "execution_count": 12,
     "metadata": {},
     "output_type": "execute_result"
    }
   ],
   "source": [
    "nettoyage(df_spam['message'].iloc[0])"
   ]
  },
  {
   "cell_type": "markdown",
   "metadata": {},
   "source": [
    "<font color=\"RED\" size=\"+1\"><b>[Q]</b></font> Ecrire la fonction `text2vect` qui prend une chaîne de caractères ainsi qu'une liste de mots inutiles et rend la liste composée par les mots de cette chaîne obtenus, après son nettoyage et après avoir enlevé les mots inutiles.\n",
    "\n"
   ]
  },
  {
   "cell_type": "code",
   "execution_count": 13,
   "metadata": {},
   "outputs": [],
   "source": [
    "def text2vect(chaine, stopwords=None):\n",
    "    # Mise en minuscules\n",
    "    chaine = chaine.lower()\n",
    "    \n",
    "    # Remplacement de la ponctuation (sauf l'apostrophe) par un espace\n",
    "    ponctuation_sans_apostrophe = string.punctuation.replace(\"'\", \"\")\n",
    "    chaine = re.sub(f\"[{re.escape(ponctuation_sans_apostrophe)}]\", \" \", chaine)\n",
    "    \n",
    "    # Découpage en mots\n",
    "    mots = chaine.split()\n",
    "    \n",
    "    # Suppression des mots inutiles si une liste est fournie\n",
    "    if stopwords:\n",
    "        mots = [mot for mot in mots if mot not in stopwords]\n",
    "    \n",
    "    return mots"
   ]
  },
  {
   "cell_type": "code",
   "execution_count": 14,
   "metadata": {},
   "outputs": [
    {
     "data": {
      "text/plain": [
       "['may', 'force']"
      ]
     },
     "execution_count": 14,
     "metadata": {},
     "output_type": "execute_result"
    }
   ],
   "source": [
    "text2vect(\"May the Force be with you!\",mots_inutiles)"
   ]
  },
  {
   "cell_type": "code",
   "execution_count": 15,
   "metadata": {},
   "outputs": [
    {
     "data": {
      "text/plain": [
       "['pass']"
      ]
     },
     "execution_count": 15,
     "metadata": {},
     "output_type": "execute_result"
    }
   ],
   "source": [
    "text2vect(\"You shan't pass!\",mots_inutiles)"
   ]
  },
  {
   "cell_type": "code",
   "execution_count": 16,
   "metadata": {},
   "outputs": [
    {
     "data": {
      "text/plain": [
       "['go',\n",
       " 'jurong',\n",
       " 'point',\n",
       " 'crazy',\n",
       " 'available',\n",
       " 'bugis',\n",
       " 'n',\n",
       " 'great',\n",
       " 'world',\n",
       " 'la',\n",
       " 'e',\n",
       " 'buffet',\n",
       " 'cine',\n",
       " 'got',\n",
       " 'amore',\n",
       " 'wat']"
      ]
     },
     "execution_count": 16,
     "metadata": {},
     "output_type": "execute_result"
    }
   ],
   "source": [
    "text2vect(df_spam['message'].iloc[0],mots_inutiles)"
   ]
  },
  {
   "cell_type": "markdown",
   "metadata": {},
   "source": [
    "<font color=\"RED\" size=\"+1\"><b>[Q]</b></font> Ajouter une nouvelle colonne de nom `les_mots` au dataframe `df_spam` pour laquelle chaque ligne contient le résultat de l'application de `text2vect` sur le message de l'exemple correspondant.\n"
   ]
  },
  {
   "cell_type": "code",
   "execution_count": 17,
   "metadata": {},
   "outputs": [
    {
     "data": {
      "text/html": [
       "<div>\n",
       "<style scoped>\n",
       "    .dataframe tbody tr th:only-of-type {\n",
       "        vertical-align: middle;\n",
       "    }\n",
       "\n",
       "    .dataframe tbody tr th {\n",
       "        vertical-align: top;\n",
       "    }\n",
       "\n",
       "    .dataframe thead th {\n",
       "        text-align: right;\n",
       "    }\n",
       "</style>\n",
       "<table border=\"1\" class=\"dataframe\">\n",
       "  <thead>\n",
       "    <tr style=\"text-align: right;\">\n",
       "      <th></th>\n",
       "      <th>label</th>\n",
       "      <th>message</th>\n",
       "      <th>les_mots</th>\n",
       "    </tr>\n",
       "  </thead>\n",
       "  <tbody>\n",
       "    <tr>\n",
       "      <th>0</th>\n",
       "      <td>ham</td>\n",
       "      <td>Go until jurong point  crazy.. Available only ...</td>\n",
       "      <td>[go, jurong, point, crazy, available, bugis, n...</td>\n",
       "    </tr>\n",
       "    <tr>\n",
       "      <th>1</th>\n",
       "      <td>ham</td>\n",
       "      <td>Ok lar... Joking wif u oni...</td>\n",
       "      <td>[ok, lar, joking, wif, u, oni]</td>\n",
       "    </tr>\n",
       "    <tr>\n",
       "      <th>2</th>\n",
       "      <td>spam</td>\n",
       "      <td>Free entry in 2 a wkly comp to win FA Cup fina...</td>\n",
       "      <td>[free, entry, 2, wkly, comp, win, fa, cup, fin...</td>\n",
       "    </tr>\n",
       "    <tr>\n",
       "      <th>3</th>\n",
       "      <td>ham</td>\n",
       "      <td>U dun say so early hor... U c already then say...</td>\n",
       "      <td>[u, dun, say, early, hor, u, c, already, say]</td>\n",
       "    </tr>\n",
       "    <tr>\n",
       "      <th>4</th>\n",
       "      <td>ham</td>\n",
       "      <td>Nah I don't think he goes to usf  he lives aro...</td>\n",
       "      <td>[nah, think, goes, usf, lives, around, though]</td>\n",
       "    </tr>\n",
       "    <tr>\n",
       "      <th>...</th>\n",
       "      <td>...</td>\n",
       "      <td>...</td>\n",
       "      <td>...</td>\n",
       "    </tr>\n",
       "    <tr>\n",
       "      <th>5567</th>\n",
       "      <td>spam</td>\n",
       "      <td>This is the 2nd time we have tried 2 contact u...</td>\n",
       "      <td>[2nd, time, tried, 2, contact, u, u, å£750, po...</td>\n",
       "    </tr>\n",
       "    <tr>\n",
       "      <th>5568</th>\n",
       "      <td>ham</td>\n",
       "      <td>Will Ì_ b going to esplanade fr home?</td>\n",
       "      <td>[ì, b, going, esplanade, fr, home]</td>\n",
       "    </tr>\n",
       "    <tr>\n",
       "      <th>5569</th>\n",
       "      <td>ham</td>\n",
       "      <td>Pity  * was in mood for that. So...any other s...</td>\n",
       "      <td>[pity, mood, suggestions]</td>\n",
       "    </tr>\n",
       "    <tr>\n",
       "      <th>5570</th>\n",
       "      <td>ham</td>\n",
       "      <td>The guy did some bitching but I acted like i'd...</td>\n",
       "      <td>[guy, bitching, acted, like, i'd, interested, ...</td>\n",
       "    </tr>\n",
       "    <tr>\n",
       "      <th>5571</th>\n",
       "      <td>ham</td>\n",
       "      <td>Rofl. Its true to its name</td>\n",
       "      <td>[rofl, true, name]</td>\n",
       "    </tr>\n",
       "  </tbody>\n",
       "</table>\n",
       "<p>5572 rows × 3 columns</p>\n",
       "</div>"
      ],
      "text/plain": [
       "     label                                            message  \\\n",
       "0      ham  Go until jurong point  crazy.. Available only ...   \n",
       "1      ham                      Ok lar... Joking wif u oni...   \n",
       "2     spam  Free entry in 2 a wkly comp to win FA Cup fina...   \n",
       "3      ham  U dun say so early hor... U c already then say...   \n",
       "4      ham  Nah I don't think he goes to usf  he lives aro...   \n",
       "...    ...                                                ...   \n",
       "5567  spam  This is the 2nd time we have tried 2 contact u...   \n",
       "5568   ham              Will Ì_ b going to esplanade fr home?   \n",
       "5569   ham  Pity  * was in mood for that. So...any other s...   \n",
       "5570   ham  The guy did some bitching but I acted like i'd...   \n",
       "5571   ham                         Rofl. Its true to its name   \n",
       "\n",
       "                                               les_mots  \n",
       "0     [go, jurong, point, crazy, available, bugis, n...  \n",
       "1                        [ok, lar, joking, wif, u, oni]  \n",
       "2     [free, entry, 2, wkly, comp, win, fa, cup, fin...  \n",
       "3         [u, dun, say, early, hor, u, c, already, say]  \n",
       "4        [nah, think, goes, usf, lives, around, though]  \n",
       "...                                                 ...  \n",
       "5567  [2nd, time, tried, 2, contact, u, u, å£750, po...  \n",
       "5568                 [ì, b, going, esplanade, fr, home]  \n",
       "5569                          [pity, mood, suggestions]  \n",
       "5570  [guy, bitching, acted, like, i'd, interested, ...  \n",
       "5571                                 [rofl, true, name]  \n",
       "\n",
       "[5572 rows x 3 columns]"
      ]
     },
     "execution_count": 17,
     "metadata": {},
     "output_type": "execute_result"
    }
   ],
   "source": [
    "# A COMPLETER \n",
    "\n",
    "# Application de la fonction text2vect à chaque message\n",
    "df_spam['les_mots'] = df_spam['message'].apply(lambda x: text2vect(x, mots_inutiles))\n",
    "\n",
    "# Affichage du dataframe mis à jour\n",
    "df_spam"
   ]
  },
  {
   "cell_type": "markdown",
   "metadata": {},
   "source": [
    "### Découpage du dataset en 2 ensembles train et test"
   ]
  },
  {
   "cell_type": "markdown",
   "metadata": {},
   "source": [
    "<font color=\"RED\" size=\"+1\"><b>[Q]</b></font> Pour mettre au point nos fonctions dans ce TME, on va travailler sur une partie du dataset, par exemple, on peut prendre 5% des exemples (en respectant la distribution des classes, donc en prenant 5% d'exemples de chaque label).\n",
    "Compléter le code ci-dessous pour définir les 2 variables `df_train` et `df_test` qui contiendront chacune 1 dataframe, partie de `df_spam`. Pour construire `df_train` on prend aléatoirement 5% des exemples de chaque classe, comme on l'a déjà fait dans un TME précédent (cf. `np.random.shuffle`).\n"
   ]
  },
  {
   "cell_type": "code",
   "execution_count": 18,
   "metadata": {},
   "outputs": [
    {
     "name": "stdout",
     "output_type": "stream",
     "text": [
      "Nombre d'exemples du label ham pris pour apprendre: 241\n",
      "Nombre d'exemples du label spam pris pour apprendre: 37\n",
      "Dimension de df_train:\t(278, 3)\n",
      "Dimension de df_test:\t(5294, 3)\n"
     ]
    }
   ],
   "source": [
    "np.random.seed(42)  # Pour reproductibilité\n",
    "\n",
    "# Pourcentage d'exemples de chaque classe à garder :\n",
    "taux = 0.05  # 5%\n",
    "\n",
    "# Déclaration des variables qui seront initialisées dans la boucle :\n",
    "df_train = pd.DataFrame()  \n",
    "df_test = pd.DataFrame()\n",
    "\n",
    "for l in les_labels:\n",
    "    nb_total = df_spam['label'].value_counts()[l]  # Nombre total d'exemples pour la classe l\n",
    "    nb_pris = int(nb_total * taux)  # Nombre d'exemples à prendre pour l'entraînement\n",
    "    print(f\"Nombre d'exemples du label {l} pris pour apprendre: {nb_pris}\")\n",
    "\n",
    "    # Récupération des indices des exemples de cette classe\n",
    "    les_ids = df_spam[df_spam['label'] == l].index.to_list()\n",
    "    \n",
    "    # Mélanger les indices aléatoirement\n",
    "    np.random.shuffle(les_ids)\n",
    "\n",
    "    # Séparer les indices pour l'entraînement et le test\n",
    "    ids_train = les_ids[:nb_pris]  # 5% pour l'entraînement\n",
    "    ids_test = les_ids[nb_pris:]   # Le reste pour le test\n",
    "\n",
    "    # Ajouter les données correspondantes aux DataFrames\n",
    "    df_train = pd.concat([df_train, df_spam.loc[ids_train]], ignore_index=True)\n",
    "    df_test = pd.concat([df_test, df_spam.loc[ids_test]], ignore_index=True)\n",
    "\n",
    "# Résultat :\n",
    "print(f\"Dimension de df_train:\\t{df_train.shape}\")\n",
    "print(f\"Dimension de df_test:\\t{df_test.shape}\")"
   ]
  },
  {
   "cell_type": "code",
   "execution_count": 19,
   "metadata": {},
   "outputs": [
    {
     "data": {
      "text/html": [
       "<div>\n",
       "<style scoped>\n",
       "    .dataframe tbody tr th:only-of-type {\n",
       "        vertical-align: middle;\n",
       "    }\n",
       "\n",
       "    .dataframe tbody tr th {\n",
       "        vertical-align: top;\n",
       "    }\n",
       "\n",
       "    .dataframe thead th {\n",
       "        text-align: right;\n",
       "    }\n",
       "</style>\n",
       "<table border=\"1\" class=\"dataframe\">\n",
       "  <thead>\n",
       "    <tr style=\"text-align: right;\">\n",
       "      <th></th>\n",
       "      <th>label</th>\n",
       "      <th>message</th>\n",
       "      <th>les_mots</th>\n",
       "    </tr>\n",
       "  </thead>\n",
       "  <tbody>\n",
       "    <tr>\n",
       "      <th>0</th>\n",
       "      <td>ham</td>\n",
       "      <td>I am late so call you tomorrow morning.take ca...</td>\n",
       "      <td>[late, call, tomorrow, morning, take, care, sw...</td>\n",
       "    </tr>\n",
       "    <tr>\n",
       "      <th>1</th>\n",
       "      <td>ham</td>\n",
       "      <td>U r too much close to my heart. If u go away i...</td>\n",
       "      <td>[u, r, much, close, heart, u, go, away, shatte...</td>\n",
       "    </tr>\n",
       "    <tr>\n",
       "      <th>2</th>\n",
       "      <td>ham</td>\n",
       "      <td>Wait  &amp;lt;#&amp;gt;  min..</td>\n",
       "      <td>[wait, lt, gt, min]</td>\n",
       "    </tr>\n",
       "    <tr>\n",
       "      <th>3</th>\n",
       "      <td>ham</td>\n",
       "      <td>Can you call me plz. Your number shows out of ...</td>\n",
       "      <td>[call, plz, number, shows, coveragd, area, urg...</td>\n",
       "    </tr>\n",
       "    <tr>\n",
       "      <th>4</th>\n",
       "      <td>ham</td>\n",
       "      <td>MAYBE IF YOU WOKE UP BEFORE FUCKING 3 THIS WOU...</td>\n",
       "      <td>[maybe, woke, fucking, 3, problem]</td>\n",
       "    </tr>\n",
       "    <tr>\n",
       "      <th>...</th>\n",
       "      <td>...</td>\n",
       "      <td>...</td>\n",
       "      <td>...</td>\n",
       "    </tr>\n",
       "    <tr>\n",
       "      <th>273</th>\n",
       "      <td>spam</td>\n",
       "      <td>This is the 2nd time we have tried 2 contact u...</td>\n",
       "      <td>[2nd, time, tried, 2, contact, u, u, 750, poun...</td>\n",
       "    </tr>\n",
       "    <tr>\n",
       "      <th>274</th>\n",
       "      <td>spam</td>\n",
       "      <td>3 FREE TAROT TEXTS! Find out about your love l...</td>\n",
       "      <td>[3, free, tarot, texts, find, love, life, try,...</td>\n",
       "    </tr>\n",
       "    <tr>\n",
       "      <th>275</th>\n",
       "      <td>spam</td>\n",
       "      <td>Do you want a new Video phone? 600 anytime any...</td>\n",
       "      <td>[want, new, video, phone, 600, anytime, networ...</td>\n",
       "    </tr>\n",
       "    <tr>\n",
       "      <th>276</th>\n",
       "      <td>spam</td>\n",
       "      <td>Had your mobile 10 mths? Update to latest Oran...</td>\n",
       "      <td>[mobile, 10, mths, update, latest, orange, cam...</td>\n",
       "    </tr>\n",
       "    <tr>\n",
       "      <th>277</th>\n",
       "      <td>spam</td>\n",
       "      <td>Valentines Day Special! Win over å£1000 in our...</td>\n",
       "      <td>[valentines, day, special, win, å£1000, quiz, ...</td>\n",
       "    </tr>\n",
       "  </tbody>\n",
       "</table>\n",
       "<p>278 rows × 3 columns</p>\n",
       "</div>"
      ],
      "text/plain": [
       "    label                                            message  \\\n",
       "0     ham  I am late so call you tomorrow morning.take ca...   \n",
       "1     ham  U r too much close to my heart. If u go away i...   \n",
       "2     ham                             Wait  &lt;#&gt;  min..   \n",
       "3     ham  Can you call me plz. Your number shows out of ...   \n",
       "4     ham  MAYBE IF YOU WOKE UP BEFORE FUCKING 3 THIS WOU...   \n",
       "..    ...                                                ...   \n",
       "273  spam  This is the 2nd time we have tried 2 contact u...   \n",
       "274  spam  3 FREE TAROT TEXTS! Find out about your love l...   \n",
       "275  spam  Do you want a new Video phone? 600 anytime any...   \n",
       "276  spam  Had your mobile 10 mths? Update to latest Oran...   \n",
       "277  spam  Valentines Day Special! Win over å£1000 in our...   \n",
       "\n",
       "                                              les_mots  \n",
       "0    [late, call, tomorrow, morning, take, care, sw...  \n",
       "1    [u, r, much, close, heart, u, go, away, shatte...  \n",
       "2                                  [wait, lt, gt, min]  \n",
       "3    [call, plz, number, shows, coveragd, area, urg...  \n",
       "4                   [maybe, woke, fucking, 3, problem]  \n",
       "..                                                 ...  \n",
       "273  [2nd, time, tried, 2, contact, u, u, 750, poun...  \n",
       "274  [3, free, tarot, texts, find, love, life, try,...  \n",
       "275  [want, new, video, phone, 600, anytime, networ...  \n",
       "276  [mobile, 10, mths, update, latest, orange, cam...  \n",
       "277  [valentines, day, special, win, å£1000, quiz, ...  \n",
       "\n",
       "[278 rows x 3 columns]"
      ]
     },
     "execution_count": 19,
     "metadata": {},
     "output_type": "execute_result"
    }
   ],
   "source": [
    "df_train"
   ]
  },
  {
   "cell_type": "markdown",
   "metadata": {},
   "source": [
    "## Calculs de probabilités\n",
    "\n",
    "À partir d'ici on va travailler sur les données d'apprentissage (`df_train`) pour déterminer les probabilités qui serviront à classer les messages."
   ]
  },
  {
   "cell_type": "markdown",
   "metadata": {},
   "source": [
    "<font color=\"RED\" size=\"+1\"><b>[Q]</b></font> Construire la liste de tous les mots présents dans tous les vecteurs de `df_train`, chaque mots doit n'apparaître qu'une seule fois dans la liste obtenue. Cette liste sera stockée une fois triée dans la variable `index_mots` (et on l'appelle par la suite \"index de mots\").\n"
   ]
  },
  {
   "cell_type": "code",
   "execution_count": 20,
   "metadata": {},
   "outputs": [],
   "source": [
    "index_mots = sorted(set(word for mots in df_train['les_mots'] for word in mots))\n"
   ]
  },
  {
   "cell_type": "code",
   "execution_count": 21,
   "metadata": {},
   "outputs": [
    {
     "name": "stdout",
     "output_type": "stream",
     "text": [
      "Nombre de mots trouvés:  1377\n",
      "Les 10 premiers : [\"'\", \"'t\", '0', '00', '01223585334', '0207', '03', '07801543489', '0800', '08000930705']\n",
      "\ten position  30  -->  10p\n",
      "\ten position  130  -->  al\n",
      "\ten position  230  -->  brain\n",
      "\ten position  330  -->  considering\n",
      "\ten position  430  -->  emerging\n",
      "\ten position  530  -->  go\n",
      "\ten position  630  -->  interesting\n",
      "\ten position  730  -->  lucky\n",
      "\ten position  830  -->  next\n",
      "\ten position  930  -->  porn\n",
      "\ten position  1030  -->  screaming\n",
      "\ten position  1130  -->  sub\n",
      "\ten position  1230  -->  tv\n",
      "\ten position  1330  -->  workin\n"
     ]
    }
   ],
   "source": [
    "\n",
    "print(\"Nombre de mots trouvés: \", len(index_mots))\n",
    "print(\"Les 10 premiers :\", index_mots[0:10]) \n",
    "\n",
    "# pour contrôler:\n",
    "for i in range(30,len(index_mots),100):\n",
    "    print(\"\\ten position \",i,\" --> \", index_mots[i])\n"
   ]
  },
  {
   "cell_type": "markdown",
   "metadata": {},
   "source": [
    "Chaque message va maintenant être représenté comme un vecteur de valeurs 0 ou 1: ce vecteur possède autant de colonnes qu'il y a de mots dans `index_mots`. Ce vecteur est construit ainsi: pour un exemple $i$, la valeur de la colonne $j$ du vecteur vaudra 1 si la liste de mots de l'exemple $i$ contient le mot en position $j$ dans `index_mots`, ou 0 dans le cas contraire.\n",
    "\n",
    "*Remarque:* même si un mot apparaît plusieurs fois dans la liste, cela ne compte que pour 1.\n",
    "\n",
    "<font color=\"RED\" size=\"+1\"><b>[Q]</b></font> Ecrire la fonction `df2array` qui prend un dataframe `df` contenant la colonne `les_mots` ainsi qu'un index de mots et rend le `np.array` correspondant aux vecteurs de valeurs représentant les exemples de `df`. Les mots de `les_mots` qui ne sont pas dans l'index de mots ne sont pas pris en compte.  \n"
   ]
  },
  {
   "cell_type": "code",
   "execution_count": 22,
   "metadata": {},
   "outputs": [],
   "source": [
    "def df2array(df, index_mots):\n",
    "    \"\"\"\n",
    "    Convertit un DataFrame en un tableau NumPy binaire basé sur l'index de mots.\n",
    "    \n",
    "    Args:\n",
    "        df (pd.DataFrame): DataFrame contenant une colonne 'les_mots' (liste de mots par message).\n",
    "        index_mots (list): Liste triée des mots uniques utilisés comme index.\n",
    "\n",
    "    Returns:\n",
    "        np.array: Matrice binaire (n_samples, n_mots) où chaque ligne représente un message.\n",
    "    \"\"\"\n",
    "    # Création d'une matrice de zéros de taille (nombre d'exemples, taille du vocabulaire)\n",
    "    matrice = np.zeros((len(df), len(index_mots)), dtype=int)\n",
    "    \n",
    "    # Construction d'un dictionnaire pour accéder rapidement aux indices des mots\n",
    "    index_dict = {mot: i for i, mot in enumerate(index_mots)}\n",
    "    \n",
    "    # Remplissage de la matrice\n",
    "    for i, mots in enumerate(df['les_mots']):\n",
    "        for mot in mots:\n",
    "            if mot in index_dict:  # Vérifie si le mot est dans l'index\n",
    "                matrice[i, index_dict[mot]] = 1  # Marque la présence du mot\n",
    "    \n",
    "    return matrice\n"
   ]
  },
  {
   "cell_type": "code",
   "execution_count": 23,
   "metadata": {},
   "outputs": [],
   "source": [
    "mat_train = df2array(df_train,index_mots)"
   ]
  },
  {
   "cell_type": "code",
   "execution_count": 24,
   "metadata": {},
   "outputs": [
    {
     "data": {
      "text/plain": [
       "(278, 1377)"
      ]
     },
     "execution_count": 24,
     "metadata": {},
     "output_type": "execute_result"
    }
   ],
   "source": [
    "mat_train.shape"
   ]
  },
  {
   "cell_type": "code",
   "execution_count": 25,
   "metadata": {},
   "outputs": [
    {
     "name": "stdout",
     "output_type": "stream",
     "text": [
      "Message 0: ['late', 'call', 'tomorrow', 'morning', 'take', 'care', 'sweet', 'dreams', 'u', 'ummifying', 'bye']\n",
      "\n",
      "Positions non nulles dans le vecteur d'index:\n",
      "\tcolonne  245  :  bye\n",
      "\tcolonne  248  :  call\n",
      "\tcolonne  265  :  care\n",
      "\tcolonne  412  :  dreams\n",
      "\tcolonne  679  :  late\n",
      "\tcolonne  791  :  morning\n",
      "\tcolonne  1150  :  sweet\n",
      "\tcolonne  1154  :  take\n",
      "\tcolonne  1209  :  tomorrow\n",
      "\tcolonne  1238  :  u\n",
      "\tcolonne  1244  :  ummifying\n"
     ]
    }
   ],
   "source": [
    "print(\"Message 0:\", df_train['les_mots'].iloc[0])\n",
    "\n",
    "print(\"\\nPositions non nulles dans le vecteur d'index:\")\n",
    "\n",
    "for i in range(0, len(mat_train[0])):\n",
    "    if mat_train[0][i] == 1:\n",
    "        print(\"\\tcolonne \",i,\" : \", index_mots[i])\n",
    "    "
   ]
  },
  {
   "cell_type": "code",
   "execution_count": 26,
   "metadata": {},
   "outputs": [
    {
     "data": {
      "text/plain": [
       "241"
      ]
     },
     "execution_count": 26,
     "metadata": {},
     "output_type": "execute_result"
    }
   ],
   "source": [
    "# on se rappelle qu'il est possible d'extraire les vecteurs correspondant à un label donné, par exemple:\n",
    "len(mat_train[df_train['label']=='ham'])"
   ]
  },
  {
   "cell_type": "markdown",
   "metadata": {},
   "source": [
    "<font color=\"RED\" size=\"+1\"><b>[Q]</b></font> Construire un dictionnaire qui donne, pour chaque label $l$, pour chaque mot $m$ de l'index des mots, la fréquence de $m$ parmi les exemples de `df_train` qui ont le label $l$.\n",
    "\n",
    "\n",
    "*Remarque*: penser à une solution dans boucle for sur les exemples...\n"
   ]
  },
  {
   "cell_type": "code",
   "execution_count": 27,
   "metadata": {},
   "outputs": [],
   "source": [
    "# Initialisation du dictionnaire de fréquences\n",
    "frequences = dict()\n",
    "\n",
    "# Boucle sur chaque label ('ham', 'spam')\n",
    "for l in les_labels:\n",
    "    # Initialisation des fréquences des mots pour le label l\n",
    "    frequences[l] = [0] * len(index_mots)\n",
    "    \n",
    "    # Sélection des exemples avec le label l\n",
    "    exemples_label_l = df_train[df_train['label'] == l]\n",
    "    \n",
    "    # Boucle sur chaque exemple du label l\n",
    "    for _, row in exemples_label_l.iterrows():\n",
    "        mots_message = set(row['les_mots'])\n",
    "        for mot in mots_message:\n",
    "            if mot in index_mots:\n",
    "                index = index_mots.index(mot)\n",
    "                frequences[l][index] += 1\n",
    "\n",
    "    sum_frequencies = len(mat_train[df_train['label']=='ham']) + len(mat_train[df_train['label']=='spam'])\n",
    "    if sum_frequencies > 0:\n",
    "        for j in range(len(frequences[l])):\n",
    "            frequences[l][j] /= sum_frequencies\n"
   ]
  },
  {
   "cell_type": "code",
   "execution_count": 28,
   "metadata": {},
   "outputs": [
    {
     "name": "stdout",
     "output_type": "stream",
     "text": [
      "Seuls les 10 premiers non nuls sont affichés.\n",
      "Pour le label ham :\n",
      "\t ':\t 0.003597\n",
      "\t 't:\t 0.003597\n",
      "\t 1:\t 0.014388\n",
      "\t 100:\t 0.003597\n",
      "\t 1st:\t 0.003597\n",
      "\t 2:\t 0.050360\n",
      "\t 2marrow:\t 0.003597\n",
      "\t 2nd:\t 0.003597\n",
      "\t 3:\t 0.017986\n",
      "\t 30:\t 0.003597\n",
      "Pour le label spam :\n",
      "\t 0:\t 0.003597\n",
      "\t 00:\t 0.007194\n",
      "\t 01223585334:\t 0.003597\n",
      "\t 0207:\t 0.003597\n",
      "\t 03:\t 0.003597\n",
      "\t 07801543489:\t 0.003597\n",
      "\t 0800:\t 0.003597\n",
      "\t 08000930705:\t 0.007194\n",
      "\t 08000938767:\t 0.003597\n",
      "\t 08002888812:\t 0.003597\n"
     ]
    }
   ],
   "source": [
    "# Affichage de quelques valeurs de fréquence non nulles \n",
    "print(\"Seuls les 10 premiers non nuls sont affichés.\")        \n",
    "for l in frequences:\n",
    "    nb= 0\n",
    "    print(\"Pour le label\",l, \":\")\n",
    "    for j in range(0,len(frequences[l])):\n",
    "        if frequences[l][j] != 0:\n",
    "            if (nb < 10):\n",
    "                print(f'\\t {index_mots[j]}:\\t {frequences[l][j]:0.6f}')\n",
    "            nb +=1"
   ]
  },
  {
   "cell_type": "code",
   "execution_count": 29,
   "metadata": {},
   "outputs": [
    {
     "name": "stdout",
     "output_type": "stream",
     "text": [
      "Frequences max:\n",
      "\tpour ham: 0.1618705035971223 pour le mot u\n",
      "\tpour spam: 0.06474820143884892 pour le mot call\n"
     ]
    }
   ],
   "source": [
    "print(\"Frequences max:\")\n",
    "print(\"\\tpour ham:\", max(frequences['ham']), \"pour le mot\",index_mots[np.argmax(frequences['ham'])])\n",
    "print(\"\\tpour spam:\", max(frequences['spam']), \"pour le mot\",index_mots[np.argmax(frequences['spam'])])\n"
   ]
  },
  {
   "cell_type": "markdown",
   "metadata": {},
   "source": [
    "## Classification de textes\n",
    "\n",
    "<div class=\"alert alert-block alert-warning\">\n",
    "On considère deux variables $X$ et $Y$ :\n",
    "    <ul>\n",
    "        <li>$X$ est un message</li>\n",
    "        <li>$Y$ est le label d'un message et peut prendre 2 valeurs : <code>'ham'</code> et <code>'spam'</code></li>\n",
    "    </ul>\n",
    "\n",
    "Avec les fonctions précédentes on peut représenter les messages d'un corpus de documents sous la forme d'un vecteur $X \\in \\{0, 1\\}^p$ où $p$ est le nombre total de mots de l'index. Le $i$ème message est représenté par le vecteur ${\\bf x}_i = [x_{i1} \\dots x_{ip}]$, où $x_{ij}$ vaut 1 si le $j$ème mot de l'index est présent dans le message $i$, et 0 sinon.\n",
    "    \n",
    "Comme vu en cours, pour un classifieur bayésien, nous devons estimer, à partir de la base <code>df_train</code>, les probabilités $p(ham)$, $p(spam)$, $p(X |ham)$ et $p(X | spam)$.\n",
    "\n",
    "Les 2 premières sont simples à calculer : on compte le nombre de fois où le label apparaît parmi les exemples.\n",
    "\n",
    "Pour un label $Y$ et un exemple ${\\bf x}$, le calcul de $p({\\bf x} | Y)$ se fait en utilisant les probabilités $p(mot | Y)$ de tous les mots qui composent ${\\bf x}$ (et qui sont des mots de l'index des mots). $p(mot | Y)$ est la probabilité que le mot <code>mot</code> apparaisse dans un message sachant que ce message appartient à la classe $Y$.\n",
    "    \n",
    "On pose ainsi\n",
    "\n",
    "$$ p({\\bf x} | Y) = \\prod_{mot \\in index\\_mots} p(mot | Y)^{x_{mot}} \\left(1 - p(mot | Y)\\right)^{1 - x_{mot}} $$\n",
    "\n",
    "où $x_{mot}$ correspond à $1$ ou $0$ selon que le `mot` apparaît dans ${\\bf x}$ ou pas. Ce terme permet de retenir soit la probabilité $p(mot | Y)$ si le mot est dans ${\\bf x}$, soit la probabilité qu'il n'y soit pas ($1-p(mot |Y)$).\n",
    "    \n",
    "Une fois que $p({\\bf x} | Y)$ est calculée, on peut estimer $p(Y|X)$ grâce au théorème de Bayes (cf. cours 6):\n",
    "\n",
    "$$p(Y|{\\bf x}) = p(Y) p({\\bf x} | Y)$$\n",
    "\n",
    "avec $Y$ qui vaut soit 'ham', soit 'spam'.    \n",
    "\n",
    "    \n",
    "Une fois $p(Y{{\\bf x}})$ calculée pour chaque valeur de label, pour prédire le label de ${\\bf x}$ on choisit le label qui possède la plus forte probabilité.\n",
    "</div>"
   ]
  },
  {
   "cell_type": "code",
   "execution_count": 30,
   "metadata": {},
   "outputs": [
    {
     "name": "stdout",
     "output_type": "stream",
     "text": [
      "p(ham ) = 0.8669\n",
      "p(spam) = 0.1331\n"
     ]
    }
   ],
   "source": [
    "for l in ['ham', 'spam']:\n",
    "    proba = len(df_train[df_train['label'] == l]) / len(df_train)\n",
    "    print(f'p({l:4}) = {proba:0.4f}')\n"
   ]
  },
  {
   "cell_type": "markdown",
   "metadata": {},
   "source": [
    "<font color=\"RED\" size=\"+1\"><b>[Q]</b></font> Ecrire la fonction `proba_mot` qui étant donné un mot, un label, une liste de mots, et un dictionnaire avec les fréquences des mots par label (comme `frequences` et compatible avec la liste de mots) rend $p(mot| label)$ la probabilité du mot d'appartenir au label donné.\n"
   ]
  },
  {
   "cell_type": "code",
   "execution_count": 31,
   "metadata": {},
   "outputs": [
    {
     "name": "stdout",
     "output_type": "stream",
     "text": [
      "0.0\n"
     ]
    }
   ],
   "source": [
    "def proba_mot(mot, label, index_mots, frequences):\n",
    "    \"\"\"\n",
    "    Calcule la probabilité p(mot | label), c'est-à-dire la probabilité qu'un mot apparaisse \n",
    "    dans un message sachant qu'il appartient à une classe donnée.\n",
    "\n",
    "    Arguments :\n",
    "    mot         -- (str) Le mot dont on veut estimer la probabilité conditionnelle\n",
    "    label       -- (str) Le label ('ham' ou 'spam')\n",
    "    index_mots  -- (list) Liste des mots de l'index\n",
    "    frequences  -- (dict) Dictionnaire des fréquences des mots par label, stockées sous forme de liste\n",
    "\n",
    "    Retour :\n",
    "    float -- La probabilité p(mot | label)\n",
    "    \"\"\"\n",
    "    if label not in frequences:\n",
    "        return 0.0\n",
    "    \n",
    "    if mot in index_mots:\n",
    "        index = index_mots.index(mot)  # Trouver l'index du mot dans la liste index_mots\n",
    "        return frequences[label][index]  # Accéder à la probabilité correspondante dans la liste\n",
    "    else:\n",
    "        return 0.0\n",
    "\n",
    "# Exemple de test\n",
    "try:\n",
    "    print(proba_mot(\"visit\", \"cookie\", index_mots, frequences))  # Devrait lever une erreur\n",
    "except ValueError as e:\n",
    "    print(e)  # Affiche le message d'erreur"
   ]
  },
  {
   "cell_type": "code",
   "execution_count": 32,
   "metadata": {},
   "outputs": [
    {
     "data": {
      "text/plain": [
       "0.0"
      ]
     },
     "execution_count": 32,
     "metadata": {},
     "output_type": "execute_result"
    }
   ],
   "source": [
    "# probabilité d'un mot qui n'est pas dans l'index:\n",
    "proba_mot(\"toto\", \"ham\", index_mots, frequences)"
   ]
  },
  {
   "cell_type": "code",
   "execution_count": 33,
   "metadata": {},
   "outputs": [
    {
     "data": {
      "text/plain": [
       "0.0"
      ]
     },
     "execution_count": 33,
     "metadata": {},
     "output_type": "execute_result"
    }
   ],
   "source": [
    "# probabilité d'un mot de l'index pour un label qui n'existe pas:\n",
    "proba_mot(\"visit\", \"cookie\", index_mots, frequences)"
   ]
  },
  {
   "cell_type": "code",
   "execution_count": 34,
   "metadata": {},
   "outputs": [
    {
     "data": {
      "text/plain": [
       "0.046762589928057555"
      ]
     },
     "execution_count": 34,
     "metadata": {},
     "output_type": "execute_result"
    }
   ],
   "source": [
    "# probabilité d'un mot de l'index pour un label qui existe:\n",
    "proba_mot(\"call\", \"ham\", index_mots, frequences)"
   ]
  },
  {
   "cell_type": "code",
   "execution_count": 35,
   "metadata": {},
   "outputs": [
    {
     "data": {
      "text/plain": [
       "0.06474820143884892"
      ]
     },
     "execution_count": 35,
     "metadata": {},
     "output_type": "execute_result"
    }
   ],
   "source": [
    "# probabilité d'un mot de l'index pour un label qui existe:\n",
    "proba_mot(\"call\", \"spam\", index_mots, frequences)"
   ]
  },
  {
   "cell_type": "markdown",
   "metadata": {},
   "source": [
    "<font color=\"RED\" size=\"+1\"><b>[Q]</b></font> Ecrire la fonction `proba_exemple` qui étant donné un exemple représenté sous la forme d'une liste de mots, un label, une liste de mots, et un dictionnaire comme `frequences` (compatible avec la liste de mots) rend $p(exemple|label)$ la probabilité de l'exemple d'appartenir au label.\n"
   ]
  },
  {
   "cell_type": "code",
   "execution_count": 36,
   "metadata": {},
   "outputs": [],
   "source": [
    "def proba_exemple(exemple, label, index_mots, frequences):\n",
    "    \"\"\"\n",
    "    Calcule la probabilité p(exemple | label), c'est-à-dire la probabilité qu'un message \n",
    "    appartienne à une classe donnée en fonction des mots qu'il contient.\n",
    "\n",
    "    Arguments :\n",
    "    exemple     -- (list) Liste des mots du message\n",
    "    label       -- (str) Le label ('ham' ou 'spam')\n",
    "    index_mots  -- (list) Liste des mots de l'index\n",
    "    frequences  -- (dict) Dictionnaire des fréquences des mots par label\n",
    "\n",
    "    Retour :\n",
    "    float -- La probabilité p(exemple | label)\n",
    "    \"\"\"\n",
    "    if label not in frequences:\n",
    "        raise ValueError(f\"Label inconnu: {label}. Labels possibles: {list(frequences.keys())}\")\n",
    "\n",
    "    prob = 1.0  # On initialise la probabilité totale à 1\n",
    "    for mot in index_mots:  # Parcours de tous les mots de l'index\n",
    "        p_mot_label = proba_mot(mot, label, index_mots, frequences)  # Probabilité du mot pour ce label\n",
    "        \n",
    "        if mot in exemple:  # Si le mot est présent dans l'exemple\n",
    "            prob *= p_mot_label if p_mot_label > 0 else 1e-10  # Évite les zéros (lissage)\n",
    "        else:  # Si le mot n'est pas dans l'exemple\n",
    "            prob *= (1 - p_mot_label) if (1 - p_mot_label) > 0 else 1e-10  # Évite les zéros\n",
    "\n",
    "    return prob"
   ]
  },
  {
   "cell_type": "code",
   "execution_count": 37,
   "metadata": {},
   "outputs": [
    {
     "data": {
      "text/plain": [
       "2.1316038568344261e-16"
      ]
     },
     "execution_count": 37,
     "metadata": {},
     "output_type": "execute_result"
    }
   ],
   "source": [
    "proba_exemple(df_train['les_mots'].iloc[10], 'ham', index_mots,frequences)"
   ]
  },
  {
   "cell_type": "code",
   "execution_count": 38,
   "metadata": {},
   "outputs": [
    {
     "name": "stdout",
     "output_type": "stream",
     "text": [
      "Exemple 0 : p(ham)= 1.164955756737393e-23 \tp(spam)= 1.4595179541817965e-79\n",
      "Exemple 1 : p(ham)= 1.5565002136037318e-22 \tp(spam)= 1.1721703626275303e-85\n",
      "Exemple 2 : p(ham)= 1.0781992278896756e-10 \tp(spam)= 3.188472652825244e-34\n",
      "Exemple 3 : p(ham)= 2.097655209063231e-29 \tp(spam)= 7.968968029832606e-98\n",
      "Exemple 4 : p(ham)= 7.642382973891961e-14 \tp(spam)= 6.400050179946332e-44\n",
      "Exemple 5 : p(ham)= 1.0296306439439477e-33 \tp(spam)= 1.9482505694836607e-123\n",
      "Exemple 6 : p(ham)= 1.924376175409075e-55 \tp(spam)= 3.3574401069433055e-212\n",
      "Exemple 7 : p(ham)= 2.099159632352872e-30 \tp(spam)= 6.4000501799463174e-114\n",
      "Exemple 8 : p(ham)= 2.6297307381977156e-08 \tp(spam)= 3.188472652825249e-14\n",
      "Exemple 9 : p(ham)= 3.9066589966635926e-17 \tp(spam)= 7.033395557702747e-56\n",
      "Exemple 10 : p(ham)= 2.1316038568344261e-16 \tp(spam)= 1.1510731598647096e-46\n",
      "Exemple 11 : p(ham)= 1.7725154407193735e-09 \tp(spam)= 3.1884726528252445e-24\n",
      "Exemple 12 : p(ham)= 3.212123616578139e-68 \tp(spam)= 1.2076488517413165e-254\n",
      "Exemple 13 : p(ham)= 4.0276007930400946e-23 \tp(spam)= 2.084698380639513e-62\n",
      "Exemple 14 : p(ham)= 9.771768453518407e-31 \tp(spam)= 8.83206924832593e-122\n",
      "Exemple 15 : p(ham)= 3.0930648454688105e-37 \tp(spam)= 1.0940726105454285e-132\n",
      "Exemple 16 : p(ham)= 1.1523816223875858e-26 \tp(spam)= 3.1884726528252423e-104\n",
      "Exemple 17 : p(ham)= 4.269949746442623e-40 \tp(spam)= 5.0966634476106996e-158\n",
      "Exemple 18 : p(ham)= 1.8272481295497778e-23 \tp(spam)= 1.500180062120855e-81\n",
      "Exemple 19 : p(ham)= 1.3101185627122166e-08 \tp(spam)= 8.832069248325927e-22\n",
      "Exemple 20 : p(ham)= 3.322951611604117e-16 \tp(spam)= 8.832069248325914e-62\n",
      "Exemple 21 : p(ham)= 4.66592237725849e-25 \tp(spam)= 1.4117757749881587e-95\n",
      "Exemple 22 : p(ham)= 4.729669901488146e-11 \tp(spam)= 8.832069248325924e-32\n",
      "Exemple 23 : p(ham)= 2.7369637686254597e-28 \tp(spam)= 1.1510731598647078e-96\n",
      "Exemple 24 : p(ham)= 7.250806031394304e-10 \tp(spam)= 6.400050179946324e-24\n",
      "Exemple 25 : p(ham)= 2.6297307381977156e-08 \tp(spam)= 8.832069248325927e-22\n",
      "Exemple 26 : p(ham)= 6.770893167059079e-19 \tp(spam)= 4.637717521700235e-66\n",
      "Exemple 27 : p(ham)= 6.543090685416183e-17 \tp(spam)= 4.792874371632573e-65\n",
      "Exemple 28 : p(ham)= 1.0264492862413059e-13 \tp(spam)= 8.832069248325936e-52\n",
      "Exemple 29 : p(ham)= 1.7930357236247494e-36 \tp(spam)= 2.471439956768028e-130\n",
      "Exemple 30 : p(ham)= 1.5994425069252123e-11 \tp(spam)= 6.400050179946316e-34\n",
      "Exemple 31 : p(ham)= 1.0036076446051544e-15 \tp(spam)= 8.832069248325926e-62\n",
      "Exemple 32 : p(ham)= 5.1675676172501615e-27 \tp(spam)= 1.1510731598647089e-96\n",
      "Exemple 33 : p(ham)= 7.008853169187894e-07 \tp(spam)= 1.6175951004259943e-13\n",
      "Exemple 34 : p(ham)= 4.394660342659279e-12 \tp(spam)= 1.1510731598647105e-26\n",
      "Exemple 35 : p(ham)= 1.586519979299383e-14 \tp(spam)= 2.3104874295835106e-36\n",
      "Exemple 36 : p(ham)= 3.625618354029269e-17 \tp(spam)= 3.4783338030820837e-46\n",
      "Exemple 37 : p(ham)= 1.332126456811454e-19 \tp(spam)= 1.9482505694836623e-73\n",
      "Exemple 38 : p(ham)= 1.783370119171307e-19 \tp(spam)= 3.4783338030820837e-66\n",
      "Exemple 39 : p(ham)= 1.1291200909935952e-15 \tp(spam)= 8.83206924832593e-62\n",
      "Exemple 40 : p(ham)= 1.6790470251387142e-53 \tp(spam)= 6.949717888275895e-220\n",
      "Exemple 41 : p(ham)= 1.2372913465934556e-15 \tp(spam)= 8.832069248325926e-52\n",
      "Exemple 42 : p(ham)= 5.666909165557021e-12 \tp(spam)= 8.832069248325921e-42\n",
      "Exemple 43 : p(ham)= 6.347682822832489e-09 \tp(spam)= 8.832069248325931e-32\n",
      "Exemple 44 : p(ham)= 5.779474588527422e-10 \tp(spam)= 1.1510731598647103e-16\n",
      "Exemple 45 : p(ham)= 1.8096480648172178e-25 \tp(spam)= 2.9296121254228815e-109\n",
      "Exemple 46 : p(ham)= 2.1477853449667258e-16 \tp(spam)= 1.599568220480894e-47\n",
      "Exemple 47 : p(ham)= 3.3632594229929754e-05 \tp(spam)= 8.83206924832593e-12\n",
      "Exemple 48 : p(ham)= 3.738869487342413e-15 \tp(spam)= 9.63498463453737e-44\n",
      "Exemple 49 : p(ham)= 6.646572195444763e-08 \tp(spam)= 8.83206924832593e-22\n",
      "Exemple 50 : p(ham)= 8.732956087811649e-10 \tp(spam)= 8.832069248325939e-32\n",
      "Exemple 51 : p(ham)= 1.392086070209471e-15 \tp(spam)= 8.341109854092101e-39\n",
      "Exemple 52 : p(ham)= 3.881832778406562e-10 \tp(spam)= 3.4783338030820905e-16\n",
      "Exemple 53 : p(ham)= 2.2571518775460464e-16 \tp(spam)= 1.151073159864711e-46\n",
      "Exemple 54 : p(ham)= 1.0356668479938475e-12 \tp(spam)= 3.188472652825243e-34\n",
      "Exemple 55 : p(ham)= 5.113895799044639e-29 \tp(spam)= 8.832069248325945e-112\n",
      "Exemple 56 : p(ham)= 1.707462058298971e-13 \tp(spam)= 8.832069248325929e-42\n",
      "Exemple 57 : p(ham)= 4.729669901488147e-11 \tp(spam)= 8.832069248325926e-32\n",
      "Exemple 58 : p(ham)= 7.670375575366854e-14 \tp(spam)= 1.1510731598647109e-36\n",
      "Exemple 59 : p(ham)= 1.3121938235690648e-14 \tp(spam)= 3.188472652825248e-54\n",
      "Exemple 60 : p(ham)= 3.081673086841251e-13 \tp(spam)= 1.3276166973892083e-18\n",
      "Exemple 61 : p(ham)= 8.339705600461696e-17 \tp(spam)= 3.1884726528252455e-54\n",
      "Exemple 62 : p(ham)= 1.0378954515672207e-13 \tp(spam)= 3.188472652825243e-44\n",
      "Exemple 63 : p(ham)= 4.729669901488144e-11 \tp(spam)= 8.832069248325926e-32\n",
      "Exemple 64 : p(ham)= 1.3402439901803653e-15 \tp(spam)= 1.730279556546056e-47\n",
      "Exemple 65 : p(ham)= 2.6297307381977094e-08 \tp(spam)= 8.832069248325925e-22\n",
      "Exemple 66 : p(ham)= 1.91620292064e-20 \tp(spam)= 2.5391319702897967e-58\n",
      "Exemple 67 : p(ham)= 3.62902841871284e-06 \tp(spam)= 8.832069248325924e-12\n",
      "Exemple 68 : p(ham)= 6.007370637522922e-17 \tp(spam)= 7.033395557702755e-56\n",
      "Exemple 69 : p(ham)= 1.3101185627122166e-08 \tp(spam)= 8.832069248325921e-22\n",
      "Exemple 70 : p(ham)= 2.028569614681226e-31 \tp(spam)= 6.400050179946329e-114\n",
      "Exemple 71 : p(ham)= 3.1272198869944466e-15 \tp(spam)= 6.400050179946333e-44\n",
      "Exemple 72 : p(ham)= 6.714374421888245e-19 \tp(spam)= 6.400050179946329e-64\n",
      "Exemple 73 : p(ham)= 5.2978517061501265e-08 \tp(spam)= 8.832069248325929e-22\n",
      "Exemple 74 : p(ham)= 3.616835787521989e-29 \tp(spam)= 1.2557161743978643e-98\n",
      "Exemple 75 : p(ham)= 2.301667877794633e-14 \tp(spam)= 9.634984634537377e-44\n",
      "Exemple 76 : p(ham)= 1.0356668479938479e-12 \tp(spam)= 3.188472652825244e-34\n",
      "Exemple 77 : p(ham)= 3.4272970300638675e-13 \tp(spam)= 8.832069248325924e-42\n",
      "Exemple 78 : p(ham)= 1.454629153870401e-20 \tp(spam)= 1.7302795565460586e-67\n",
      "Exemple 79 : p(ham)= 1.5617711312083136e-27 \tp(spam)= 3.18847265282525e-104\n",
      "Exemple 80 : p(ham)= 1.426559172790173e-12 \tp(spam)= 2.5205317413638286e-28\n",
      "Exemple 81 : p(ham)= 2.8784574003043857e-33 \tp(spam)= 1.873673853304874e-119\n",
      "Exemple 82 : p(ham)= 4.188414240889557e-27 \tp(spam)= 3.3794732716146e-66\n",
      "Exemple 83 : p(ham)= 9.024938286222212e-16 \tp(spam)= 8.832069248325928e-62\n",
      "Exemple 84 : p(ham)= 5.159639892532529e-13 \tp(spam)= 8.832069248325926e-42\n",
      "Exemple 85 : p(ham)= 9.618860077163876e-13 \tp(spam)= 9.634984634537373e-44\n",
      "Exemple 86 : p(ham)= 1.380594576519232e-13 \tp(spam)= 8.832069248325927e-52\n",
      "Exemple 87 : p(ham)= 2.3407889820229198e-14 \tp(spam)= 8.832069248325923e-62\n",
      "Exemple 88 : p(ham)= 1.6422070722390124e-33 \tp(spam)= 2.310487429583515e-136\n",
      "Exemple 89 : p(ham)= 7.925407522175991e-40 \tp(spam)= 6.981872923577812e-146\n",
      "Exemple 90 : p(ham)= 1.6713235948771174e-35 \tp(spam)= 1.107011447429539e-142\n",
      "Exemple 91 : p(ham)= 2.7920902822999968e-12 \tp(spam)= 3.188472652825246e-34\n",
      "Exemple 92 : p(ham)= 2.170540938179096e-18 \tp(spam)= 1.1510731598647095e-56\n",
      "Exemple 93 : p(ham)= 4.555078045993672e-23 \tp(spam)= 6.400050179946311e-94\n",
      "Exemple 94 : p(ham)= 3.207588614004852e-32 \tp(spam)= 4.6547046026645986e-116\n",
      "Exemple 95 : p(ham)= 5.928167653919538e-22 \tp(spam)= 3.188472652825247e-74\n",
      "Exemple 96 : p(ham)= 1.3390892050281068e-32 \tp(spam)= 4.3047556855428467e-104\n",
      "Exemple 97 : p(ham)= 5.5150781630745065e-15 \tp(spam)= 1.6175951004259933e-53\n",
      "Exemple 98 : p(ham)= 6.515415933083796e-18 \tp(spam)= 8.832069248325924e-72\n",
      "Exemple 99 : p(ham)= 2.1705616538696246e-44 \tp(spam)= 9.300109096232951e-160\n",
      "Exemple 100 : p(ham)= 4.543312214169176e-22 \tp(spam)= 1.4117757749881618e-75\n",
      "Exemple 101 : p(ham)= 2.574114985076769e-31 \tp(spam)= 6.4000501799463325e-124\n",
      "Exemple 102 : p(ham)= 5.887811665530443e-22 \tp(spam)= 1.617595100425994e-93\n",
      "Exemple 103 : p(ham)= 1.4208715897215276e-22 \tp(spam)= 1.4595179541817942e-69\n",
      "Exemple 104 : p(ham)= 4.785040630956532e-32 \tp(spam)= 4.533271387717926e-111\n",
      "Exemple 105 : p(ham)= 1.2141730768927712e-07 \tp(spam)= 3.1884726528252495e-14\n",
      "Exemple 106 : p(ham)= 3.0010447787597065e-07 \tp(spam)= 6.400050179946317e-14\n",
      "Exemple 107 : p(ham)= 2.5259820219790495e-17 \tp(spam)= 1.1510731598647098e-56\n",
      "Exemple 108 : p(ham)= 2.4160044703000797e-10 \tp(spam)= 3.1884726528252424e-34\n",
      "Exemple 109 : p(ham)= 2.3306050966485606e-15 \tp(spam)= 2.060986532829431e-47\n",
      "Exemple 110 : p(ham)= 2.602915895354975e-30 \tp(spam)= 9.343138948826755e-106\n",
      "Exemple 111 : p(ham)= 2.5033304900289755e-14 \tp(spam)= 4.430803970732075e-55\n",
      "Exemple 112 : p(ham)= 3.5423928258495967e-12 \tp(spam)= 3.188472652825242e-34\n",
      "Exemple 113 : p(ham)= 1.478872267567922e-26 \tp(spam)= 1.1510731598647107e-96\n",
      "Exemple 114 : p(ham)= 2.483548572510053e-15 \tp(spam)= 8.832069248325927e-52\n",
      "Exemple 115 : p(ham)= 1.1119303031358893e-31 \tp(spam)= 4.1554987720747657e-119\n",
      "Exemple 116 : p(ham)= 6.484888601773314e-20 \tp(spam)= 6.370574730919564e-58\n",
      "Exemple 117 : p(ham)= 8.335959257186459e-12 \tp(spam)= 8.525100004880208e-28\n",
      "Exemple 118 : p(ham)= 3.2557270630756153e-24 \tp(spam)= 1.151073159864709e-86\n",
      "Exemple 119 : p(ham)= 4.234726667352616e-12 \tp(spam)= 9.634984634537358e-34\n",
      "Exemple 120 : p(ham)= 1.2442018759601376e-25 \tp(spam)= 1.2881676845609417e-87\n",
      "Exemple 121 : p(ham)= 2.3874944494407934e-17 \tp(spam)= 1.6742662533213848e-48\n",
      "Exemple 122 : p(ham)= 9.242300309749303e-25 \tp(spam)= 9.099392568100483e-71\n",
      "Exemple 123 : p(ham)= 5.271996794861476e-13 \tp(spam)= 6.400050179946322e-44\n",
      "Exemple 124 : p(ham)= 1.1275359801373768e-09 \tp(spam)= 6.11450947961026e-33\n",
      "Exemple 125 : p(ham)= 8.953300548850648e-12 \tp(spam)= 8.832069248325926e-42\n",
      "Exemple 126 : p(ham)= 1.5458865171732744e-25 \tp(spam)= 1.0572516996248334e-96\n",
      "Exemple 127 : p(ham)= 1.3101185627122163e-08 \tp(spam)= 8.83206924832593e-22\n",
      "Exemple 128 : p(ham)= 1.9125818433754985e-10 \tp(spam)= 3.188472652825246e-24\n",
      "Exemple 129 : p(ham)= 5.858747047379376e-28 \tp(spam)= 1.5276757974527662e-100\n",
      "Exemple 130 : p(ham)= 1.1303793653580721e-18 \tp(spam)= 1.7302795565460574e-57\n",
      "Exemple 131 : p(ham)= 1.646965533816587e-10 \tp(spam)= 3.188472652825248e-34\n",
      "Exemple 132 : p(ham)= 6.426996722739179e-10 \tp(spam)= 1.289353174938092e-23\n",
      "Exemple 133 : p(ham)= 5.8856065689395466e-24 \tp(spam)= 8.832069248325925e-92\n",
      "Exemple 134 : p(ham)= 3.911226236181512e-12 \tp(spam)= 1.1510731598647103e-26\n",
      "Exemple 135 : p(ham)= 2.832614332325073e-07 \tp(spam)= 3.188472652825247e-14\n",
      "Exemple 136 : p(ham)= 2.3104887207650092e-08 \tp(spam)= 1.617595100425994e-23\n",
      "Exemple 137 : p(ham)= 6.629689064788556e-16 \tp(spam)= 6.400050179946322e-54\n",
      "Exemple 138 : p(ham)= 2.7380855767791887e-12 \tp(spam)= 2.3614527013518158e-35\n",
      "Exemple 139 : p(ham)= 1.7772012599883253e-26 \tp(spam)= 4.1830393332982557e-107\n",
      "Exemple 140 : p(ham)= 1.8287851575408104e-35 \tp(spam)= 1.3487888557963828e-134\n",
      "Exemple 141 : p(ham)= 2.9628001046404075e-17 \tp(spam)= 3.372974349756956e-48\n",
      "Exemple 142 : p(ham)= 9.493612773276934e-11 \tp(spam)= 8.832069248325929e-32\n",
      "Exemple 143 : p(ham)= 4.872824469682148e-20 \tp(spam)= 8.832069248325934e-72\n",
      "Exemple 144 : p(ham)= 4.702031212835238e-25 \tp(spam)= 7.929649774184834e-64\n",
      "Exemple 145 : p(ham)= 4.683900700408174e-20 \tp(spam)= 5.839693503342938e-76\n",
      "Exemple 146 : p(ham)= 8.50013975983099e-12 \tp(spam)= 8.83206924832593e-42\n",
      "Exemple 147 : p(ham)= 5.751658511490129e-15 \tp(spam)= 6.400050179946325e-54\n",
      "Exemple 148 : p(ham)= 3.2837008527441227e-34 \tp(spam)= 2.310487429583513e-116\n",
      "Exemple 149 : p(ham)= 5.114206877328571e-17 \tp(spam)= 4.1554987720747626e-49\n",
      "Exemple 150 : p(ham)= 6.819590132975558e-23 \tp(spam)= 5.839693503342937e-76\n",
      "Exemple 151 : p(ham)= 8.91541070985573e-46 \tp(spam)= 2.271284536335087e-140\n",
      "Exemple 152 : p(ham)= 1.3418108572452465e-10 \tp(spam)= 4.792874371632579e-25\n",
      "Exemple 153 : p(ham)= 3.046050600976415e-15 \tp(spam)= 1.41177577498816e-45\n",
      "Exemple 154 : p(ham)= 6.57020177766967e-07 \tp(spam)= 8.83206924832593e-22\n",
      "Exemple 155 : p(ham)= 0.0010052408719834576 \tp(spam)= 0.08832069248325923\n",
      "Exemple 156 : p(ham)= 2.1704684643286376e-27 \tp(spam)= 2.3614527013518176e-105\n",
      "Exemple 157 : p(ham)= 1.3808710030443746e-12 \tp(spam)= 3.188472652825246e-34\n",
      "Exemple 158 : p(ham)= 7.843618002040408e-08 \tp(spam)= 1.617595100425993e-23\n",
      "Exemple 159 : p(ham)= 9.176654308615545e-18 \tp(spam)= 6.400050179946329e-64\n",
      "Exemple 160 : p(ham)= 3.3980395538329597e-16 \tp(spam)= 1.1510731598647108e-46\n",
      "Exemple 161 : p(ham)= 5.18679504761907e-21 \tp(spam)= 2.108192600484812e-68\n",
      "Exemple 162 : p(ham)= 1.1001455406853958e-29 \tp(spam)= 2.6961163164742123e-92\n",
      "Exemple 163 : p(ham)= 3.511861880813567e-24 \tp(spam)= 1.1510731598647087e-86\n",
      "Exemple 164 : p(ham)= 2.812549562234444e-13 \tp(spam)= 8.832069248325929e-52\n",
      "Exemple 165 : p(ham)= 4.878037787806498e-40 \tp(spam)= 2.3104874295835116e-156\n",
      "Exemple 166 : p(ham)= 1.1616526929243862e-14 \tp(spam)= 3.188472652825244e-54\n",
      "Exemple 167 : p(ham)= 1.3422935074225748e-32 \tp(spam)= 1.15107315986471e-116\n",
      "Exemple 168 : p(ham)= 5.948964520426948e-36 \tp(spam)= 7.610803611858552e-131\n",
      "Exemple 169 : p(ham)= 6.184908788987727e-20 \tp(spam)= 1.6665554154030178e-52\n",
      "Exemple 170 : p(ham)= 6.001181903156256e-51 \tp(spam)= 4.231661958944157e-198\n",
      "Exemple 171 : p(ham)= 1.7246514541375797e-25 \tp(spam)= 1.15107315986471e-86\n",
      "Exemple 172 : p(ham)= 6.606882804994112e-14 \tp(spam)= 4.1554987720747604e-39\n",
      "Exemple 173 : p(ham)= 2.3441936923350697e-32 \tp(spam)= 2.060754994015093e-80\n",
      "Exemple 174 : p(ham)= 4.5713924745502234e-17 \tp(spam)= 1.6175951004259953e-73\n",
      "Exemple 175 : p(ham)= 2.3306050966485606e-15 \tp(spam)= 2.060986532829431e-47\n",
      "Exemple 176 : p(ham)= 8.30684310235855e-40 \tp(spam)= 9.447326378741477e-156\n",
      "Exemple 177 : p(ham)= 1.490039107892938e-21 \tp(spam)= 3.1884726528252515e-84\n",
      "Exemple 178 : p(ham)= 4.010453398588119e-12 \tp(spam)= 6.1145094796102634e-43\n",
      "Exemple 179 : p(ham)= 1.1574069693967831e-29 \tp(spam)= 9.634984634537386e-114\n",
      "Exemple 180 : p(ham)= 1.2900565885498226e-09 \tp(spam)= 2.519086302461154e-14\n",
      "Exemple 181 : p(ham)= 2.1315725175323584e-17 \tp(spam)= 2.1081926004848143e-48\n",
      "Exemple 182 : p(ham)= 8.236826093822757e-26 \tp(spam)= 2.2301836459164473e-82\n",
      "Exemple 183 : p(ham)= 1.94367987483833e-18 \tp(spam)= 2.3104874295835075e-66\n",
      "Exemple 184 : p(ham)= 1.442156888137195e-27 \tp(spam)= 8.341109854092099e-89\n",
      "Exemple 185 : p(ham)= 1.707462058298971e-13 \tp(spam)= 8.832069248325934e-42\n",
      "Exemple 186 : p(ham)= 1.9421215551259096e-09 \tp(spam)= 6.114509479610261e-23\n",
      "Exemple 187 : p(ham)= 6.698615878509565e-19 \tp(spam)= 3.188472652825239e-64\n",
      "Exemple 188 : p(ham)= 1.9265964501305923e-11 \tp(spam)= 8.832069248325924e-42\n",
      "Exemple 189 : p(ham)= 8.005209747160684e-08 \tp(spam)= 8.832069248325925e-22\n",
      "Exemple 190 : p(ham)= 1.1819014553697563e-11 \tp(spam)= 6.400050179946325e-34\n",
      "Exemple 191 : p(ham)= 1.9777674977516875e-19 \tp(spam)= 8.832069248325934e-72\n",
      "Exemple 192 : p(ham)= 1.2494687832271606e-13 \tp(spam)= 1.6175951004259942e-53\n",
      "Exemple 193 : p(ham)= 2.3159097882652023e-19 \tp(spam)= 6.40005017994632e-64\n",
      "Exemple 194 : p(ham)= 3.839022975471106e-10 \tp(spam)= 8.832069248325932e-32\n",
      "Exemple 195 : p(ham)= 6.724497768161348e-18 \tp(spam)= 8.83206924832593e-62\n",
      "Exemple 196 : p(ham)= 1.8588341892562472e-17 \tp(spam)= 8.832069248325928e-72\n",
      "Exemple 197 : p(ham)= 3.180582480589607e-22 \tp(spam)= 3.0776534313646964e-70\n",
      "Exemple 198 : p(ham)= 1.5997654357713687e-41 \tp(spam)= 1.1510731598647108e-166\n",
      "Exemple 199 : p(ham)= 2.510637923485767e-16 \tp(spam)= 8.832069248325924e-62\n",
      "Exemple 200 : p(ham)= 1.759413536591191e-25 \tp(spam)= 3.360664870797277e-78\n",
      "Exemple 201 : p(ham)= 1.4530867445516434e-28 \tp(spam)= 1.1721703626275318e-115\n",
      "Exemple 202 : p(ham)= 1.8264068012290088e-17 \tp(spam)= 8.83206924832593e-62\n",
      "Exemple 203 : p(ham)= 2.3306050966485606e-15 \tp(spam)= 2.060986532829431e-47\n",
      "Exemple 204 : p(ham)= 3.0406999090018815e-43 \tp(spam)= 9.09939256810046e-161\n",
      "Exemple 205 : p(ham)= 9.093822796325374e-09 \tp(spam)= 1.15107315986471e-16\n",
      "Exemple 206 : p(ham)= 1.3101185627122166e-08 \tp(spam)= 8.832069248325929e-22\n",
      "Exemple 207 : p(ham)= 1.258566532255488e-19 \tp(spam)= 6.4000501799463235e-74\n",
      "Exemple 208 : p(ham)= 2.868797168942963e-10 \tp(spam)= 8.832069248325935e-32\n",
      "Exemple 209 : p(ham)= 1.1175834902748517e-33 \tp(spam)= 1.0192515216901904e-127\n",
      "Exemple 210 : p(ham)= 5.628698064580934e-15 \tp(spam)= 8.83206924832593e-52\n",
      "Exemple 211 : p(ham)= 9.493612773276928e-11 \tp(spam)= 8.832069248325939e-32\n",
      "Exemple 212 : p(ham)= 4.11920248837478e-13 \tp(spam)= 4.2316619589441555e-38\n",
      "Exemple 213 : p(ham)= 3.551954546411759e-18 \tp(spam)= 1.255716174397865e-58\n",
      "Exemple 214 : p(ham)= 8.334584602053834e-14 \tp(spam)= 2.310487429583513e-36\n",
      "Exemple 215 : p(ham)= 8.80173514782258e-24 \tp(spam)= 1.9482505694836603e-93\n",
      "Exemple 216 : p(ham)= 7.288170433974135e-25 \tp(spam)= 3.4783338030820862e-96\n",
      "Exemple 217 : p(ham)= 2.6877379534864214e-07 \tp(spam)= 3.188472652825248e-14\n",
      "Exemple 218 : p(ham)= 2.526447041743858e-21 \tp(spam)= 8.832069248325921e-82\n",
      "Exemple 219 : p(ham)= 9.316505020395652e-37 \tp(spam)= 2.2301836459164448e-122\n",
      "Exemple 220 : p(ham)= 1.0905501760553068e-20 \tp(spam)= 3.1884726528252437e-74\n",
      "Exemple 221 : p(ham)= 6.792662423388919e-10 \tp(spam)= 1.1510731598647106e-16\n",
      "Exemple 222 : p(ham)= 4.23789900666895e-15 \tp(spam)= 1.2893531749380917e-63\n",
      "Exemple 223 : p(ham)= 3.1272198869944514e-15 \tp(spam)= 3.188472652825247e-44\n",
      "Exemple 224 : p(ham)= 5.54943155387459e-34 \tp(spam)= 5.519267133263095e-120\n",
      "Exemple 225 : p(ham)= 3.6222847944170136e-21 \tp(spam)= 8.341109854092098e-59\n",
      "Exemple 226 : p(ham)= 9.134555603732465e-12 \tp(spam)= 1.617595100425994e-33\n",
      "Exemple 227 : p(ham)= 3.090054330217845e-24 \tp(spam)= 8.83206924832594e-102\n",
      "Exemple 228 : p(ham)= 3.7119682515893547e-23 \tp(spam)= 5.415812498631242e-64\n",
      "Exemple 229 : p(ham)= 8.436216002030735e-43 \tp(spam)= 1.5001800621208553e-161\n",
      "Exemple 230 : p(ham)= 1.1730192868566778e-09 \tp(spam)= 6.795189200970217e-08\n",
      "Exemple 231 : p(ham)= 1.6811071128688964e-29 \tp(spam)= 1.6742662533213842e-118\n",
      "Exemple 232 : p(ham)= 1.0682026823366283e-26 \tp(spam)= 5.07785956654319e-88\n",
      "Exemple 233 : p(ham)= 4.899549853315578e-16 \tp(spam)= 3.1884726528252444e-54\n",
      "Exemple 234 : p(ham)= 6.579716993278816e-20 \tp(spam)= 1.764649200464719e-75\n",
      "Exemple 235 : p(ham)= 3.0504309719456046e-12 \tp(spam)= 3.188472652825243e-44\n",
      "Exemple 236 : p(ham)= 1.429220250231511e-10 \tp(spam)= 8.832069248325926e-32\n",
      "Exemple 237 : p(ham)= 1.3999096512413744e-17 \tp(spam)= 9.634984634537383e-64\n",
      "Exemple 238 : p(ham)= 1.2832505136379267e-15 \tp(spam)= 6.400050179946327e-54\n",
      "Exemple 239 : p(ham)= 4.751372753340189e-20 \tp(spam)= 3.8203057035202745e-65\n",
      "Exemple 240 : p(ham)= 6.292081604422018e-19 \tp(spam)= 3.1884726528252476e-74\n",
      "Exemple 241 : p(ham)= 1.1771056268753077e-211 \tp(spam)= 6.006500529231556e-51\n",
      "Exemple 242 : p(ham)= 5.021703379268651e-180 \tp(spam)= 2.6471241016597326e-56\n",
      "Exemple 243 : p(ham)= 7.773839874810224e-121 \tp(spam)= 9.274380154795036e-42\n",
      "Exemple 244 : p(ham)= 1.1824414848463865e-121 \tp(spam)= 1.5482113999551925e-43\n",
      "Exemple 245 : p(ham)= 5.379676707698794e-147 \tp(spam)= 1.1671949781983591e-34\n",
      "Exemple 246 : p(ham)= 5.863223588871853e-150 \tp(spam)= 4.465212829763247e-46\n",
      "Exemple 247 : p(ham)= 2.674837058432382e-122 \tp(spam)= 1.2659569101272758e-41\n",
      "Exemple 248 : p(ham)= 1.074860481058698e-40 \tp(spam)= 3.320023963858544e-16\n",
      "Exemple 249 : p(ham)= 1.150748202109168e-140 \tp(spam)= 2.2558705616188514e-37\n",
      "Exemple 250 : p(ham)= 5.385202965307987e-186 \tp(spam)= 1.6644433104020329e-50\n",
      "Exemple 251 : p(ham)= 1.4872287873656351e-139 \tp(spam)= 4.1676479404676975e-43\n",
      "Exemple 252 : p(ham)= 1.2071315578041718e-150 \tp(spam)= 2.4157101831925482e-60\n",
      "Exemple 253 : p(ham)= 1.4073344602361671e-101 \tp(spam)= 7.327957942776646e-26\n",
      "Exemple 254 : p(ham)= 9.94809325243177e-145 \tp(spam)= 6.901718921377362e-41\n",
      "Exemple 255 : p(ham)= 9.493612773276936e-51 \tp(spam)= 2.1329094185616945e-18\n",
      "Exemple 256 : p(ham)= 2.527333605744082e-145 \tp(spam)= 4.8043780861545704e-45\n",
      "Exemple 257 : p(ham)= 2.469750607113211e-133 \tp(spam)= 7.91031724059088e-37\n",
      "Exemple 258 : p(ham)= 5.379676707698786e-137 \tp(spam)= 3.2331300896094527e-32\n",
      "Exemple 259 : p(ham)= 1.042434117025201e-170 \tp(spam)= 7.412582200103874e-46\n",
      "Exemple 260 : p(ham)= 3.1273232323017227e-183 \tp(spam)= 1.1354985649212787e-46\n",
      "Exemple 261 : p(ham)= 2.273379966068194e-112 \tp(spam)= 3.474356650240542e-32\n",
      "Exemple 262 : p(ham)= 2.7570912062662686e-117 \tp(spam)= 2.656543154292282e-38\n",
      "Exemple 263 : p(ham)= 4.255469341280647e-151 \tp(spam)= 7.777078857072028e-45\n",
      "Exemple 264 : p(ham)= 1.9719303256162458e-146 \tp(spam)= 5.054716977764937e-44\n",
      "Exemple 265 : p(ham)= 1.948553142935194e-192 \tp(spam)= 5.430477707466022e-51\n",
      "Exemple 266 : p(ham)= 5.328707717295633e-170 \tp(spam)= 2.4430329950181915e-53\n",
      "Exemple 267 : p(ham)= 2.6478263651734454e-81 \tp(spam)= 3.4586551836411394e-25\n",
      "Exemple 268 : p(ham)= 2.8702483193603094e-118 \tp(spam)= 1.247571805346139e-36\n",
      "Exemple 269 : p(ham)= 1.9252753954160174e-182 \tp(spam)= 5.868197562828368e-52\n",
      "Exemple 270 : p(ham)= 7.96818048344061e-129 \tp(spam)= 4.188979317902504e-42\n",
      "Exemple 271 : p(ham)= 1.1374882890284774e-121 \tp(spam)= 2.1355569960913913e-33\n",
      "Exemple 272 : p(ham)= 3.2052672351020525e-85 \tp(spam)= 7.749567462948307e-32\n",
      "Exemple 273 : p(ham)= 2.870248319360308e-128 \tp(spam)= 9.040375401058982e-39\n",
      "Exemple 274 : p(ham)= 1.9896634115390397e-82 \tp(spam)= 3.792436517177335e-33\n",
      "Exemple 275 : p(ham)= 7.86410533789074e-139 \tp(spam)= 3.8225860305336144e-44\n",
      "Exemple 276 : p(ham)= 8.180871362408974e-150 \tp(spam)= 9.19408930527036e-44\n",
      "Exemple 277 : p(ham)= 8.272127567774647e-126 \tp(spam)= 4.386417687822215e-42\n"
     ]
    }
   ],
   "source": [
    "for i in range(0,len(df_train)):\n",
    "    p_spam = proba_exemple(df_train['les_mots'].iloc[i], 'spam', index_mots,frequences)\n",
    "    p_ham = proba_exemple(df_train['les_mots'].iloc[i], 'ham', index_mots,frequences)\n",
    "    if (p_spam>0) and (p_ham>0):\n",
    "        print(\"Exemple\",i,\": p(ham)=\",p_ham,\"\\tp(spam)=\",p_spam)\n"
   ]
  },
  {
   "cell_type": "markdown",
   "metadata": {},
   "source": [
    "<font color=\"RED\" size=\"+1\"><b>[Q]</b></font> À partir de `mat_train` et de `frequences` et en utilisant des opérations matricielles, on peut aussi calculer les probabilités pour chaque label de tous les exemples. En terme de temps de calcul, cela peut être plus efficace.\n",
    "\n",
    "Donner l'instruction permettant de calculer toutes ces probabilités, puis vérifier que vous trouver les mêmes valeurs pour les exemples précédents.\n"
   ]
  },
  {
   "cell_type": "code",
   "execution_count": 39,
   "metadata": {},
   "outputs": [],
   "source": [
    "toutes_probas = dict()\n",
    "for l in les_labels:\n",
    "    # Vérifier si `frequences[l]` est un dict ou une liste\n",
    "    if isinstance(frequences[l], dict):\n",
    "        p_mots = np.array([frequences[l].get(mot, 1e-10) for mot in index_mots])  # Cas dict\n",
    "    else:\n",
    "        p_mots = np.array(frequences[l])  # Cas liste, on suppose que l'ordre correspond à `index_mots`\n",
    "\n",
    "    # Éviter log(0) et log(1)\n",
    "    p_mots = np.clip(p_mots, 1e-10, 1 - 1e-10)\n",
    "\n",
    "    # Calcul de log(p(X | Y)) pour chaque exemple\n",
    "    log_probas = (mat_train @ np.log(p_mots)) + ((1 - mat_train) @ np.log(1 - p_mots))\n",
    "\n",
    "    # Conversion en probabilité avec exponentielle\n",
    "    toutes_probas[l] = np.exp(log_probas)"
   ]
  },
  {
   "cell_type": "code",
   "execution_count": 40,
   "metadata": {},
   "outputs": [
    {
     "name": "stdout",
     "output_type": "stream",
     "text": [
      "Exemple 0 : p(ham)= 1.1649557189928175e-23 \tp(spam)= 1.459517817279011e-79\n",
      "Exemple 1 : p(ham)= 1.5565001631731123e-22 \tp(spam)= 1.1721702527951879e-85\n",
      "Exemple 2 : p(ham)= 1.0781991929560152e-10 \tp(spam)= 3.1884723524711113e-34\n",
      "Exemple 3 : p(ham)= 2.097655141099189e-29 \tp(spam)= 7.968967283937017e-98\n",
      "Exemple 4 : p(ham)= 7.64238272627869e-14 \tp(spam)= 6.400049577701555e-44\n",
      "Exemple 5 : p(ham)= 1.0296306105839059e-33 \tp(spam)= 1.948250387711854e-123\n",
      "Exemple 6 : p(ham)= 1.9243761130592766e-55 \tp(spam)= 3.3574397963799436e-212\n",
      "Exemple 7 : p(ham)= 2.0991595643400722e-30 \tp(spam)= 6.4000495821814024e-114\n",
      "Exemple 8 : p(ham)= 2.6297306529944177e-08 \tp(spam)= 3.188472351833408e-14\n",
      "Exemple 9 : p(ham)= 3.9066588700877974e-17 \tp(spam)= 7.033394896563536e-56\n",
      "Exemple 10 : p(ham)= 2.1316037877704464e-16 \tp(spam)= 1.1510730515487138e-46\n",
      "Exemple 11 : p(ham)= 1.7725153832898634e-09 \tp(spam)= 3.188472352152248e-24\n",
      "Exemple 12 : p(ham)= 3.2121235125052324e-68 \tp(spam)= 1.2076487405169495e-254\n",
      "Exemple 13 : p(ham)= 4.027600662545809e-23 \tp(spam)= 2.0846981846778432e-62\n",
      "Exemple 14 : p(ham)= 9.771768136913142e-31 \tp(spam)= 8.832068424293832e-122\n",
      "Exemple 15 : p(ham)= 3.093064745253546e-37 \tp(spam)= 1.0940725084684188e-132\n",
      "Exemple 16 : p(ham)= 1.1523815850504206e-26 \tp(spam)= 3.188472354703084e-104\n",
      "Exemple 17 : p(ham)= 4.2699496080962645e-40 \tp(spam)= 5.0966629736210375e-158\n",
      "Exemple 18 : p(ham)= 1.827248070346935e-23 \tp(spam)= 1.5001799214039467e-81\n",
      "Exemple 19 : p(ham)= 1.3101185202643696e-08 \tp(spam)= 8.832068415461767e-22\n",
      "Exemple 20 : p(ham)= 3.3229515039404665e-16 \tp(spam)= 8.832068418994706e-62\n",
      "Exemple 21 : p(ham)= 4.665922226082572e-25 \tp(spam)= 1.4117756428459265e-95\n",
      "Exemple 22 : p(ham)= 4.7296697482468176e-11 \tp(spam)= 8.832068416345017e-32\n",
      "Exemple 23 : p(ham)= 2.7369636799478535e-28 \tp(spam)= 1.1510730521242543e-96\n",
      "Exemple 24 : p(ham)= 7.250805796468153e-10 \tp(spam)= 6.400049576421528e-24\n",
      "Exemple 25 : p(ham)= 2.629730652994427e-08 \tp(spam)= 8.832068415461767e-22\n",
      "Exemple 26 : p(ham)= 6.770892947682103e-19 \tp(spam)= 4.637717086218541e-66\n",
      "Exemple 27 : p(ham)= 6.543090473420013e-17 \tp(spam)= 4.7928739215814986e-65\n",
      "Exemple 28 : p(ham)= 1.0264492529843447e-13 \tp(spam)= 8.832068418111267e-52\n",
      "Exemple 29 : p(ham)= 1.793035665530403e-36 \tp(spam)= 2.4714397261827576e-130\n",
      "Exemple 30 : p(ham)= 1.599442455103269e-11 \tp(spam)= 6.4000495770614735e-34\n",
      "Exemple 31 : p(ham)= 1.0036076120882605e-15 \tp(spam)= 8.832068418994706e-62\n",
      "Exemple 32 : p(ham)= 5.1675674498209705e-27 \tp(spam)= 1.1510730521242215e-96\n",
      "Exemple 33 : p(ham)= 7.008852942101006e-07 \tp(spam)= 1.617594947725009e-13\n",
      "Exemple 34 : p(ham)= 4.3946602002722764e-12 \tp(spam)= 1.1510730513185042e-26\n",
      "Exemple 35 : p(ham)= 1.586519927896127e-14 \tp(spam)= 2.3104872119356053e-36\n",
      "Exemple 36 : p(ham)= 3.6256182365592357e-17 \tp(spam)= 3.4783334757708465e-46\n",
      "Exemple 37 : p(ham)= 1.3321264136505518e-19 \tp(spam)= 1.94825038673775e-73\n",
      "Exemple 38 : p(ham)= 1.783370061390121e-19 \tp(spam)= 3.478333476466498e-66\n",
      "Exemple 39 : p(ham)= 1.1291200544100948e-15 \tp(spam)= 8.832068418994706e-62\n",
      "Exemple 40 : p(ham)= 1.67904697073758e-53 \tp(spam)= 6.949717246121557e-220\n",
      "Exemple 41 : p(ham)= 1.23729130650521e-15 \tp(spam)= 8.832068418111393e-52\n",
      "Exemple 42 : p(ham)= 5.6669089819491725e-12 \tp(spam)= 8.832068417228206e-42\n",
      "Exemple 43 : p(ham)= 6.347682617167545e-09 \tp(spam)= 8.832068416345017e-32\n",
      "Exemple 44 : p(ham)= 5.77947440127242e-10 \tp(spam)= 1.151073051203391e-16\n",
      "Exemple 45 : p(ham)= 1.8096480061846155e-25 \tp(spam)= 2.929611851504078e-109\n",
      "Exemple 46 : p(ham)= 2.1477852753784681e-16 \tp(spam)= 1.5995680699615233e-47\n",
      "Exemple 47 : p(ham)= 3.363259314023358e-05 \tp(spam)= 8.832068414578548e-12\n",
      "Exemple 48 : p(ham)= 3.738869366203023e-15 \tp(spam)= 9.634983727885288e-44\n",
      "Exemple 49 : p(ham)= 6.646571980095778e-08 \tp(spam)= 8.832068415461767e-22\n",
      "Exemple 50 : p(ham)= 8.732955804863817e-10 \tp(spam)= 8.832068416345017e-32\n",
      "Exemple 51 : p(ham)= 1.3920860251058736e-15 \tp(spam)= 8.34110906835943e-39\n",
      "Exemple 52 : p(ham)= 3.8818326526351727e-10 \tp(spam)= 3.4783334747273693e-16\n",
      "Exemple 53 : p(ham)= 2.257151804414311e-16 \tp(spam)= 1.1510730515487138e-46\n",
      "Exemple 54 : p(ham)= 1.0356668144382346e-12 \tp(spam)= 3.1884723524711113e-34\n",
      "Exemple 55 : p(ham)= 5.113895633354386e-29 \tp(spam)= 8.832068423410896e-112\n",
      "Exemple 56 : p(ham)= 1.707462002977195e-13 \tp(spam)= 8.832068417228206e-42\n",
      "Exemple 57 : p(ham)= 4.7296697482468176e-11 \tp(spam)= 8.832068416345017e-32\n",
      "Exemple 58 : p(ham)= 7.670375326846636e-14 \tp(spam)= 1.151073051433609e-36\n",
      "Exemple 59 : p(ham)= 1.3121937810539859e-14 \tp(spam)= 3.188472353108837e-54\n",
      "Exemple 60 : p(ham)= 3.0816729869950274e-13 \tp(spam)= 1.327616572062185e-18\n",
      "Exemple 61 : p(ham)= 8.33970533025518e-17 \tp(spam)= 3.188472353108837e-54\n",
      "Exemple 62 : p(ham)= 1.0378954179394015e-13 \tp(spam)= 3.1884723527899513e-44\n",
      "Exemple 63 : p(ham)= 4.7296697482468176e-11 \tp(spam)= 8.832068416345017e-32\n",
      "Exemple 64 : p(ham)= 1.340243946756454e-15 \tp(spam)= 1.7302793937267363e-47\n",
      "Exemple 65 : p(ham)= 2.629730652994427e-08 \tp(spam)= 8.832068415461767e-22\n",
      "Exemple 66 : p(ham)= 1.9162028585550213e-20 \tp(spam)= 2.5391317316113737e-58\n",
      "Exemple 67 : p(ham)= 3.6290283011323074e-06 \tp(spam)= 8.832068414578548e-12\n",
      "Exemple 68 : p(ham)= 6.007370442884071e-17 \tp(spam)= 7.033394896563536e-56\n",
      "Exemple 69 : p(ham)= 1.3101185202643696e-08 \tp(spam)= 8.832068415461767e-22\n",
      "Exemple 70 : p(ham)= 2.028569548955577e-31 \tp(spam)= 6.4000495821814024e-114\n",
      "Exemple 71 : p(ham)= 3.1272197856725185e-15 \tp(spam)= 6.400049577701465e-44\n",
      "Exemple 72 : p(ham)= 6.71437420434246e-19 \tp(spam)= 6.400049578981629e-64\n",
      "Exemple 73 : p(ham)= 5.2978515344997137e-08 \tp(spam)= 8.832068415461767e-22\n",
      "Exemple 74 : p(ham)= 3.616835670336488e-29 \tp(spam)= 1.2557160568628194e-98\n",
      "Exemple 75 : p(ham)= 2.3016678032205825e-14 \tp(spam)= 9.634983727885288e-44\n",
      "Exemple 76 : p(ham)= 1.0356668144382346e-12 \tp(spam)= 3.1884723524711113e-34\n",
      "Exemple 77 : p(ham)= 3.427296919019447e-13 \tp(spam)= 8.832068417228206e-42\n",
      "Exemple 78 : p(ham)= 1.4546291067404178e-20 \tp(spam)= 1.7302793940728093e-67\n",
      "Exemple 79 : p(ham)= 1.5617710806069468e-27 \tp(spam)= 3.188472354703084e-104\n",
      "Exemple 80 : p(ham)= 1.426559126569652e-12 \tp(spam)= 2.520531503677697e-28\n",
      "Exemple 81 : p(ham)= 2.8784573070423352e-33 \tp(spam)= 1.873673678303726e-119\n",
      "Exemple 82 : p(ham)= 4.1884141051849574e-27 \tp(spam)= 3.379472953944013e-66\n",
      "Exemple 83 : p(ham)= 9.024937993814207e-16 \tp(spam)= 8.832068418994706e-62\n",
      "Exemple 84 : p(ham)= 5.159639725360169e-13 \tp(spam)= 8.832068417228206e-42\n",
      "Exemple 85 : p(ham)= 9.618859765512803e-13 \tp(spam)= 9.634983727885288e-44\n",
      "Exemple 86 : p(ham)= 1.3805945317879636e-13 \tp(spam)= 8.832068418111393e-52\n",
      "Exemple 87 : p(ham)= 2.3407889061813468e-14 \tp(spam)= 8.832068418994706e-62\n",
      "Exemple 88 : p(ham)= 1.642207019031487e-33 \tp(spam)= 2.3104872142460096e-136\n",
      "Exemple 89 : p(ham)= 7.925407265392814e-40 \tp(spam)= 6.981872273565317e-146\n",
      "Exemple 90 : p(ham)= 1.6713235407262466e-35 \tp(spam)= 1.107011344256093e-142\n",
      "Exemple 91 : p(ham)= 2.792090191836266e-12 \tp(spam)= 3.1884723524711113e-34\n",
      "Exemple 92 : p(ham)= 2.1705408678535577e-18 \tp(spam)= 1.151073051663835e-56\n",
      "Exemple 93 : p(ham)= 4.555077898409135e-23 \tp(spam)= 6.400049580901602e-94\n",
      "Exemple 94 : p(ham)= 3.207588510078972e-32 \tp(spam)= 4.654704167915214e-116\n",
      "Exemple 95 : p(ham)= 5.928167461846914e-22 \tp(spam)= 3.1884723537464724e-74\n",
      "Exemple 96 : p(ham)= 1.3390891616416152e-32 \tp(spam)= 4.3047552826176627e-104\n",
      "Exemple 97 : p(ham)= 5.515077984385974e-15 \tp(spam)= 1.617594948372033e-53\n",
      "Exemple 98 : p(ham)= 6.515415721984301e-18 \tp(spam)= 8.832068419877642e-72\n",
      "Exemple 99 : p(ham)= 2.170561583543408e-44 \tp(spam)= 9.300108231322665e-160\n",
      "Exemple 100 : p(ham)= 4.543312066965831e-22 \tp(spam)= 1.4117756425636177e-75\n",
      "Exemple 101 : p(ham)= 2.5741149016754563e-31 \tp(spam)= 6.4000495828215755e-124\n",
      "Exemple 102 : p(ham)= 5.887811474765308e-22 \tp(spam)= 1.6175949490191259e-93\n",
      "Exemple 103 : p(ham)= 1.4208715436852763e-22 \tp(spam)= 1.459517817133021e-69\n",
      "Exemple 104 : p(ham)= 4.785040475921203e-32 \tp(spam)= 4.533270963857042e-111\n",
      "Exemple 105 : p(ham)= 1.2141730375535576e-07 \tp(spam)= 3.188472351833408e-14\n",
      "Exemple 106 : p(ham)= 3.0010446815258446e-07 \tp(spam)= 6.400049575781536e-14\n",
      "Exemple 107 : p(ham)= 2.5259819401372293e-17 \tp(spam)= 1.151073051663835e-56\n",
      "Exemple 108 : p(ham)= 2.416004392021519e-10 \tp(spam)= 3.1884723524711113e-34\n",
      "Exemple 109 : p(ham)= 2.33060502113694e-15 \tp(spam)= 2.0609863388905585e-47\n",
      "Exemple 110 : p(ham)= 2.6029158110204902e-30 \tp(spam)= 9.343138075243459e-106\n",
      "Exemple 111 : p(ham)= 2.5033304089210633e-14 \tp(spam)= 4.43080355423651e-55\n",
      "Exemple 112 : p(ham)= 3.542392711076056e-12 \tp(spam)= 3.1884723524711113e-34\n",
      "Exemple 113 : p(ham)= 1.4788722196524455e-26 \tp(spam)= 1.1510730521242543e-96\n",
      "Exemple 114 : p(ham)= 2.483548492043079e-15 \tp(spam)= 8.832068418111267e-52\n",
      "Exemple 115 : p(ham)= 1.111930267109363e-31 \tp(spam)= 4.155498383951173e-119\n",
      "Exemple 116 : p(ham)= 6.484888391662866e-20 \tp(spam)= 6.3705741320854136e-58\n",
      "Exemple 117 : p(ham)= 8.335958987101384e-12 \tp(spam)= 8.525099200963228e-28\n",
      "Exemple 118 : p(ham)= 3.2557269575900403e-24 \tp(spam)= 1.1510730520091493e-86\n",
      "Exemple 119 : p(ham)= 4.234726530147465e-12 \tp(spam)= 9.634983726921811e-34\n",
      "Exemple 120 : p(ham)= 1.244201835648e-25 \tp(spam)= 1.2881675638596217e-87\n",
      "Exemple 121 : p(ham)= 2.3874943720859753e-17 \tp(spam)= 1.674266095772923e-48\n",
      "Exemple 122 : p(ham)= 9.242300010298676e-25 \tp(spam)= 9.099391713667423e-71\n",
      "Exemple 123 : p(ham)= 5.271996624048759e-13 \tp(spam)= 6.400049577701555e-44\n",
      "Exemple 124 : p(ham)= 1.1275359436052079e-09 \tp(spam)= 6.114508903623462e-33\n",
      "Exemple 125 : p(ham)= 8.953300258763685e-12 \tp(spam)= 8.832068417228206e-42\n",
      "Exemple 126 : p(ham)= 1.5458864670865537e-25 \tp(spam)= 1.0572516006660773e-96\n",
      "Exemple 127 : p(ham)= 1.3101185202643696e-08 \tp(spam)= 8.832068415461767e-22\n",
      "Exemple 128 : p(ham)= 1.9125817814078373e-10 \tp(spam)= 3.188472352152248e-24\n",
      "Exemple 129 : p(ham)= 5.858746857555982e-28 \tp(spam)= 1.5276756544623179e-100\n",
      "Exemple 130 : p(ham)= 1.1303793287337754e-18 \tp(spam)= 1.730279393899785e-57\n",
      "Exemple 131 : p(ham)= 1.6469654804549052e-10 \tp(spam)= 3.1884723524711113e-34\n",
      "Exemple 132 : p(ham)= 6.426996514504465e-10 \tp(spam)= 1.2893530533520724e-23\n",
      "Exemple 133 : p(ham)= 5.8856063782458866e-24 \tp(spam)= 8.832068421644269e-92\n",
      "Exemple 134 : p(ham)= 3.91122610945776e-12 \tp(spam)= 1.1510730513185042e-26\n",
      "Exemple 135 : p(ham)= 2.832614240548352e-07 \tp(spam)= 3.188472351833408e-14\n",
      "Exemple 136 : p(ham)= 2.3104886459051707e-08 \tp(spam)= 1.6175949478867765e-23\n",
      "Exemple 137 : p(ham)= 6.629688849986563e-16 \tp(spam)= 6.400049578341546e-54\n",
      "Exemple 138 : p(ham)= 2.7380854880652e-12 \tp(spam)= 2.3614524789029815e-35\n",
      "Exemple 139 : p(ham)= 1.777201202407001e-26 \tp(spam)= 4.183038942183977e-107\n",
      "Exemple 140 : p(ham)= 1.8287850982881642e-35 \tp(spam)= 1.3487887300891764e-134\n",
      "Exemple 141 : p(ham)= 2.962800008645663e-17 \tp(spam)= 3.3729740323600206e-48\n",
      "Exemple 142 : p(ham)= 9.493612465683843e-11 \tp(spam)= 8.832068416345017e-32\n",
      "Exemple 143 : p(ham)= 4.8728243118025985e-20 \tp(spam)= 8.832068419877642e-72\n",
      "Exemple 144 : p(ham)= 4.702031060489434e-25 \tp(spam)= 7.929649028797624e-64\n",
      "Exemple 145 : p(ham)= 4.6839005486498085e-20 \tp(spam)= 5.839692955579725e-76\n",
      "Exemple 146 : p(ham)= 8.500139484426446e-12 \tp(spam)= 8.832068417228206e-42\n",
      "Exemple 147 : p(ham)= 5.7516583251363976e-15 \tp(spam)= 6.400049578341546e-54\n",
      "Exemple 148 : p(ham)= 3.2837007463522085e-34 \tp(spam)= 2.3104872137839224e-116\n",
      "Exemple 149 : p(ham)= 5.1142067116282465e-17 \tp(spam)= 4.1554983810423284e-49\n",
      "Exemple 150 : p(ham)= 6.81958991202084e-23 \tp(spam)= 5.839692955579725e-76\n",
      "Exemple 151 : p(ham)= 8.915410420996385e-46 \tp(spam)= 2.2712843244243494e-140\n",
      "Exemple 152 : p(ham)= 1.3418108137705743e-10 \tp(spam)= 4.7928739196644925e-25\n",
      "Exemple 153 : p(ham)= 3.0460505022843753e-15 \tp(spam)= 1.411775642140034e-45\n",
      "Exemple 154 : p(ham)= 6.570201564795081e-07 \tp(spam)= 8.832068415461767e-22\n",
      "Exemple 155 : p(ham)= 0.0010052408394136483 \tp(spam)= 0.08832068413695345\n",
      "Exemple 156 : p(ham)= 2.1704683940054633e-27 \tp(spam)= 2.3614524805559625e-105\n",
      "Exemple 157 : p(ham)= 1.3808709583041485e-12 \tp(spam)= 3.1884723524711113e-34\n",
      "Exemple 158 : p(ham)= 7.843617747907161e-08 \tp(spam)= 1.6175949478867765e-23\n",
      "Exemple 159 : p(ham)= 9.17665401129195e-18 \tp(spam)= 6.400049578981629e-64\n",
      "Exemple 160 : p(ham)= 3.3980394437364666e-16 \tp(spam)= 1.1510730515487138e-46\n",
      "Exemple 161 : p(ham)= 5.186794879566879e-21 \tp(spam)= 2.1081924025254484e-68\n",
      "Exemple 162 : p(ham)= 1.100145505040682e-29 \tp(spam)= 2.6961160638480607e-92\n",
      "Exemple 163 : p(ham)= 3.511861767029233e-24 \tp(spam)= 1.1510730520091822e-86\n",
      "Exemple 164 : p(ham)= 2.812549471107828e-13 \tp(spam)= 8.832068418111393e-52\n",
      "Exemple 165 : p(ham)= 4.878037629758057e-40 \tp(spam)= 2.310487214708097e-156\n",
      "Exemple 166 : p(ham)= 1.1616526552868332e-14 \tp(spam)= 3.188472353108792e-54\n",
      "Exemple 167 : p(ham)= 1.3422934639322627e-32 \tp(spam)= 1.1510730523544639e-116\n",
      "Exemple 168 : p(ham)= 5.948964327680418e-36 \tp(spam)= 7.610802901770675e-131\n",
      "Exemple 169 : p(ham)= 6.184908588596673e-20 \tp(spam)= 1.6665552585801497e-52\n",
      "Exemple 170 : p(ham)= 6.001181708718076e-51 \tp(spam)= 4.2316615670920285e-198\n",
      "Exemple 171 : p(ham)= 1.7246513982588654e-25 \tp(spam)= 1.1510730520091493e-86\n",
      "Exemple 172 : p(ham)= 6.606882590931106e-14 \tp(spam)= 4.1554983806267875e-39\n",
      "Exemple 173 : p(ham)= 2.3441936163831849e-32 \tp(spam)= 2.0607548005102208e-80\n",
      "Exemple 174 : p(ham)= 4.571392326437083e-17 \tp(spam)= 1.617594948695614e-73\n",
      "Exemple 175 : p(ham)= 2.33060502113694e-15 \tp(spam)= 2.0609863388905585e-47\n",
      "Exemple 176 : p(ham)= 8.306842833216831e-40 \tp(spam)= 9.447325500140047e-156\n",
      "Exemple 177 : p(ham)= 1.4900390596156654e-21 \tp(spam)= 3.1884723540654035e-84\n",
      "Exemple 178 : p(ham)= 4.010453268649418e-12 \tp(spam)= 6.1145089042349e-43\n",
      "Exemple 179 : p(ham)= 1.1574069318968014e-29 \tp(spam)= 9.634983734630042e-114\n",
      "Exemple 180 : p(ham)= 1.2900565467519803e-09 \tp(spam)= 2.519086064659398e-14\n",
      "Exemple 181 : p(ham)= 2.131572448469408e-17 \tp(spam)= 2.108192402103879e-48\n",
      "Exemple 182 : p(ham)= 8.236825826949548e-26 \tp(spam)= 2.2301834367251744e-82\n",
      "Exemple 183 : p(ham)= 1.9436798118630925e-18 \tp(spam)= 2.3104872126287694e-66\n",
      "Exemple 184 : p(ham)= 1.4421568414113005e-27 \tp(spam)= 8.341109072530013e-89\n",
      "Exemple 185 : p(ham)= 1.707462002977195e-13 \tp(spam)= 8.832068417228206e-42\n",
      "Exemple 186 : p(ham)= 1.9421214922011708e-09 \tp(spam)= 6.114508903012025e-23\n",
      "Exemple 187 : p(ham)= 6.698615661474399e-19 \tp(spam)= 3.1884723534277226e-64\n",
      "Exemple 188 : p(ham)= 1.926596387708864e-11 \tp(spam)= 8.832068417228206e-42\n",
      "Exemple 189 : p(ham)= 8.005209487791854e-08 \tp(spam)= 8.832068415461767e-22\n",
      "Exemple 190 : p(ham)= 1.1819014170761468e-11 \tp(spam)= 6.4000495770614735e-34\n",
      "Exemple 191 : p(ham)= 1.9777674336720188e-19 \tp(spam)= 8.832068419877642e-72\n",
      "Exemple 192 : p(ham)= 1.2494687427443687e-13 \tp(spam)= 1.6175949483720559e-53\n",
      "Exemple 193 : p(ham)= 2.315909713229728e-19 \tp(spam)= 6.400049578981629e-64\n",
      "Exemple 194 : p(ham)= 3.839022851086751e-10 \tp(spam)= 8.832068416345017e-32\n",
      "Exemple 195 : p(ham)= 6.724497550287583e-18 \tp(spam)= 8.832068418994706e-62\n",
      "Exemple 196 : p(ham)= 1.8588341290300087e-17 \tp(spam)= 8.832068419877642e-72\n",
      "Exemple 197 : p(ham)= 3.180582377538713e-22 \tp(spam)= 3.077653142373002e-70\n",
      "Exemple 198 : p(ham)= 1.59976538393899e-41 \tp(spam)= 1.1510730529299552e-166\n",
      "Exemple 199 : p(ham)= 2.5106378421410855e-16 \tp(spam)= 8.832068418994706e-62\n",
      "Exemple 200 : p(ham)= 1.7594134795861808e-25 \tp(spam)= 3.3606645555668635e-78\n",
      "Exemple 201 : p(ham)= 1.4530866974716292e-28 \tp(spam)= 1.1721702531468312e-115\n",
      "Exemple 202 : p(ham)= 1.8264067420534243e-17 \tp(spam)= 8.832068418994706e-62\n",
      "Exemple 203 : p(ham)= 2.33060502113694e-15 \tp(spam)= 2.0609863388905585e-47\n",
      "Exemple 204 : p(ham)= 3.040699810483171e-43 \tp(spam)= 9.099391721857216e-161\n",
      "Exemple 205 : p(ham)= 9.093822501685504e-09 \tp(spam)= 1.151073051203391e-16\n",
      "Exemple 206 : p(ham)= 1.3101185202643696e-08 \tp(spam)= 8.832068415461767e-22\n",
      "Exemple 207 : p(ham)= 1.2585664914779404e-19 \tp(spam)= 6.400049579621438e-74\n",
      "Exemple 208 : p(ham)= 2.8687970759939225e-10 \tp(spam)= 8.832068416345017e-32\n",
      "Exemple 209 : p(ham)= 1.1175834540651593e-33 \tp(spam)= 1.0192514265940386e-127\n",
      "Exemple 210 : p(ham)= 5.628697882211118e-15 \tp(spam)= 8.832068418111267e-52\n",
      "Exemple 211 : p(ham)= 9.493612465683843e-11 \tp(spam)= 8.832068416345017e-32\n",
      "Exemple 212 : p(ham)= 4.1192023549126015e-13 \tp(spam)= 4.231661560321637e-38\n",
      "Exemple 213 : p(ham)= 3.551954431328428e-18 \tp(spam)= 1.2557160563605438e-58\n",
      "Exemple 214 : p(ham)= 8.334584332013236e-14 \tp(spam)= 2.3104872119356053e-36\n",
      "Exemple 215 : p(ham)= 8.801734862646358e-24 \tp(spam)= 1.9482503871273913e-93\n",
      "Exemple 216 : p(ham)= 7.288170197837369e-25 \tp(spam)= 3.4783334775101734e-96\n",
      "Exemple 217 : p(ham)= 2.6877378664037037e-07 \tp(spam)= 3.188472351833408e-14\n",
      "Exemple 218 : p(ham)= 2.526446959886969e-21 \tp(spam)= 8.832068420761081e-82\n",
      "Exemple 219 : p(ham)= 9.316504718541044e-37 \tp(spam)= 2.2301834376172918e-122\n",
      "Exemple 220 : p(ham)= 1.0905501407214827e-20 \tp(spam)= 3.1884723537464724e-74\n",
      "Exemple 221 : p(ham)= 6.792662203306614e-10 \tp(spam)= 1.151073051203391e-16\n",
      "Exemple 222 : p(ham)= 4.237898869361008e-15 \tp(spam)= 1.2893530538678023e-63\n",
      "Exemple 223 : p(ham)= 3.1272197856725185e-15 \tp(spam)= 3.1884723527899513e-44\n",
      "Exemple 224 : p(ham)= 5.549431374073013e-34 \tp(spam)= 5.51926661776327e-120\n",
      "Exemple 225 : p(ham)= 3.622284677054967e-21 \tp(spam)= 8.341109070027735e-59\n",
      "Exemple 226 : p(ham)= 9.134555307772835e-12 \tp(spam)= 1.6175949480485208e-33\n",
      "Exemple 227 : p(ham)= 3.090054230100062e-24 \tp(spam)= 8.832068422527206e-102\n",
      "Exemple 228 : p(ham)= 3.7119681313215724e-23 \tp(spam)= 5.4158119895447264e-64\n",
      "Exemple 229 : p(ham)= 8.4362157286974e-43 \tp(spam)= 1.5001799226041073e-161\n",
      "Exemple 230 : p(ham)= 1.1730192488508488e-09 \tp(spam)= 6.795188558824812e-08\n",
      "Exemple 231 : p(ham)= 1.6811070584010122e-29 \tp(spam)= 1.6742660969449555e-118\n",
      "Exemple 232 : p(ham)= 1.0682026477268568e-26 \tp(spam)= 5.077859090747803e-88\n",
      "Exemple 233 : p(ham)= 4.899549694570116e-16 \tp(spam)= 3.188472353108792e-54\n",
      "Exemple 234 : p(ham)= 6.579716780095957e-20 \tp(spam)= 1.7646490349406146e-75\n",
      "Exemple 235 : p(ham)= 3.0504308731116433e-12 \tp(spam)= 3.1884723527899513e-44\n",
      "Exemple 236 : p(ham)= 1.4292202039247682e-10 \tp(spam)= 8.832068416345017e-32\n",
      "Exemple 237 : p(ham)= 1.3999096058843042e-17 \tp(spam)= 9.634983729812381e-64\n",
      "Exemple 238 : p(ham)= 1.2832504720606067e-15 \tp(spam)= 6.400049578341546e-54\n",
      "Exemple 239 : p(ham)= 4.751372599395701e-20 \tp(spam)= 3.820305344793574e-65\n",
      "Exemple 240 : p(ham)= 6.292081400558512e-19 \tp(spam)= 3.1884723537464724e-74\n",
      "Exemple 241 : p(ham)= 1.1771055910912712e-211 \tp(spam)= 6.006499961617248e-51\n",
      "Exemple 242 : p(ham)= 5.0217032246000885e-180 \tp(spam)= 2.6471238515064493e-56\n",
      "Exemple 243 : p(ham)= 7.77383963071119e-121 \tp(spam)= 9.274379278365997e-42\n",
      "Exemple 244 : p(ham)= 1.1824414477177126e-121 \tp(spam)= 1.5482112536492148e-43\n",
      "Exemple 245 : p(ham)= 5.379676540928996e-147 \tp(spam)= 1.1671948678984239e-34\n",
      "Exemple 246 : p(ham)= 5.863223406525503e-150 \tp(spam)= 4.46521240780064e-46\n",
      "Exemple 247 : p(ham)= 2.6748369744425364e-122 \tp(spam)= 1.2659567904943497e-41\n",
      "Exemple 248 : p(ham)= 1.07486044655568e-40 \tp(spam)= 3.320023650116272e-16\n",
      "Exemple 249 : p(ham)= 1.1507481663208604e-140 \tp(spam)= 2.2558703484390612e-37\n",
      "Exemple 250 : p(ham)= 5.385202799982326e-186 \tp(spam)= 1.6644431531121322e-50\n",
      "Exemple 251 : p(ham)= 1.4872287409639924e-139 \tp(spam)= 4.167647546624959e-43\n",
      "Exemple 252 : p(ham)= 1.2071315201416958e-150 \tp(spam)= 2.415709954907878e-60\n",
      "Exemple 253 : p(ham)= 1.4073344159050838e-101 \tp(spam)= 7.327957250284608e-26\n",
      "Exemple 254 : p(ham)= 9.948092943046175e-145 \tp(spam)= 6.901718269164997e-41\n",
      "Exemple 255 : p(ham)= 9.493612469481274e-51 \tp(spam)= 2.1329092170017393e-18\n",
      "Exemple 256 : p(ham)= 2.527333527143961e-145 \tp(spam)= 4.804377632140818e-45\n",
      "Exemple 257 : p(ham)= 2.469750530056883e-133 \tp(spam)= 7.910316493065799e-37\n",
      "Exemple 258 : p(ham)= 5.379676540390581e-137 \tp(spam)= 3.2331297840786486e-32\n",
      "Exemple 259 : p(ham)= 1.042434084918204e-170 \tp(spam)= 7.412581499614844e-46\n",
      "Exemple 260 : p(ham)= 3.127323136292905e-183 \tp(spam)= 1.1354984576166672e-46\n",
      "Exemple 261 : p(ham)= 2.273379894684087e-112 \tp(spam)= 3.4743563219138255e-32\n",
      "Exemple 262 : p(ham)= 2.7570911196936463e-117 \tp(spam)= 2.6565429032489235e-38\n",
      "Exemple 263 : p(ham)= 4.25546920936113e-151 \tp(spam)= 7.777078122138064e-45\n",
      "Exemple 264 : p(ham)= 1.97193026428911e-146 \tp(spam)= 5.05471650009413e-44\n",
      "Exemple 265 : p(ham)= 1.948553083309516e-192 \tp(spam)= 5.430477194285866e-51\n",
      "Exemple 266 : p(ham)= 5.328707552638412e-170 \tp(spam)= 2.4430327641515757e-53\n",
      "Exemple 267 : p(ham)= 2.647826281237364e-81 \tp(spam)= 3.4586548567982128e-25\n",
      "Exemple 268 : p(ham)= 2.8702482292344674e-118 \tp(spam)= 1.2475716874505937e-36\n",
      "Exemple 269 : p(ham)= 1.9252753363101075e-182 \tp(spam)= 5.868197008283685e-52\n",
      "Exemple 270 : p(ham)= 7.968180234036413e-129 \tp(spam)= 4.1889789220439255e-42\n",
      "Exemple 271 : p(ham)= 1.137488253425051e-121 \tp(spam)= 2.135556794281252e-33\n",
      "Exemple 272 : p(ham)= 3.2052671334951134e-85 \tp(spam)= 7.749566730614195e-32\n",
      "Exemple 273 : p(ham)= 2.8702482295215675e-128 \tp(spam)= 9.040374546743502e-39\n",
      "Exemple 274 : p(ham)= 1.989663348267713e-82 \tp(spam)= 3.792436158792114e-33\n",
      "Exemple 275 : p(ham)= 7.864105092530445e-139 \tp(spam)= 3.822585669299259e-44\n",
      "Exemple 276 : p(ham)= 8.180871107983815e-150 \tp(spam)= 9.194088436428902e-44\n",
      "Exemple 277 : p(ham)= 8.27212730885706e-126 \tp(spam)= 4.386417273305719e-42\n"
     ]
    }
   ],
   "source": [
    "for i in range(0,len(df_train)):\n",
    "    p_spam = toutes_probas['spam'][i]\n",
    "    p_ham = toutes_probas['ham'][i]\n",
    "    if (p_spam>0) and (p_ham>0):\n",
    "        print(\"Exemple\",i,\": p(ham)=\",p_ham,\"\\tp(spam)=\",p_spam)\n",
    "\n"
   ]
  },
  {
   "cell_type": "markdown",
   "metadata": {},
   "source": [
    "<font color=\"RED\" size=\"+1\"><b>[Q]</b></font> En utilisant les fonctions écrites, calculer le taux de bonne prédiction du classifieur bayésien naïf pour chaque valeur de label pour le dataset d'apprentissage. \n",
    "\n",
    "*Remarque*: une solution efficace peut ne pas utiliser toutes les fonctions précédentes..."
   ]
  },
  {
   "cell_type": "code",
   "execution_count": 41,
   "metadata": {},
   "outputs": [
    {
     "name": "stdout",
     "output_type": "stream",
     "text": [
      "Résultats des classements :  {'ham': {True: 239, False: 2}, 'spam': {True: 37, False: 0}}\n",
      "Temps:  0.005668163299560547\n",
      "Taux de bonne classification :  {'ham': 0.991701244813278, 'spam': 1.0}\n"
     ]
    }
   ],
   "source": [
    "# Initialisation des taux et des probabilités\n",
    "taux = dict()\n",
    "toutes_probas = dict()\n",
    "for l in les_labels:\n",
    "    taux[l] = {True: 0, False: 0}\n",
    "    toutes_probas[l] = np.zeros(len(df_train))  # Stocke p(X | label) pour chaque exemple\n",
    "\n",
    "tic = time.time()\n",
    "\n",
    "# Étape 1 : Calcul de p(X | label) pour chaque label\n",
    "for l in les_labels:\n",
    "    if isinstance(frequences[l], dict):\n",
    "        p_mots = np.array([frequences[l].get(mot, 1e-10) for mot in index_mots])\n",
    "    else:\n",
    "        p_mots = np.array(frequences[l])\n",
    "\n",
    "    p_mots = np.clip(p_mots, 1e-10, 1 - 1e-10)\n",
    "\n",
    "    log_probas = (mat_train @ np.log(p_mots)) + ((1 - mat_train) @ np.log(1 - p_mots))\n",
    "    toutes_probas[l] = np.exp(log_probas)  # p(X | label)\n",
    "\n",
    "# Étape 2 : Calcul de p(label | X) en utilisant Bayes\n",
    "probas_labels = {l: sum(df_train[\"label\"] == l) / len(df_train) for l in les_labels}  # p(label)\n",
    "posterior = {l: toutes_probas[l] * probas_labels[l] for l in les_labels}  # p(X | label) * p(label)\n",
    "\n",
    "# Normalisation pour obtenir des probabilités conditionnelles p(label | X)\n",
    "somme_probas = sum(posterior.values())\n",
    "for l in les_labels:\n",
    "    posterior[l] /= somme_probas\n",
    "\n",
    "# Étape 3 : Prédiction et comptage des bonnes classifications\n",
    "for i in range(len(df_train)):\n",
    "    prediction = max(les_labels, key=lambda l: posterior[l][i])  # Label avec la plus grande proba\n",
    "    vrai_label = df_train.iloc[i][\"label\"]  # Vrai label de l'exemple\n",
    "\n",
    "    if prediction == vrai_label:\n",
    "        taux[vrai_label][True] += 1\n",
    "    else:\n",
    "        taux[vrai_label][False] += 1\n",
    "\n",
    "toc = time.time()\n",
    "\n",
    "print(\"Résultats des classements : \", taux)\n",
    "print(\"Temps: \", toc - tic)\n",
    "\n",
    "# Étape 4 : Calcul du taux de bonne classification\n",
    "taux_classification = {l: taux[l][True] / (taux[l][True] + taux[l][False]) for l in les_labels}\n",
    "print(\"Taux de bonne classification : \", taux_classification)"
   ]
  },
  {
   "cell_type": "markdown",
   "metadata": {},
   "source": [
    "<font color=\"RED\" size=\"+1\"><b>[Q]</b></font> Même question pour calculer le taux de bonne classification pour le dataset de test.\n",
    "\n",
    "*Remarque*: L'index des mots ainsi que la matrice des fréquences restent les mêmes, ce sont toujours celles construites à partir de la base d'apprentissage. Par contre, la matrice des présences doit, elle, être recalculées."
   ]
  },
  {
   "cell_type": "code",
   "execution_count": 42,
   "metadata": {},
   "outputs": [
    {
     "name": "stdout",
     "output_type": "stream",
     "text": [
      "Résultats des classements :  {'ham': {True: 3504, False: 1080}, 'spam': {True: 569, False: 141}}\n",
      "Temps:  0.07705807685852051\n",
      "Taux de bonne classification :  {'ham': 0.7643979057591623, 'spam': 0.8014084507042254}\n"
     ]
    }
   ],
   "source": [
    "# Étape 1 : Construire `mat_test`\n",
    "def construire_matrice_presence(df, index_mots):\n",
    "    \"\"\"Construit la matrice de présence des mots pour un dataset donné\"\"\"\n",
    "    mat_presence = np.zeros((len(df), len(index_mots)))\n",
    "    for i, message in enumerate(df[\"message\"]):\n",
    "        mots_message = set(message.split())  # Tokenisation simple\n",
    "        for j, mot in enumerate(index_mots):\n",
    "            if mot in mots_message:\n",
    "                mat_presence[i, j] = 1  # Présence du mot\n",
    "    return mat_presence\n",
    "\n",
    "mat_test = construire_matrice_presence(df_test, index_mots)\n",
    "\n",
    "# Étape 2 : Initialisation des taux et des probabilités\n",
    "taux = {l: {True: 0, False: 0} for l in les_labels}\n",
    "toutes_probas = {l: np.zeros(len(df_test)) for l in les_labels}\n",
    "\n",
    "tic = time.time()\n",
    "\n",
    "# Étape 3 : Calcul de p(X | label) pour chaque label\n",
    "for l in les_labels:\n",
    "    if isinstance(frequences[l], dict):\n",
    "        p_mots = np.array([frequences[l].get(mot, 1e-10) for mot in index_mots])\n",
    "    else:\n",
    "        p_mots = np.array(frequences[l])\n",
    "\n",
    "    p_mots = np.clip(p_mots, 1e-10, 1 - 1e-10)\n",
    "\n",
    "    log_probas = (mat_test @ np.log(p_mots)) + ((1 - mat_test) @ np.log(1 - p_mots))\n",
    "    toutes_probas[l] = np.exp(log_probas)  # p(X | label)\n",
    "\n",
    "# Étape 4 : Calcul de p(label | X) en utilisant Bayes\n",
    "probas_labels = {l: sum(df_train[\"label\"] == l) / len(df_train) for l in les_labels}  # p(label)\n",
    "posterior = {l: toutes_probas[l] * probas_labels[l] for l in les_labels}  # p(X | label) * p(label)\n",
    "\n",
    "# Normalisation pour obtenir des probabilités conditionnelles p(label | X)\n",
    "somme_probas = sum(posterior.values())\n",
    "for l in les_labels:\n",
    "    posterior[l] /= somme_probas\n",
    "\n",
    "# Étape 5 : Prédiction et comptage des bonnes classifications\n",
    "for i in range(len(df_test)):\n",
    "    prediction = max(les_labels, key=lambda l: posterior[l][i])  # Label avec la plus grande proba\n",
    "    vrai_label = df_test.iloc[i][\"label\"]  # Vrai label de l'exemple\n",
    "\n",
    "    if prediction == vrai_label:\n",
    "        taux[vrai_label][True] += 1\n",
    "    else:\n",
    "        taux[vrai_label][False] += 1\n",
    "\n",
    "toc = time.time()\n",
    "\n",
    "print(\"Résultats des classements : \", taux)\n",
    "print(\"Temps: \", toc - tic)\n",
    "\n",
    "# Étape 6 : Calcul du taux de bonne classification\n",
    "taux_classification = {l: taux[l][True] / (taux[l][True] + taux[l][False]) for l in les_labels}\n",
    "print(\"Taux de bonne classification : \", taux_classification)"
   ]
  },
  {
   "cell_type": "markdown",
   "metadata": {},
   "source": [
    "## Evaluation du classifieur Naive Bayes\n",
    "\n",
    "Pour tout ce que l'on a fait jusque-là, on a travaillé sur tout le dataset, pour pouvoir l'évaluer il est nécessaire de le séparer en ensemble d'apprentissage et ensemble de test."
   ]
  },
  {
   "cell_type": "markdown",
   "metadata": {},
   "source": [
    "<font color=\"RED\" size=\"+1\"><b>[Q]</b></font> Découper aléatoirement `df_spam` en 2 parties égales, chacune contenant des exemples des 2 labels, avec la même distribution des labels dans chaque partie. \n",
    "Une des parties sert à apprendre l'index des mots et leurs fréquences.\n",
    "L'autre partie n'est utilisée que pour calculer le taux de bonne classification par label.\n",
    "\n",
    "Donner ensuite les taux de bonne classification par label pour l'ensemble de train et pour l'ensemble de test.\n",
    "\n",
    "*Remarque*: certains mots de la partie de test pourront ne pas être présents dans l'index de mots car ils peuvent être absents de la partie d'apprentissage."
   ]
  },
  {
   "cell_type": "code",
   "execution_count": null,
   "metadata": {},
   "outputs": [],
   "source": [
    "from sklearn.model_selection import train_test_split\n",
    "\n",
    "# Séparation en train/test avec conservation des proportions de labels\n",
    "df_train, df_test = train_test_split(df_spam, test_size=0.5, stratify=df_spam[\"label\"], random_state=42)\n",
    "\n",
    "# Vérification des distributions\n",
    "print(df_train[\"label\"].value_counts(normalize=True))\n",
    "print(df_test[\"label\"].value_counts(normalize=True))"
   ]
  },
  {
   "cell_type": "markdown",
   "metadata": {},
   "source": [
    "<font color=\"RED\" size=\"+1\"><b>[Q]</b></font> Mettre en place une approche par validation croisée pour évaluer le taux de bonne classification moyen de cette approche. "
   ]
  },
  {
   "cell_type": "markdown",
   "metadata": {},
   "source": [
    "<font color=\"RED\" size=\"+1\"><b>[Q]</b></font> Comparer les résultats obtenus (taux de bonne classification avec la validation croisée, temps de calcul) avec ceux obtenus avec l'application d'un classifieur par $k$ plus proches voisins. Pour cela, la `mat_spam` doit être utilisée comme description des données. "
   ]
  }
 ],
 "metadata": {
  "kernelspec": {
   "display_name": "Python 3",
   "language": "python",
   "name": "python3"
  },
  "language_info": {
   "codemirror_mode": {
    "name": "ipython",
    "version": 3
   },
   "file_extension": ".py",
   "mimetype": "text/x-python",
   "name": "python",
   "nbconvert_exporter": "python",
   "pygments_lexer": "ipython3",
   "version": "3.9.6"
  }
 },
 "nbformat": 4,
 "nbformat_minor": 4
}
