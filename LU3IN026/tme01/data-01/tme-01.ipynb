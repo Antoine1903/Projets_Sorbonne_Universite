{
 "cells": [
  {
   "cell_type": "markdown",
   "metadata": {},
   "source": [
    "IA & Data science (LU3IN0226) -- 2024-2025\n",
    "--------\n",
    "*&copy; Equipe pédagogique: Christophe Marsala, Olivier Schwander, Jean-Noël Vittaut.*\n"
   ]
  },
  {
   "cell_type": "markdown",
   "metadata": {},
   "source": [
    "<font size=\"+1\" color=\"RED\">**[Q]**</font> **Indiquer dans la boîte ci-dessous vos noms et prénoms :**"
   ]
  },
  {
   "cell_type": "markdown",
   "metadata": {},
   "source": [
    "*ZHANG Yuxiang*"
   ]
  },
  {
   "cell_type": "markdown",
   "metadata": {},
   "source": [
    "<font color=\"RED\" size=\"+1\">**[Q]**</font> **Renommer ce fichier ipython**\n",
    "\n",
    "Tout en haut de cette page, cliquer sur <tt>tme-01</tt> et rajouter à la suite de <tt>tme-01</tt> les noms des membres du binômes séparés par un tiret.\n",
    "\n",
    "Par exemple, pour le binôme Luke Skywalker et Han Solo, le nom de fichier devient : <pre>tme-01-Skywalker-Solo</pre>\n",
    "\n",
    "Penser à sauvegarder fréquemment le fichier en cours de travail :\n",
    "- soit en cliquant sur l'icône \"disquette\"\n",
    "- soit par la combinaison de touches [Ctrl]-S"
   ]
  },
  {
   "cell_type": "markdown",
   "metadata": {},
   "source": [
    "<font color=\"RED\" size=\"+1\">IMPORTANT: soumission de votre fichier final</font>\n",
    "\n",
    "**Nom à donner au fichier à poster** : *Nom1_Nom2.ipynb* \n",
    "- *Nom1* et *Nom2* : noms des membres du binôme\n",
    "- ne pas compresser ou faire une archive: il faut rendre le fichier ipython tel quel, éventuellement, si vous avez d'autres fichiers vous les rendez séparément.\n",
    "\n",
    "**Echancier pour la soumission de votre compte-rendu:**\n",
    "- le compte-rendu d'une séance doit être remis obligatoirement <font color=\"RED\">avant le début de la séance suivante</font>.\n",
    "\n",
    "**Le compte-rendu est soumis sur la page Moodle.**"
   ]
  },
  {
   "cell_type": "markdown",
   "metadata": {},
   "source": [
    "## Semaine 1: structures de données\n"
   ]
  },
  {
   "cell_type": "markdown",
   "metadata": {},
   "source": [
    "## Présentation ##\n",
    "\n",
    "### Objectifs de ce TME 1\n",
    "\n",
    "Le travail à réaliser est le suivant :\n",
    "- apprendre à utiliser jupyter notebook (cf doc: <https://docs.jupyter.org/en/latest/>).\n",
    "- se documenter sur les structures de données qui seront utilisées pour programmer tout au long du semestre: numpy et pandas.\n",
    "- implémenter des premières fonctions qui seront utiles ce semestre."
   ]
  },
  {
   "cell_type": "markdown",
   "metadata": {},
   "source": [
    "## Apprendre à utiliser jupyter notebook\n",
    "\n",
    "Ce document est dynamique: il est composé de \"boîtes\" qui peuvent être \"compilées\" par la commande \"Run Cells\" du menu \"Cell\" (ou bien en cliquant sur l'icône >| ou par la combinaison des touches [SHIFT][ENTREE]).\n",
    "\n",
    "Il y a **2 types principaux** de boîtes :\n",
    "- les boîtes \"Markdown\": tout ce qui est tapé dans ces boîtes est du texte qui sera rendu \"joliment\" après avoir été compilé. On peut y écrire des commandes en Latex pour définir des équations, et il reconnaît certaines balises HTML. En cliquant 2 fois dans une boîte Markdown compilée, on a accès à son contenu et on peut alors le modifier.\n",
    "- les boîtes \"Code\": dans ces boîtes, on écrit du code Python. La compilation de la boîte produit l'exécution de ce code Python et produit une boîte \"Out\" dans laquelle le résultat de la dernière commande est affiché. On peut y écrire tout code Python valide. Ce type de boîtes se reconnaît par \"In [n]\" inscrit à côté de leur coin haut gauche (\"n\" est un entier).\n",
    "\n",
    "Le type d'une boîte peut être modifié à l'aide du menu en haut de la page (juste au dessus du texte).\n",
    "\n",
    "L'icône \"+\" permet de créer une nouvelle boîte juste en dessous de la boîte active.\n",
    "\n",
    "L'icône avec les ciseaux permet d'effacer la boîte active (attention ! c'est **irréversible !**).\n",
    "\n",
    "Pour en savoir plus :\n",
    "- http://ipython.org/\n",
    "\n",
    "Vous pouvez aussi vous référer à la documentation Python:\n",
    "- https://www.python.org/\n",
    "\n",
    "\n",
    "Dans ce qui suit, les boîtes Markdown commençant par <font color=\"RED\" size=\"+1\">**[Q]**</font> posent des questions auxquelles il faut répondre dans la boîte qui suit directement (éventuellement, en créant des nouvelles boîtes de type \"Code\" ou \"Markdown\", à votre convenance).\n",
    "Certaines des boîtes \"Code\" à remplir sont suivies d'une sortie \"Out[.]:\" qui montre un exemple de résultat attendu. \n",
    "\n",
    "N'hésitez pas à créer de nouvelles boîtes \"Code\" ou \"Markdown\" dans ce document si vous en avez besoin (cela est même conseillé !).\n"
   ]
  },
  {
   "cell_type": "code",
   "execution_count": 1,
   "metadata": {},
   "outputs": [
    {
     "name": "stdout",
     "output_type": "stream",
     "text": [
      "Un essai quelconque :\n"
     ]
    },
    {
     "data": {
      "text/plain": [
       "5"
      ]
     },
     "execution_count": 1,
     "metadata": {},
     "output_type": "execute_result"
    }
   ],
   "source": [
    "# exemple de boîte de code :\n",
    "#    --> sélectionner cette boîte (en cliquant à l'intérieur)\n",
    "#    --> effectuer \"Run Cells\" du Menu \"Cell\" (ou bien cliquer sur l'icône >|)\n",
    "# \n",
    "\n",
    "print(\"Un essai quelconque :\")\n",
    "2+3\n"
   ]
  },
  {
   "cell_type": "markdown",
   "metadata": {},
   "source": [
    "<font color=\"RED\" size=\"+1\">**[Q]**</font> Dans la boîte \"Code\" suivante, donner les instructions Python pour effectuer le calcul : \n",
    "$$-\\frac{1}{3}\\log_2(\\frac{1}{3})-\\frac{2}{3}\\log_2(\\frac{2}{3})$$\n",
    "\n",
    "Dont la valeur à trouver est :\n",
    "    0.9182958340544896"
   ]
  },
  {
   "cell_type": "code",
   "execution_count": 2,
   "metadata": {},
   "outputs": [
    {
     "name": "stdout",
     "output_type": "stream",
     "text": [
      "0.9182958340544896\n"
     ]
    }
   ],
   "source": [
    "import numpy as np\n",
    "print((-1/3)*np.log2(1/3)-(2/3)*np.log2(2/3))"
   ]
  },
  {
   "cell_type": "markdown",
   "metadata": {},
   "source": [
    "<div class=\"alert alert-block alert-danger\">\n",
    "<font style=\"BACKGROUND-COLOR: lightgray\" color='red'> Important</font> :\n",
    "en lisant le texte d'un fichier jupyter sur votre ordinateur, pensez bien à exécuter les boîtes \"Code\" dans l'ordre de leur apparition. Toute la page se comporte comme une session Python unique et il pour exécuter certaines boîtes il est nécessaire que les précédentes aient été exécutées au préalable.\n",
    "    \n",
    "De même, vous pouvez réinitialiser complètement la session en cliquant sur Noyau et redémarrer.\n",
    "</div>"
   ]
  },
  {
   "cell_type": "markdown",
   "metadata": {},
   "source": [
    "<font color=\"RED\" size=\"+1\">**[Q]**</font> Dans la boîte \"Code\" suivante, écrire la fonction `calcul` qui, étant donné un réel $x$ de [0,1] rend la valeur du calcul $$-x\\log_2(x)-(1-x)\\log_2(1-x)$$ si $x\\not= 0$ et $x \\not= 1$ ou la valeur $0.0$ sinon."
   ]
  },
  {
   "cell_type": "code",
   "execution_count": 3,
   "metadata": {},
   "outputs": [],
   "source": [
    "def calcul(x):\n",
    "    if x==0 or x==1:\n",
    "        return 0.0\n",
    "    return -x*np.log2(x)-(1-x)*np.log2(1-x)"
   ]
  },
  {
   "cell_type": "code",
   "execution_count": 4,
   "metadata": {},
   "outputs": [
    {
     "data": {
      "text/plain": [
       "0.0"
      ]
     },
     "execution_count": 4,
     "metadata": {},
     "output_type": "execute_result"
    }
   ],
   "source": [
    "calcul(0)"
   ]
  },
  {
   "cell_type": "code",
   "execution_count": 5,
   "metadata": {},
   "outputs": [
    {
     "data": {
      "text/plain": [
       "np.float64(0.9182958340544896)"
      ]
     },
     "execution_count": 5,
     "metadata": {},
     "output_type": "execute_result"
    }
   ],
   "source": [
    "calcul(1/3)"
   ]
  },
  {
   "cell_type": "code",
   "execution_count": 6,
   "metadata": {},
   "outputs": [
    {
     "data": {
      "text/plain": [
       "np.float64(1.0)"
      ]
     },
     "execution_count": 6,
     "metadata": {},
     "output_type": "execute_result"
    }
   ],
   "source": [
    "calcul(0.5)"
   ]
  },
  {
   "cell_type": "markdown",
   "metadata": {},
   "source": [
    "## Documentation\n",
    "\n",
    "\n",
    "Dans un premier temps, et c'est un des objectifs de cette séance, vous devez prendre en main les libraries **numpy**, **pandas** et **matplotlib**:\n",
    "\n",
    "- Numpy = <http://scipy.github.io/old-wiki/pages/Tentative_NumPy_Tutorial>\n",
    "  ou bien <https://realpython.com/numpy-tutorial/>\n",
    "- Pandas = http://pandas.pydata.org/pandas-docs/stable/10min.html\n",
    "- Matplotlib = https://matplotlib.org/stable/index.html\n",
    "\n",
    "Lisez ces pages et pratiquez ces tutoriaux afin de bien vous familiariser avec ces outils."
   ]
  },
  {
   "cell_type": "markdown",
   "metadata": {},
   "source": [
    "<font color=\"RED\" size=\"+1\">**[Q]**</font> Donner dans la boîte suivante les grandes caractéristiques de chacunes de ces 3 librairies: A quoi servent-elles ? Que permettent-elles de représenter ? Quelle est leur utilité et leurs spécificités ? etc. etc.\n",
    "\n",
    "Donner des exemples de leurs utilisations spécifiques.\n",
    "\n",
    "Numpy permet de définir des matrices et des vecteurs\n",
    "La librairie Pandas permet de traiter des données d'un fichier Excel (.csv) et traite des dataframes qui peuvent être sauvegardées.\n",
    "Matplotlib est utile pour générer des graphiques à partir de données."
   ]
  },
  {
   "cell_type": "markdown",
   "metadata": {},
   "source": [
    "<div class=\"alert alert-block alert-info\">\n",
    "    Pour utiliser les 3 librairies précédentes, vous devrez d'abord les importer dans Jupyter par les commandes données dans la boite suivante.\n",
    "\n",
    "Si une librairie n'est pas installée, une erreur peut se produire lors de son import. Il est alors nécessaire de l'installer. Par exemple, pour la librairie pandas sur les machines de la PPTI:\n",
    "- dans un terminal, exécuter la commande:\n",
    "    \n",
    "        pip install --user -U --proxy http://proxy:3128 pandas\n",
    "\n",
    "(le proxy n'est nécessaire que pour les salles machines, vous n'avez pas à l'utiliser sur vos machines personnelles).\n",
    "- une fois la librairie installée, il est nécessaire de relancer le noyau Python de Jupyter:\n",
    "    dans le menu de Jupyter tout en haut de la page, choisir \"<tt>Kernel -> restart</tt>\"\n",
    "</div>\n"
   ]
  },
  {
   "cell_type": "code",
   "execution_count": 7,
   "metadata": {},
   "outputs": [],
   "source": [
    "import numpy as np\n",
    "import pandas as pd\n",
    "import matplotlib.pyplot as plt\n",
    "%matplotlib inline  "
   ]
  },
  {
   "cell_type": "markdown",
   "metadata": {},
   "source": [
    "<font color=\"RED\" size=\"+1\">**[Q]**</font> On souhaite tracer la courbe associée à la fonction `calcul` précédente pour $x\\in[0,1]$. On commence d'abord par calculer des valeurs de la fonction pour plusieurs $x$ puis on trace la courbe avec la fonction `plot` de la librairie matplotlib (cf. la doc)."
   ]
  },
  {
   "cell_type": "code",
   "execution_count": 8,
   "metadata": {},
   "outputs": [
    {
     "data": {
      "image/png": "[encoded data removed]",
      "text/plain": [
       "<Figure size 640x480 with 1 Axes>"
      ]
     },
     "metadata": {},
     "output_type": "display_data"
    }
   ],
   "source": [
    "# Compléter les instructions suivantes:\n",
    "\n",
    "valeurs_x = [i / 20 for i in range(21)]  # liste qui contient 21 valeurs de 0.0 à 1.0 espacées de 1/20. (ie. 0.0, 0.0+1/20, etc.)\n",
    "\n",
    "res_calcul = [calcul(x) for x in valeurs_x] #A COMPLETER#  # liste qui contient la valeur de la fonction calcul pour chaque x contenu dans la valeur\n",
    "\n",
    "\n",
    "# -----------------------------------------------\n",
    "#A COMPLETER# \n",
    "# -> indiquer comme label de l'axe des x : \"x\"\n",
    "# -> indiquer comme label de l'axe des y: \"calcul(x)\"\n",
    "plt.plot(valeurs_x, res_calcul, label=\"calcul(x)\")\n",
    "plt.xlabel(\"x\")\n",
    "plt.ylabel(\"calcul(x)\")\n",
    "plt.title(\"Représentation de la fonction calcul(x)\")\n",
    "plt.legend()\n",
    "plt.show()\n",
    "\n"
   ]
  },
  {
   "cell_type": "markdown",
   "metadata": {},
   "source": [
    "## Programmation et expérimentation ##\n",
    "\n",
    "Le jeu de données (ou *dataset*) qui sera utilisé dans cette séance pour valider vos fonctions correspond à des données concernant des prix dans différents états d'Amérique du Nord. \n",
    "\n",
    "\n",
    "La référence de ce dataset est disponible ici : <https://github.com/amitkaps/weed/blob/master/1-Acquire.ipynb>\n",
    "\n",
    "Ces données sont aussi fournies dans le fichier <tt>data-01.zip</tt> à télécharger sur le site Moodle.\n",
    "\n",
    "Elles se composent de trois fichiers:\n",
    "* <tt>\"data-01/Weed_Price.csv\"</tt>: prix par date et par état (pour trois qualités différentes)\n",
    "* <tt>\"data-01/Demographics_State.csv\"</tt>: informations démographiques sur chaque état\n",
    "* <tt>\"data-01/Population_State.csv\"</tt>: population de chaque état\n",
    "\n",
    "La première étape est de télécharger ces fichiers dans des dataframes pandas.\n",
    "\n",
    "Comme ce sont des fichiers <a href=\"https://fr.wikipedia.org/wiki/Comma-separated_values\"><tt>CSV</tt></a>, on utilise la librairie Pandas qui contient une fonction de lecture de ce type de fichiers."
   ]
  },
  {
   "cell_type": "code",
   "execution_count": 34,
   "metadata": {},
   "outputs": [],
   "source": [
    "# Chargement des fichiers de données :\n",
    "\n",
    "prices_pd = pd.read_csv(\"data-01/Weed_Price.csv\", parse_dates=[-1])\n",
    "demography_pd = pd.read_csv(\"data-01/Demographics_State.csv\")\n",
    "population_pd = pd.read_csv(\"data-01/Population_State.csv\")\n",
    "\n",
    "# ATTENTION : le répertoire data-01 doit se trouver dans le même répertoire que ce notebook (dans tme-01 donc)."
   ]
  },
  {
   "cell_type": "markdown",
   "metadata": {},
   "source": [
    "<font color=\"RED\" size=\"+1\">**[Q]**</font> **Des dataframes**\n",
    "Commencer par regarder la documentation de la fonction <tt>read_csv</tt> de la librairie Pandas. Que rend cette fonction (quel est le type de ce qui est rendu) ?\n",
    "\n",
    "Reponse: DataFrames"
   ]
  },
  {
   "cell_type": "code",
   "execution_count": null,
   "metadata": {},
   "outputs": [],
   "source": []
  },
  {
   "cell_type": "code",
   "execution_count": null,
   "metadata": {},
   "outputs": [],
   "source": []
  },
  {
   "cell_type": "code",
   "execution_count": null,
   "metadata": {},
   "outputs": [],
   "source": []
  },
  {
   "cell_type": "markdown",
   "metadata": {},
   "source": [
    "<font color=\"RED\" size=\"+1\">**[Q]**</font> **Des dataframes**\n",
    "Commencer par regarder la documentation de la fonction <tt>read_csv</tt> de la librairie Pandas. Que rend cette fonction (quel est le type de ce qui est rendu) ?"
   ]
  },
  {
   "cell_type": "code",
   "execution_count": null,
   "metadata": {},
   "outputs": [],
   "source": []
  },
  {
   "cell_type": "code",
   "execution_count": null,
   "metadata": {},
   "outputs": [],
   "source": []
  },
  {
   "cell_type": "code",
   "execution_count": null,
   "metadata": {},
   "outputs": [],
   "source": []
  },
  {
   "cell_type": "markdown",
   "metadata": {},
   "source": [
    "<font color=\"RED\" size=\"+1\">**[Q]**</font> **Des dataframes**\n",
    "\n",
    "Les dataframes Pandas permettent de stocker ensemble des données dont les valeurs peuvent être différentes. Cela peut s'apparenter à une feuille Excel (ou Libreoffice) : chaque ligne correspond à une même donnée (un \"exemple\") et contient dans chaque colonne des valeurs qui peuvent être de différents types.\n",
    "\n",
    "Examiner le type des trois variables qui viennent d'être définies. Pour cela, utiliser la fonction <tt>type</tt> de Python: par exemple <tt>type(prices_pd)</tt>."
   ]
  },
  {
   "cell_type": "code",
   "execution_count": 10,
   "metadata": {},
   "outputs": [
    {
     "data": {
      "text/plain": [
       "pandas.core.frame.DataFrame"
      ]
     },
     "execution_count": 10,
     "metadata": {},
     "output_type": "execute_result"
    }
   ],
   "source": [
    "# type de prices_pd:\n",
    "\n",
    "type(prices_pd)"
   ]
  },
  {
   "cell_type": "code",
   "execution_count": 11,
   "metadata": {},
   "outputs": [
    {
     "data": {
      "text/plain": [
       "pandas.core.frame.DataFrame"
      ]
     },
     "execution_count": 11,
     "metadata": {},
     "output_type": "execute_result"
    }
   ],
   "source": [
    "# type de demography_pd\n",
    "\n",
    "type(demography_pd)"
   ]
  },
  {
   "cell_type": "code",
   "execution_count": 12,
   "metadata": {},
   "outputs": [
    {
     "data": {
      "text/plain": [
       "pandas.core.frame.DataFrame"
      ]
     },
     "execution_count": 12,
     "metadata": {},
     "output_type": "execute_result"
    }
   ],
   "source": [
    "# type de population_pd\n",
    "\n",
    "type(population_pd)"
   ]
  },
  {
   "cell_type": "markdown",
   "metadata": {},
   "source": [
    "**Important**: chaque fois que vous utilisez une commande, regardez le type du résultat obtenu (liste, DataFrame, Series, array,...) cela vous permettra de savoir ce que vous pouvez appliquer sur ce résultat."
   ]
  },
  {
   "cell_type": "markdown",
   "metadata": {},
   "source": [
    "<font color=\"RED\" size=\"+1\">**[Q]**</font> **En savoir plus sur les données...**\n",
    "\n",
    "* Commencer par se familiariser avec les données en les visualisant et en affichant des exemples de lignes ou de colonnes que ces DataFrames contiennent. Pour cela, manipuler les fonctions des librairies que vous venez de découvrir (par exemple, <tt>head()</tt>, <tt>tail()</tt>, ...)."
   ]
  },
  {
   "cell_type": "code",
   "execution_count": 13,
   "metadata": {},
   "outputs": [
    {
     "data": {
      "text/html": [
       "<div>\n",
       "<style scoped>\n",
       "    .dataframe tbody tr th:only-of-type {\n",
       "        vertical-align: middle;\n",
       "    }\n",
       "\n",
       "    .dataframe tbody tr th {\n",
       "        vertical-align: top;\n",
       "    }\n",
       "\n",
       "    .dataframe thead th {\n",
       "        text-align: right;\n",
       "    }\n",
       "</style>\n",
       "<table border=\"1\" class=\"dataframe\">\n",
       "  <thead>\n",
       "    <tr style=\"text-align: right;\">\n",
       "      <th></th>\n",
       "      <th>State</th>\n",
       "      <th>HighQ</th>\n",
       "      <th>HighQN</th>\n",
       "      <th>MedQ</th>\n",
       "      <th>MedQN</th>\n",
       "      <th>LowQ</th>\n",
       "      <th>LowQN</th>\n",
       "      <th>date</th>\n",
       "    </tr>\n",
       "  </thead>\n",
       "  <tbody>\n",
       "    <tr>\n",
       "      <th>0</th>\n",
       "      <td>Alabama</td>\n",
       "      <td>339.06</td>\n",
       "      <td>1042</td>\n",
       "      <td>198.64</td>\n",
       "      <td>933</td>\n",
       "      <td>149.49</td>\n",
       "      <td>123</td>\n",
       "      <td>2014-01-01</td>\n",
       "    </tr>\n",
       "    <tr>\n",
       "      <th>1</th>\n",
       "      <td>Alaska</td>\n",
       "      <td>288.75</td>\n",
       "      <td>252</td>\n",
       "      <td>260.60</td>\n",
       "      <td>297</td>\n",
       "      <td>388.58</td>\n",
       "      <td>26</td>\n",
       "      <td>2014-01-01</td>\n",
       "    </tr>\n",
       "    <tr>\n",
       "      <th>2</th>\n",
       "      <td>Arizona</td>\n",
       "      <td>303.31</td>\n",
       "      <td>1941</td>\n",
       "      <td>209.35</td>\n",
       "      <td>1625</td>\n",
       "      <td>189.45</td>\n",
       "      <td>222</td>\n",
       "      <td>2014-01-01</td>\n",
       "    </tr>\n",
       "    <tr>\n",
       "      <th>3</th>\n",
       "      <td>Arkansas</td>\n",
       "      <td>361.85</td>\n",
       "      <td>576</td>\n",
       "      <td>185.62</td>\n",
       "      <td>544</td>\n",
       "      <td>125.87</td>\n",
       "      <td>112</td>\n",
       "      <td>2014-01-01</td>\n",
       "    </tr>\n",
       "    <tr>\n",
       "      <th>4</th>\n",
       "      <td>California</td>\n",
       "      <td>248.78</td>\n",
       "      <td>12096</td>\n",
       "      <td>193.56</td>\n",
       "      <td>12812</td>\n",
       "      <td>192.92</td>\n",
       "      <td>778</td>\n",
       "      <td>2014-01-01</td>\n",
       "    </tr>\n",
       "    <tr>\n",
       "      <th>5</th>\n",
       "      <td>Colorado</td>\n",
       "      <td>236.31</td>\n",
       "      <td>2161</td>\n",
       "      <td>195.29</td>\n",
       "      <td>1728</td>\n",
       "      <td>213.50</td>\n",
       "      <td>128</td>\n",
       "      <td>2014-01-01</td>\n",
       "    </tr>\n",
       "    <tr>\n",
       "      <th>6</th>\n",
       "      <td>Connecticut</td>\n",
       "      <td>347.90</td>\n",
       "      <td>1294</td>\n",
       "      <td>273.97</td>\n",
       "      <td>1316</td>\n",
       "      <td>257.36</td>\n",
       "      <td>91</td>\n",
       "      <td>2014-01-01</td>\n",
       "    </tr>\n",
       "    <tr>\n",
       "      <th>7</th>\n",
       "      <td>Delaware</td>\n",
       "      <td>373.18</td>\n",
       "      <td>347</td>\n",
       "      <td>226.25</td>\n",
       "      <td>273</td>\n",
       "      <td>199.88</td>\n",
       "      <td>34</td>\n",
       "      <td>2014-01-01</td>\n",
       "    </tr>\n",
       "    <tr>\n",
       "      <th>8</th>\n",
       "      <td>District of Columbia</td>\n",
       "      <td>352.26</td>\n",
       "      <td>433</td>\n",
       "      <td>295.67</td>\n",
       "      <td>349</td>\n",
       "      <td>213.72</td>\n",
       "      <td>39</td>\n",
       "      <td>2014-01-01</td>\n",
       "    </tr>\n",
       "    <tr>\n",
       "      <th>9</th>\n",
       "      <td>Florida</td>\n",
       "      <td>306.43</td>\n",
       "      <td>6506</td>\n",
       "      <td>220.03</td>\n",
       "      <td>5237</td>\n",
       "      <td>158.26</td>\n",
       "      <td>514</td>\n",
       "      <td>2014-01-01</td>\n",
       "    </tr>\n",
       "    <tr>\n",
       "      <th>10</th>\n",
       "      <td>Georgia</td>\n",
       "      <td>332.21</td>\n",
       "      <td>3099</td>\n",
       "      <td>213.52</td>\n",
       "      <td>2269</td>\n",
       "      <td>153.45</td>\n",
       "      <td>229</td>\n",
       "      <td>2014-01-01</td>\n",
       "    </tr>\n",
       "    <tr>\n",
       "      <th>11</th>\n",
       "      <td>Hawaii</td>\n",
       "      <td>310.96</td>\n",
       "      <td>328</td>\n",
       "      <td>270.38</td>\n",
       "      <td>350</td>\n",
       "      <td>160.46</td>\n",
       "      <td>25</td>\n",
       "      <td>2014-01-01</td>\n",
       "    </tr>\n",
       "    <tr>\n",
       "      <th>12</th>\n",
       "      <td>Idaho</td>\n",
       "      <td>276.05</td>\n",
       "      <td>315</td>\n",
       "      <td>254.96</td>\n",
       "      <td>445</td>\n",
       "      <td>132.61</td>\n",
       "      <td>20</td>\n",
       "      <td>2014-01-01</td>\n",
       "    </tr>\n",
       "    <tr>\n",
       "      <th>13</th>\n",
       "      <td>Illinois</td>\n",
       "      <td>359.74</td>\n",
       "      <td>4008</td>\n",
       "      <td>287.23</td>\n",
       "      <td>3644</td>\n",
       "      <td>181.25</td>\n",
       "      <td>329</td>\n",
       "      <td>2014-01-01</td>\n",
       "    </tr>\n",
       "    <tr>\n",
       "      <th>14</th>\n",
       "      <td>Indiana</td>\n",
       "      <td>336.80</td>\n",
       "      <td>1665</td>\n",
       "      <td>206.24</td>\n",
       "      <td>1446</td>\n",
       "      <td>154.05</td>\n",
       "      <td>248</td>\n",
       "      <td>2014-01-01</td>\n",
       "    </tr>\n",
       "  </tbody>\n",
       "</table>\n",
       "</div>"
      ],
      "text/plain": [
       "                   State   HighQ  HighQN    MedQ  MedQN    LowQ  LowQN  \\\n",
       "0                Alabama  339.06    1042  198.64    933  149.49    123   \n",
       "1                 Alaska  288.75     252  260.60    297  388.58     26   \n",
       "2                Arizona  303.31    1941  209.35   1625  189.45    222   \n",
       "3               Arkansas  361.85     576  185.62    544  125.87    112   \n",
       "4             California  248.78   12096  193.56  12812  192.92    778   \n",
       "5               Colorado  236.31    2161  195.29   1728  213.50    128   \n",
       "6            Connecticut  347.90    1294  273.97   1316  257.36     91   \n",
       "7               Delaware  373.18     347  226.25    273  199.88     34   \n",
       "8   District of Columbia  352.26     433  295.67    349  213.72     39   \n",
       "9                Florida  306.43    6506  220.03   5237  158.26    514   \n",
       "10               Georgia  332.21    3099  213.52   2269  153.45    229   \n",
       "11                Hawaii  310.96     328  270.38    350  160.46     25   \n",
       "12                 Idaho  276.05     315  254.96    445  132.61     20   \n",
       "13              Illinois  359.74    4008  287.23   3644  181.25    329   \n",
       "14               Indiana  336.80    1665  206.24   1446  154.05    248   \n",
       "\n",
       "         date  \n",
       "0  2014-01-01  \n",
       "1  2014-01-01  \n",
       "2  2014-01-01  \n",
       "3  2014-01-01  \n",
       "4  2014-01-01  \n",
       "5  2014-01-01  \n",
       "6  2014-01-01  \n",
       "7  2014-01-01  \n",
       "8  2014-01-01  \n",
       "9  2014-01-01  \n",
       "10 2014-01-01  \n",
       "11 2014-01-01  \n",
       "12 2014-01-01  \n",
       "13 2014-01-01  \n",
       "14 2014-01-01  "
      ]
     },
     "execution_count": 13,
     "metadata": {},
     "output_type": "execute_result"
    }
   ],
   "source": [
    "# 15 premières lignes de prices_pd\n",
    "\n",
    "prices_pd.head(15)"
   ]
  },
  {
   "cell_type": "code",
   "execution_count": 14,
   "metadata": {},
   "outputs": [
    {
     "data": {
      "text/html": [
       "<div>\n",
       "<style scoped>\n",
       "    .dataframe tbody tr th:only-of-type {\n",
       "        vertical-align: middle;\n",
       "    }\n",
       "\n",
       "    .dataframe tbody tr th {\n",
       "        vertical-align: top;\n",
       "    }\n",
       "\n",
       "    .dataframe thead th {\n",
       "        text-align: right;\n",
       "    }\n",
       "</style>\n",
       "<table border=\"1\" class=\"dataframe\">\n",
       "  <thead>\n",
       "    <tr style=\"text-align: right;\">\n",
       "      <th></th>\n",
       "      <th>State</th>\n",
       "      <th>HighQ</th>\n",
       "      <th>HighQN</th>\n",
       "      <th>MedQ</th>\n",
       "      <th>MedQN</th>\n",
       "      <th>LowQ</th>\n",
       "      <th>LowQN</th>\n",
       "      <th>date</th>\n",
       "    </tr>\n",
       "  </thead>\n",
       "  <tbody>\n",
       "    <tr>\n",
       "      <th>22892</th>\n",
       "      <td>Utah</td>\n",
       "      <td>290.42</td>\n",
       "      <td>959</td>\n",
       "      <td>238.08</td>\n",
       "      <td>1055</td>\n",
       "      <td>NaN</td>\n",
       "      <td>62</td>\n",
       "      <td>2014-12-31</td>\n",
       "    </tr>\n",
       "    <tr>\n",
       "      <th>22893</th>\n",
       "      <td>Vermont</td>\n",
       "      <td>371.23</td>\n",
       "      <td>357</td>\n",
       "      <td>308.86</td>\n",
       "      <td>367</td>\n",
       "      <td>NaN</td>\n",
       "      <td>32</td>\n",
       "      <td>2014-12-31</td>\n",
       "    </tr>\n",
       "    <tr>\n",
       "      <th>22894</th>\n",
       "      <td>Virginia</td>\n",
       "      <td>364.98</td>\n",
       "      <td>3513</td>\n",
       "      <td>293.12</td>\n",
       "      <td>3079</td>\n",
       "      <td>NaN</td>\n",
       "      <td>284</td>\n",
       "      <td>2014-12-31</td>\n",
       "    </tr>\n",
       "    <tr>\n",
       "      <th>22895</th>\n",
       "      <td>Washington</td>\n",
       "      <td>233.05</td>\n",
       "      <td>3337</td>\n",
       "      <td>189.92</td>\n",
       "      <td>3562</td>\n",
       "      <td>NaN</td>\n",
       "      <td>160</td>\n",
       "      <td>2014-12-31</td>\n",
       "    </tr>\n",
       "    <tr>\n",
       "      <th>22896</th>\n",
       "      <td>West Virginia</td>\n",
       "      <td>359.35</td>\n",
       "      <td>551</td>\n",
       "      <td>224.03</td>\n",
       "      <td>545</td>\n",
       "      <td>NaN</td>\n",
       "      <td>60</td>\n",
       "      <td>2014-12-31</td>\n",
       "    </tr>\n",
       "    <tr>\n",
       "      <th>22897</th>\n",
       "      <td>Wisconsin</td>\n",
       "      <td>350.52</td>\n",
       "      <td>2244</td>\n",
       "      <td>272.71</td>\n",
       "      <td>2221</td>\n",
       "      <td>NaN</td>\n",
       "      <td>167</td>\n",
       "      <td>2014-12-31</td>\n",
       "    </tr>\n",
       "    <tr>\n",
       "      <th>22898</th>\n",
       "      <td>Wyoming</td>\n",
       "      <td>322.27</td>\n",
       "      <td>131</td>\n",
       "      <td>351.86</td>\n",
       "      <td>197</td>\n",
       "      <td>NaN</td>\n",
       "      <td>12</td>\n",
       "      <td>2014-12-31</td>\n",
       "    </tr>\n",
       "  </tbody>\n",
       "</table>\n",
       "</div>"
      ],
      "text/plain": [
       "               State   HighQ  HighQN    MedQ  MedQN  LowQ  LowQN       date\n",
       "22892           Utah  290.42     959  238.08   1055   NaN     62 2014-12-31\n",
       "22893        Vermont  371.23     357  308.86    367   NaN     32 2014-12-31\n",
       "22894       Virginia  364.98    3513  293.12   3079   NaN    284 2014-12-31\n",
       "22895     Washington  233.05    3337  189.92   3562   NaN    160 2014-12-31\n",
       "22896  West Virginia  359.35     551  224.03    545   NaN     60 2014-12-31\n",
       "22897      Wisconsin  350.52    2244  272.71   2221   NaN    167 2014-12-31\n",
       "22898        Wyoming  322.27     131  351.86    197   NaN     12 2014-12-31"
      ]
     },
     "execution_count": 14,
     "metadata": {},
     "output_type": "execute_result"
    }
   ],
   "source": [
    "# 7 dernières lignes de prices_pd\n",
    "\n",
    "prices_pd.tail(7)"
   ]
  },
  {
   "cell_type": "markdown",
   "metadata": {},
   "source": [
    "<font color=\"RED\" size=\"+1\">**[Q]**</font> **Sélection de lignes et colonnes..**\n",
    "\n",
    "En utilisant les mécanismes de sélection qu'offrent les dataframes (slicing,...), donner les commandes permettant d'obtenir:\n",
    "1) seulement les lignes qui concernent l'état \"Hawaii\".\n",
    "\n",
    "2) seulement les valeurs des colonnes \"date\", \"HighQ\", et \"MedQ\", dans cet ordre, qui concernent les lignes de l'état \"Hawaii\".\n"
   ]
  },
  {
   "cell_type": "code",
   "execution_count": 25,
   "metadata": {},
   "outputs": [
    {
     "name": "stdout",
     "output_type": "stream",
     "text": [
      "        State   HighQ  HighQN    MedQ  MedQN    LowQ  LowQN       date\n",
      "11     Hawaii  310.96     328  270.38    350  160.46     25 2014-01-01\n",
      "62     Hawaii  307.64     452  263.45    522     NaN     30 2015-01-01\n",
      "113    Hawaii  307.76     338  272.99    370  162.11     26 2014-02-01\n",
      "164    Hawaii  306.34     464  261.94    542     NaN     30 2015-02-01\n",
      "215    Hawaii  307.96     353  274.35    382  167.62     27 2014-03-01\n",
      "...       ...     ...     ...     ...    ...     ...    ...        ...\n",
      "22655  Hawaii  309.64     408  265.58    455  174.23     29 2014-07-31\n",
      "22706  Hawaii  310.00     417  267.17    467     NaN     29 2014-08-31\n",
      "22757  Hawaii  310.97     426  267.10    482     NaN     29 2014-10-31\n",
      "22808  Hawaii  310.96     328  270.38    350  160.46     25 2013-12-31\n",
      "22859  Hawaii  307.64     452  263.45    522     NaN     30 2014-12-31\n",
      "\n",
      "[449 rows x 8 columns]\n"
     ]
    }
   ],
   "source": [
    "# Les lignes concernant l'état \"Hawaii\"\n",
    "\n",
    "print(prices_pd[prices_pd['State'] == \"Hawaii\"])"
   ]
  },
  {
   "cell_type": "code",
   "execution_count": 26,
   "metadata": {},
   "outputs": [
    {
     "name": "stdout",
     "output_type": "stream",
     "text": [
      "            date   HighQ    MedQ\n",
      "11    2014-01-01  310.96  270.38\n",
      "62    2015-01-01  307.64  263.45\n",
      "113   2014-02-01  307.76  272.99\n",
      "164   2015-02-01  306.34  261.94\n",
      "215   2014-03-01  307.96  274.35\n",
      "...          ...     ...     ...\n",
      "22655 2014-07-31  309.64  265.58\n",
      "22706 2014-08-31  310.00  267.17\n",
      "22757 2014-10-31  310.97  267.10\n",
      "22808 2013-12-31  310.96  270.38\n",
      "22859 2014-12-31  307.64  263.45\n",
      "\n",
      "[449 rows x 3 columns]\n"
     ]
    }
   ],
   "source": [
    "# Les valeurs de la colonne \"HighQ\" ne concernant que les lignes de l'état \"Hawaii\" \n",
    "\n",
    "res = prices_pd[prices_pd['State'] == \"Hawaii\"]\n",
    "print(res[['date', 'HighQ', 'MedQ']])"
   ]
  },
  {
   "cell_type": "markdown",
   "metadata": {},
   "source": [
    "Les types des données peuvent être récupérés à travers la méthode <tt>dtypes</tt>:"
   ]
  },
  {
   "cell_type": "code",
   "execution_count": 27,
   "metadata": {},
   "outputs": [
    {
     "data": {
      "text/plain": [
       "State             object\n",
       "HighQ            float64\n",
       "HighQN             int64\n",
       "MedQ             float64\n",
       "MedQN              int64\n",
       "LowQ             float64\n",
       "LowQN              int64\n",
       "date      datetime64[ns]\n",
       "dtype: object"
      ]
     },
     "execution_count": 27,
     "metadata": {},
     "output_type": "execute_result"
    }
   ],
   "source": [
    "prices_pd.dtypes"
   ]
  },
  {
   "cell_type": "markdown",
   "metadata": {},
   "source": [
    "Il y a beaucoup de fonction s à découvrir pour obtenir des informations utiles sur les DataFrames. Par exemple, la liste des états peut être obtenue ainsi:"
   ]
  },
  {
   "cell_type": "code",
   "execution_count": 28,
   "metadata": {},
   "outputs": [],
   "source": [
    "les_etats = np.unique(prices_pd[\"State\"].values)"
   ]
  },
  {
   "cell_type": "code",
   "execution_count": 29,
   "metadata": {},
   "outputs": [
    {
     "name": "stdout",
     "output_type": "stream",
     "text": [
      "['Alabama' 'Alaska' 'Arizona' 'Arkansas' 'California' 'Colorado'\n",
      " 'Connecticut' 'Delaware' 'District of Columbia' 'Florida' 'Georgia'\n",
      " 'Hawaii' 'Idaho' 'Illinois' 'Indiana' 'Iowa' 'Kansas' 'Kentucky'\n",
      " 'Louisiana' 'Maine' 'Maryland' 'Massachusetts' 'Michigan' 'Minnesota'\n",
      " 'Mississippi' 'Missouri' 'Montana' 'Nebraska' 'Nevada' 'New Hampshire'\n",
      " 'New Jersey' 'New Mexico' 'New York' 'North Carolina' 'North Dakota'\n",
      " 'Ohio' 'Oklahoma' 'Oregon' 'Pennsylvania' 'Rhode Island' 'South Carolina'\n",
      " 'South Dakota' 'Tennessee' 'Texas' 'Utah' 'Vermont' 'Virginia'\n",
      " 'Washington' 'West Virginia' 'Wisconsin' 'Wyoming']\n"
     ]
    }
   ],
   "source": [
    "# Afficher la liste des états :\n",
    "\n",
    "print(les_etats)"
   ]
  },
  {
   "cell_type": "markdown",
   "metadata": {},
   "source": [
    "Comparer le nombre de valeurs de :\n",
    "\n",
    "        prices_pd[\"MedQ\"].values\n",
    "\n",
    "et de \n",
    "\n",
    "        np.unique(prices_pd[\"MedQ\"].values)\n",
    "\n",
    "Expliquer ce qui se passe.        "
   ]
  },
  {
   "cell_type": "code",
   "execution_count": 33,
   "metadata": {},
   "outputs": [
    {
     "name": "stdout",
     "output_type": "stream",
     "text": [
      "False\n"
     ]
    }
   ],
   "source": [
    "# Tester l'égalité :\n",
    "print(np.array_equal(prices_pd[\"MedQ\"].values,np.unique(prices_pd[\"MedQ\"].values)))"
   ]
  },
  {
   "cell_type": "markdown",
   "metadata": {},
   "source": [
    "## Implémentation de mesures classiques ##\n"
   ]
  },
  {
   "cell_type": "markdown",
   "metadata": {},
   "source": [
    "Nous allons maintenant écrire les fonctions permettant de calculer des mesures ''basiques'' sur des données unidimensionnelles. Pour cela, nous allons travailler avec la structure <tt>array</tt> de numpy. Pour convertir une colonne de DataFrame en '<tt>array</tt>, voici commment faire, par exemple avec la colonne `\"HighQ\"`:"
   ]
  },
  {
   "cell_type": "code",
   "execution_count": 35,
   "metadata": {},
   "outputs": [
    {
     "data": {
      "text/plain": [
       "array([339.06, 288.75, 303.31, ..., 359.35, 350.52, 322.27])"
      ]
     },
     "execution_count": 35,
     "metadata": {},
     "output_type": "execute_result"
    }
   ],
   "source": [
    "np.array(prices_pd[\"HighQ\"])"
   ]
  },
  {
   "cell_type": "markdown",
   "metadata": {},
   "source": [
    "### Moyenne"
   ]
  },
  {
   "cell_type": "markdown",
   "metadata": {},
   "source": [
    "<font color=\"RED\" size=\"+1\">**[Q]**</font> **La moyenne**\n",
    "\n",
    "\n",
    "Ecrire la fonction `moyenne`(valeurs) qui calcule la moyenne des éléments d'un tableau.\n",
    "\n",
    "Aide: si possible, éviter les boucles et privilégier les fonctions numpy."
   ]
  },
  {
   "cell_type": "code",
   "execution_count": 52,
   "metadata": {},
   "outputs": [],
   "source": [
    "def moyenne(tab):\n",
    "    return np.mean(tab)"
   ]
  },
  {
   "cell_type": "code",
   "execution_count": 53,
   "metadata": {},
   "outputs": [
    {
     "data": {
      "text/plain": [
       "np.float64(329.7598541421023)"
      ]
     },
     "execution_count": 53,
     "metadata": {},
     "output_type": "execute_result"
    }
   ],
   "source": [
    "moyenne(np.array(prices_pd[\"HighQ\"]))"
   ]
  },
  {
   "cell_type": "code",
   "execution_count": 54,
   "metadata": {},
   "outputs": [
    {
     "data": {
      "text/plain": [
       "0        198.64\n",
       "1        260.60\n",
       "2        209.35\n",
       "3        185.62\n",
       "4        193.56\n",
       "          ...  \n",
       "22894    293.12\n",
       "22895    189.92\n",
       "22896    224.03\n",
       "22897    272.71\n",
       "22898    351.86\n",
       "Name: MedQ, Length: 22899, dtype: float64"
      ]
     },
     "execution_count": 54,
     "metadata": {},
     "output_type": "execute_result"
    }
   ],
   "source": [
    "prices_pd[\"MedQ\"]"
   ]
  },
  {
   "cell_type": "markdown",
   "metadata": {},
   "source": [
    "Tester la fonction moyenne et comparer vos résultats avec l'implémentation de base de python donnée ci-dessous:"
   ]
  },
  {
   "cell_type": "code",
   "execution_count": 55,
   "metadata": {},
   "outputs": [
    {
     "name": "stdout",
     "output_type": "stream",
     "text": [
      "La moyenne (MedQ) est avec ma fonction : 247.618306 dollars\n",
      "La moyenne (MedQ) est avec mean        : 247.618306 dollars\n"
     ]
    }
   ],
   "source": [
    "print(\"La moyenne (MedQ) est avec ma fonction : %f dollars\" % moyenne(prices_pd[\"MedQ\"]))\n",
    "print(\"La moyenne (MedQ) est avec mean        : %f dollars\" % prices_pd[\"MedQ\"].mean())"
   ]
  },
  {
   "cell_type": "markdown",
   "metadata": {},
   "source": [
    "<font color=\"RED\" size=\"+1\">**[Q]**</font> **Moyennes sur les qualités**\n",
    "\n",
    "Calculer:\n",
    "* La moyenne des prix pour les qualités medium et high\n",
    "* La moyenne des prix pour les qualités medium et high dans l'état de ''New York''\n",
    "\n",
    "Les calculs seront fait d'une part à l'aide de votre fonction, et d'autre part à l'aide des fonctions de python (pour être sûr d'obtenir la même chose) et vous comparerez les temps d'exécutions."
   ]
  },
  {
   "cell_type": "code",
   "execution_count": 56,
   "metadata": {},
   "outputs": [
    {
     "name": "stdout",
     "output_type": "stream",
     "text": [
      "Affichage de temps d'exécution :\n",
      "--->  0.0003190040588378906 seconds\n"
     ]
    }
   ],
   "source": [
    "# Utile: calculer un temps d'exécution\n",
    "import time\n",
    "\n",
    "print(\"Affichage de temps d'exécution :\")\n",
    "tic = time.time()\n",
    "somme = 0\n",
    "produit = 0\n",
    "for i in range(0,1000):\n",
    "    somme += i\n",
    "    produit *= i\n",
    "toc = time.time()\n",
    "print(\"---> \",toc-tic,\"seconds\")\n"
   ]
  },
  {
   "cell_type": "code",
   "execution_count": 59,
   "metadata": {},
   "outputs": [
    {
     "name": "stdout",
     "output_type": "stream",
     "text": [
      "Calcul des moyennes pour toutes les données avec une fonction personnalisée :\n",
      "Moyenne MedQ : 247.61830603956503\n",
      "Moyenne HighQ : 329.7598541421023\n",
      "Temps d'exécution : 0.0007100105285644531 secondes\n",
      "\n",
      "Calcul des moyennes pour toutes les données avec les fonctions intégrées :\n",
      "Moyenne MedQ : 247.61830603956503\n",
      "Moyenne HighQ : 329.7598541421023\n",
      "Temps d'exécution : 0.0010709762573242188 secondes\n",
      "\n",
      "Calcul des moyennes pour 'New York' avec une fonction personnalisée :\n",
      "Moyenne MedQ : 265.37694877505567\n",
      "Moyenne HighQ : 346.91276169265035\n",
      "Temps d'exécution : 0.0040280818939208984 secondes\n",
      "\n",
      "Calcul des moyennes pour 'New York' avec les fonctions intégrées :\n",
      "Moyenne MedQ : 265.37694877505567\n",
      "Moyenne HighQ : 346.91276169265035\n",
      "Temps d'exécution : 0.0002231597900390625 secondes\n",
      "\n"
     ]
    },
    {
     "data": {
      "text/plain": [
       "\"\\n1. Résultats des moyennes\\nLes résultats des moyennes sont exactement les mêmes entre la fonction personnalisée (avec np.mean) et les fonctions intégrées de Pandas :\\n\\nMoyenne MedQ pour toutes les données :\\nFonction personnalisée : 247.61830603956503\\nFonction intégrée : 247.61830603956503\\nMoyenne HighQ pour toutes les données :\\nFonction personnalisée : 329.7598541421023\\nFonction intégrée : 329.7598541421023\\nMoyenne MedQ pour 'New York' :\\nFonction personnalisée : 265.37694877505567\\nFonction intégrée : 265.37694877505567\\nMoyenne HighQ pour 'New York' :\\nFonction personnalisée : 346.91276169265035\\nFonction intégrée : 346.91276169265035\\nLes résultats sont parfaitement identiques, ce qui montre que notre fonction personnalisée avec np.mean() fonctionne correctement et donne les mêmes résultats que les fonctions intégrées de Pandas.\\n\\n2. Comparaison des temps d'exécution\\nPour toutes les données :\\nTemps d'exécution avec la fonction personnalisée : 0.000926971435546875 secondes\\nTemps d'exécution avec la fonction intégrée : 0.0009930133819580078 secondes\\nLa fonction personnalisée est légèrement plus rapide (environ 0.00007 secondes), mais la différence est minime.\\nPour 'New York' :\\nTemps d'exécution avec la fonction personnalisée : 0.0033369064331054688 secondes\\nTemps d'exécution avec la fonction intégrée : 0.00019288063049316406 secondes\\nIci, la différence est beaucoup plus significative. La fonction intégrée est beaucoup plus rapide (environ 17 fois plus rapide). Cela est dû à l'optimisation des fonctions intégrées de Pandas.\\n\\nConclusion\\nRésultats : Les moyennes obtenues avec les deux méthodes (fonction personnalisée et fonction intégrée) sont identiques.\\nPerformance : Les fonctions intégrées de Pandas sont significativement plus rapides, en particulier pour les grandes quantités de données, comme c'est le cas pour 'New York'.\\n\""
      ]
     },
     "execution_count": 59,
     "metadata": {},
     "output_type": "execute_result"
    }
   ],
   "source": [
    "# 1. Calcul de la moyenne des prix pour toutes les données, pour les qualités \"MedQ\" et \"HighQ\"\n",
    "tic = time.time()\n",
    "moyenne_medq_custom = moyenne(prices_pd[\"MedQ\"].values)\n",
    "moyenne_highq_custom = moyenne(prices_pd[\"HighQ\"].values)\n",
    "toc = time.time()\n",
    "print(\"Calcul des moyennes pour toutes les données avec une fonction personnalisée :\")\n",
    "print(\"Moyenne MedQ :\", moyenne_medq_custom)\n",
    "print(\"Moyenne HighQ :\", moyenne_highq_custom)\n",
    "print(\"Temps d'exécution :\", toc - tic, \"secondes\\n\")\n",
    "\n",
    "# Calcul des moyennes en utilisant les fonctions intégrées de Panda\n",
    "tic = time.time()\n",
    "moyenne_medq_builtin = prices_pd[\"MedQ\"].mean()\n",
    "moyenne_highq_builtin = prices_pd[\"HighQ\"].mean()\n",
    "toc = time.time()\n",
    "print(\"Calcul des moyennes pour toutes les données avec les fonctions intégrées :\")\n",
    "print(\"Moyenne MedQ :\", moyenne_medq_builtin)\n",
    "print(\"Moyenne HighQ :\", moyenne_highq_builtin)\n",
    "print(\"Temps d'exécution :\", toc - tic, \"secondes\\n\")\n",
    "\n",
    "# 2. Calcul de la moyenne des prix pour les données de l'état \"New York\", pour les qualités \"MedQ\" et \"HighQ\"\n",
    "tic = time.time()\n",
    "ny_data = prices_pd[prices_pd[\"State\"] == \"New York\"]\n",
    "moyenne_medq_ny_custom = moyenne(ny_data[\"MedQ\"].values)\n",
    "moyenne_highq_ny_custom = moyenne(ny_data[\"HighQ\"].values)\n",
    "toc = time.time()\n",
    "print(\"Calcul des moyennes pour 'New York' avec une fonction personnalisée :\")\n",
    "print(\"Moyenne MedQ :\", moyenne_medq_ny_custom)\n",
    "print(\"Moyenne HighQ :\", moyenne_highq_ny_custom)\n",
    "print(\"Temps d'exécution :\", toc - tic, \"secondes\\n\")\n",
    "\n",
    "# Calcul des moyennes pour l'état \"New York\" en utilisant les fonctions intégrées de Panda\n",
    "tic = time.time()\n",
    "moyenne_medq_ny_builtin = ny_data[\"MedQ\"].mean()\n",
    "moyenne_highq_ny_builtin = ny_data[\"HighQ\"].mean()\n",
    "toc = time.time()\n",
    "print(\"Calcul des moyennes pour 'New York' avec les fonctions intégrées :\")\n",
    "print(\"Moyenne MedQ :\", moyenne_medq_ny_builtin)\n",
    "print(\"Moyenne HighQ :\", moyenne_highq_ny_builtin)\n",
    "print(\"Temps d'exécution :\", toc - tic, \"secondes\\n\")\n",
    "\n",
    "\n",
    "'''\n",
    "1. Résultats des moyennes\n",
    "Les résultats des moyennes sont exactement les mêmes entre la fonction personnalisée (avec np.mean) et les fonctions intégrées de Pandas :\n",
    "\n",
    "Moyenne MedQ pour toutes les données :\n",
    "Fonction personnalisée : 247.61830603956503\n",
    "Fonction intégrée : 247.61830603956503\n",
    "Moyenne HighQ pour toutes les données :\n",
    "Fonction personnalisée : 329.7598541421023\n",
    "Fonction intégrée : 329.7598541421023\n",
    "Moyenne MedQ pour 'New York' :\n",
    "Fonction personnalisée : 265.37694877505567\n",
    "Fonction intégrée : 265.37694877505567\n",
    "Moyenne HighQ pour 'New York' :\n",
    "Fonction personnalisée : 346.91276169265035\n",
    "Fonction intégrée : 346.91276169265035\n",
    "Les résultats sont parfaitement identiques, ce qui montre que notre fonction personnalisée avec np.mean() fonctionne correctement et donne les mêmes résultats que les fonctions intégrées de Pandas.\n",
    "\n",
    "2. Comparaison des temps d'exécution\n",
    "Pour toutes les données :\n",
    "Temps d'exécution avec la fonction personnalisée : 0.000926971435546875 secondes\n",
    "Temps d'exécution avec la fonction intégrée : 0.0009930133819580078 secondes\n",
    "La fonction personnalisée est légèrement plus rapide (environ 0.00007 secondes), mais la différence est minime.\n",
    "Pour 'New York' :\n",
    "Temps d'exécution avec la fonction personnalisée : 0.0033369064331054688 secondes\n",
    "Temps d'exécution avec la fonction intégrée : 0.00019288063049316406 secondes\n",
    "Ici, la différence est beaucoup plus significative. La fonction intégrée est beaucoup plus rapide (environ 17 fois plus rapide). Cela est dû à l'optimisation des fonctions intégrées de Pandas.\n",
    "\n",
    "Conclusion\n",
    "Résultats : Les moyennes obtenues avec les deux méthodes (fonction personnalisée et fonction intégrée) sont identiques.\n",
    "Performance : Les fonctions intégrées de Pandas sont significativement plus rapides, en particulier pour les grandes quantités de données, comme c'est le cas pour 'New York'.\n",
    "'''"
   ]
  },
  {
   "cell_type": "markdown",
   "metadata": {},
   "source": [
    "<font color=\"RED\" size=\"+1\">**[Q]**</font> **Moyenne sur les états**\n",
    "\n",
    "Calculez la moyenne des prix qualités medium et high dans tous les états -- la liste des états est obtenues ainsi `states=np.unique(prices_pd[\"State\"].values)`\n",
    "\n",
    "Pour cela, vous pouvez (devez) le faire de deux manières:\n",
    "* Faire une boucle sur chacun des états\n",
    "* Utiliser la fonction groupby comme expliqué ici : http://pandas.pydata.org/pandas-docs/stable/groupby.html\n",
    " et ici : https://www.kaggle.com/crawford/python-groupby-tutorial\n"
   ]
  },
  {
   "cell_type": "code",
   "execution_count": null,
   "metadata": {},
   "outputs": [],
   "source": []
  },
  {
   "cell_type": "code",
   "execution_count": 61,
   "metadata": {},
   "outputs": [
    {
     "name": "stdout",
     "output_type": "stream",
     "text": [
      "État: Alabama\n",
      "  Moyenne MedQ: 204.6061692650334\n",
      "  Moyenne HighQ: 339.5618485523386\n",
      "État: Alaska\n",
      "  Moyenne MedQ: 262.0463919821826\n",
      "  Moyenne HighQ: 291.4820044543429\n",
      "État: Arizona\n",
      "  Moyenne MedQ: 209.36534521158129\n",
      "  Moyenne HighQ: 300.66748329621385\n",
      "État: Arkansas\n",
      "  Moyenne MedQ: 190.4146547884187\n",
      "  Moyenne HighQ: 348.0561469933185\n",
      "État: California\n",
      "  Moyenne MedQ: 191.26890868596882\n",
      "  Moyenne HighQ: 245.37612472160356\n",
      "État: Colorado\n",
      "  Moyenne MedQ: 196.5325167037862\n",
      "  Moyenne HighQ: 238.91870824053453\n",
      "État: Connecticut\n",
      "  Moyenne MedQ: 271.3238975501113\n",
      "  Moyenne HighQ: 341.6940757238307\n",
      "État: Delaware\n",
      "  Moyenne MedQ: 231.23031180400892\n",
      "  Moyenne HighQ: 366.7818485523385\n",
      "État: District of Columbia\n",
      "  Moyenne MedQ: 288.2513140311804\n",
      "  Moyenne HighQ: 348.1774164810691\n",
      "État: Florida\n",
      "  Moyenne MedQ: 217.88256124721602\n",
      "  Moyenne HighQ: 302.57031180400895\n",
      "État: Georgia\n",
      "  Moyenne MedQ: 215.9436302895323\n",
      "  Moyenne HighQ: 326.6596436525612\n",
      "État: Hawaii\n",
      "  Moyenne MedQ: 268.73815144766144\n",
      "  Moyenne HighQ: 309.9189309576838\n",
      "État: Idaho\n",
      "  Moyenne MedQ: 249.8224276169265\n",
      "  Moyenne HighQ: 275.6393763919822\n",
      "État: Illinois\n",
      "  Moyenne MedQ: 284.18008908685965\n",
      "  Moyenne HighQ: 355.46334075723826\n",
      "État: Indiana\n",
      "  Moyenne MedQ: 211.98951002227173\n",
      "  Moyenne HighQ: 333.1911135857461\n",
      "État: Iowa\n",
      "  Moyenne MedQ: 289.9455233853007\n",
      "  Moyenne HighQ: 367.09579064587973\n",
      "État: Kansas\n",
      "  Moyenne MedQ: 261.24307349665924\n",
      "  Moyenne HighQ: 350.8191982182628\n",
      "État: Kentucky\n",
      "  Moyenne MedQ: 179.93376391982184\n",
      "  Moyenne HighQ: 338.855167037862\n",
      "État: Louisiana\n",
      "  Moyenne MedQ: 243.11788418708238\n",
      "  Moyenne HighQ: 366.8325389755011\n",
      "État: Maine\n",
      "  Moyenne MedQ: 248.43817371937638\n",
      "  Moyenne HighQ: 315.39008908685975\n",
      "État: Maryland\n",
      "  Moyenne MedQ: 254.14044543429844\n",
      "  Moyenne HighQ: 370.98516703786197\n",
      "État: Massachusetts\n",
      "  Moyenne MedQ: 290.1978841870824\n",
      "  Moyenne HighQ: 349.01164810690426\n",
      "État: Michigan\n",
      "  Moyenne MedQ: 273.3523385300668\n",
      "  Moyenne HighQ: 292.09051224944324\n",
      "État: Minnesota\n",
      "  Moyenne MedQ: 275.85006681514477\n",
      "  Moyenne HighQ: 358.24327394209354\n",
      "État: Mississippi\n",
      "  Moyenne MedQ: 148.23160356347438\n",
      "  Moyenne HighQ: 337.5592873051225\n",
      "État: Missouri\n",
      "  Moyenne MedQ: 244.81220489977727\n",
      "  Moyenne HighQ: 359.27663697104674\n",
      "État: Montana\n",
      "  Moyenne MedQ: 248.39855233853004\n",
      "  Moyenne HighQ: 267.8317371937639\n",
      "État: Nebraska\n",
      "  Moyenne MedQ: 248.16064587973275\n",
      "  Moyenne HighQ: 341.5593541202673\n",
      "État: Nevada\n",
      "  Moyenne MedQ: 226.21741648106902\n",
      "  Moyenne HighQ: 267.8201113585746\n",
      "État: New Hampshire\n",
      "  Moyenne MedQ: 290.1077505567929\n",
      "  Moyenne HighQ: 359.4760356347439\n",
      "État: New Jersey\n",
      "  Moyenne MedQ: 288.72701559020044\n",
      "  Moyenne HighQ: 349.32169265033406\n",
      "État: New Mexico\n",
      "  Moyenne MedQ: 209.2422494432071\n",
      "  Moyenne HighQ: 289.56253897550107\n",
      "État: New York\n",
      "  Moyenne MedQ: 265.37694877505567\n",
      "  Moyenne HighQ: 346.91276169265035\n",
      "État: North Carolina\n",
      "  Moyenne MedQ: 245.69922048997776\n",
      "  Moyenne HighQ: 349.4750334075724\n",
      "État: North Dakota\n",
      "  Moyenne MedQ: 349.0666815144766\n",
      "  Moyenne HighQ: 398.66875278396435\n",
      "État: Ohio\n",
      "  Moyenne MedQ: 216.95316258351895\n",
      "  Moyenne HighQ: 334.55465478841865\n",
      "État: Oklahoma\n",
      "  Moyenne MedQ: 233.82200445434296\n",
      "  Moyenne HighQ: 361.573140311804\n",
      "État: Oregon\n",
      "  Moyenne MedQ: 183.88986636971043\n",
      "  Moyenne HighQ: 208.49623608017816\n",
      "État: Pennsylvania\n",
      "  Moyenne MedQ: 267.8913363028953\n",
      "  Moyenne HighQ: 366.1256792873051\n",
      "État: Rhode Island\n",
      "  Moyenne MedQ: 258.172293986637\n",
      "  Moyenne HighQ: 323.8383518930958\n",
      "État: South Carolina\n",
      "  Moyenne MedQ: 203.33977728285078\n",
      "  Moyenne HighQ: 341.6929175946548\n",
      "État: South Dakota\n",
      "  Moyenne MedQ: 351.9448106904231\n",
      "  Moyenne HighQ: 375.8184855233853\n",
      "État: Tennessee\n",
      "  Moyenne MedQ: 225.80886414253897\n",
      "  Moyenne HighQ: 352.7530066815144\n",
      "État: Texas\n",
      "  Moyenne MedQ: 233.5368374164811\n",
      "  Moyenne HighQ: 337.1052115812917\n",
      "État: Utah\n",
      "  Moyenne MedQ: 237.3718930957684\n",
      "  Moyenne HighQ: 289.5960579064588\n",
      "État: Vermont\n",
      "  Moyenne MedQ: 315.5475501113586\n",
      "  Moyenne HighQ: 374.25044543429846\n",
      "État: Virginia\n",
      "  Moyenne MedQ: 290.4080846325167\n",
      "  Moyenne HighQ: 368.1469933184855\n",
      "État: Washington\n",
      "  Moyenne MedQ: 189.92498886414256\n",
      "  Moyenne HighQ: 233.38781737193764\n",
      "État: West Virginia\n",
      "  Moyenne MedQ: 215.88380846325168\n",
      "  Moyenne HighQ: 357.394565701559\n",
      "État: Wisconsin\n",
      "  Moyenne MedQ: 271.6481737193764\n",
      "  Moyenne HighQ: 353.05251670378624\n",
      "État: Wyoming\n",
      "  Moyenne MedQ: 358.5348329621381\n",
      "  Moyenne HighQ: 339.0207795100223\n",
      "                            MedQ       HighQ\n",
      "State                                       \n",
      "Alabama               204.606169  339.561849\n",
      "Alaska                262.046392  291.482004\n",
      "Arizona               209.365345  300.667483\n",
      "Arkansas              190.414655  348.056147\n",
      "California            191.268909  245.376125\n",
      "Colorado              196.532517  238.918708\n",
      "Connecticut           271.323898  341.694076\n",
      "Delaware              231.230312  366.781849\n",
      "District of Columbia  288.251314  348.177416\n",
      "Florida               217.882561  302.570312\n",
      "Georgia               215.943630  326.659644\n",
      "Hawaii                268.738151  309.918931\n",
      "Idaho                 249.822428  275.639376\n",
      "Illinois              284.180089  355.463341\n",
      "Indiana               211.989510  333.191114\n",
      "Iowa                  289.945523  367.095791\n",
      "Kansas                261.243073  350.819198\n",
      "Kentucky              179.933764  338.855167\n",
      "Louisiana             243.117884  366.832539\n",
      "Maine                 248.438174  315.390089\n",
      "Maryland              254.140445  370.985167\n",
      "Massachusetts         290.197884  349.011648\n",
      "Michigan              273.352339  292.090512\n",
      "Minnesota             275.850067  358.243274\n",
      "Mississippi           148.231604  337.559287\n",
      "Missouri              244.812205  359.276637\n",
      "Montana               248.398552  267.831737\n",
      "Nebraska              248.160646  341.559354\n",
      "Nevada                226.217416  267.820111\n",
      "New Hampshire         290.107751  359.476036\n",
      "New Jersey            288.727016  349.321693\n",
      "New Mexico            209.242249  289.562539\n",
      "New York              265.376949  346.912762\n",
      "North Carolina        245.699220  349.475033\n",
      "North Dakota          349.066682  398.668753\n",
      "Ohio                  216.953163  334.554655\n",
      "Oklahoma              233.822004  361.573140\n",
      "Oregon                183.889866  208.496236\n",
      "Pennsylvania          267.891336  366.125679\n",
      "Rhode Island          258.172294  323.838352\n",
      "South Carolina        203.339777  341.692918\n",
      "South Dakota          351.944811  375.818486\n",
      "Tennessee             225.808864  352.753007\n",
      "Texas                 233.536837  337.105212\n",
      "Utah                  237.371893  289.596058\n",
      "Vermont               315.547550  374.250445\n",
      "Virginia              290.408085  368.146993\n",
      "Washington            189.924989  233.387817\n",
      "West Virginia         215.883808  357.394566\n",
      "Wisconsin             271.648174  353.052517\n",
      "Wyoming               358.534833  339.020780\n"
     ]
    }
   ],
   "source": [
    "# Methode 1 avec boucle\n",
    "states = np.unique(prices_pd[\"State\"].values)\n",
    "for state in states:\n",
    "    state_data = prices_pd[prices_pd[\"State\"] == state]\n",
    "    moyenne_medq = np.mean(state_data[\"MedQ\"].values)\n",
    "    moyenne_highq = np.mean(state_data[\"HighQ\"].values)\n",
    "    print(f\"État: {state}\")\n",
    "    print(f\"  Moyenne MedQ: {moyenne_medq}\")\n",
    "    print(f\"  Moyenne HighQ: {moyenne_highq}\")\n",
    "\n",
    "# Methode 2 avec groupby\n",
    "grouped = prices_pd.groupby(\"State\")[[\"MedQ\", \"HighQ\"]].mean()\n",
    "print(grouped)"
   ]
  },
  {
   "cell_type": "markdown",
   "metadata": {},
   "source": [
    "<font color=\"RED\" size=\"+1\">**[Q]**</font> **Modification de données**\n",
    "\n",
    "Remplacez le <tt>NAN</tt> de la colonne <tt>LowQ</tt> à l'aide de la fonction décrite ici: http://pandas.pydata.org/pandas-docs/version/0.17.1/generated/pandas.DataFrame.fillna.html avec sa variante pour les versions pandas plus récentes https://pandas.pydata.org/docs/reference/api/pandas.DataFrame.ffill.html.\n",
    "\n",
    "Nous souhaitons plus particulièrement utiliser une méthode de remplissage après avoir trié par état et par date grâce à l'utilisation de la fonction <tt>sort</tt> : \n",
    "\n",
    "            prices_sorted = prices_pd.sort_values(by=['State', 'date'], inplace=False)\n",
    "\n",
    "Expliquer le résultat de cette commande.\n",
    "Que se passerait-il si on utilisait <tt>inplace=True</tt> ?"
   ]
  },
  {
   "cell_type": "code",
   "execution_count": null,
   "metadata": {},
   "outputs": [],
   "source": [
    "# Tri avec les Nan\n",
    "prices_sorted = prices_pd.sort_values(by=['State', 'date'], inplace=False)\n",
    "prices_sorted\n",
    "\n",
    "# à compléter...\n",
    "\n"
   ]
  },
  {
   "cell_type": "markdown",
   "metadata": {},
   "source": [
    "<font color=\"RED\" size=\"+1\">**[Q]**</font> **Changements des résultats**\n",
    "\n",
    "\n",
    "Recalculer la moyenne des prix pour la qualité <tt>LowQ</tt>. Qu'en est-il maintenant ? "
   ]
  },
  {
   "cell_type": "code",
   "execution_count": null,
   "metadata": {},
   "outputs": [],
   "source": []
  },
  {
   "cell_type": "markdown",
   "metadata": {},
   "source": [
    "<font color=\"RED\" size=\"+1\">**[Q]**</font> **Tracé d'histogrammes**\n",
    "\n",
    "Donner les instructions Python pour tracer l'histogramme des moyennes des prix (<tt>LowQ</tt>) par état pour les données initiales (ie. avec NAN). \n",
    "\n",
    "\n",
    "Pour vous aider à construire un histogramme, vous pouvez étudier la page suivante:\n",
    "https://matplotlib.org/stable/api/_as_gen/matplotlib.pyplot.hist.html"
   ]
  },
  {
   "cell_type": "code",
   "execution_count": null,
   "metadata": {},
   "outputs": [],
   "source": [
    "# Par exemple, tracé de l'histograme des valeurs \"LowQ\" sur l'ensemble des données:\n",
    "plt.hist(prices_pd[\"LowQ\"])"
   ]
  },
  {
   "cell_type": "markdown",
   "metadata": {},
   "source": [
    "<font color=\"RED\" size=\"+1\">**[Q]**</font> **Estimation de densité**\n",
    "\n",
    "Nous allons maintenant nous intéresser au calcul du nombre d'états concernés par une fourchette de prix. Pour cela:\n",
    "* Calculer le tableau des prix moyens de la facon suivante\n",
    "    \n"
   ]
  },
  {
   "cell_type": "code",
   "execution_count": null,
   "metadata": {},
   "outputs": [],
   "source": [
    "prix_moyens=prices_pd[[\"State\",\"LowQ\"]].groupby([\"State\"]).mean()\n",
    "#print(prix_moyens)\n",
    "#print(\"===========\")\n",
    "prix_moyens=prix_moyens.values.ravel()\n",
    "\n",
    "prix_moyens"
   ]
  },
  {
   "cell_type": "code",
   "execution_count": null,
   "metadata": {},
   "outputs": [],
   "source": [
    "# Histogramme:\n",
    "plt.hist(prix_moyens)\n",
    "plt.show()"
   ]
  },
  {
   "cell_type": "markdown",
   "metadata": {},
   "source": [
    "<font color=\"RED\" size=\"+1\">**[Q]**</font> **Bornes de variations**\n",
    "\n",
    "* Calculer les valeurs min et max des prix moyens"
   ]
  },
  {
   "cell_type": "code",
   "execution_count": null,
   "metadata": {},
   "outputs": [],
   "source": []
  },
  {
   "cell_type": "markdown",
   "metadata": {},
   "source": [
    "<font color=\"RED\" size=\"+1\">**[Q]**</font> **Calcul d'un effectif**\n",
    "\n",
    "Pour mieux contrôler le tracé de l'histogramme, il est préférable de donner la taille de l'intervalle de discrétisation à utiliser pour calculer les effectifs.\n",
    "\n",
    "En utilisant l'option bins de la fonction de matplotlib `hist`, tracer l'histogramme avec un intervalle de discrétisation de taille 20."
   ]
  },
  {
   "cell_type": "code",
   "execution_count": null,
   "metadata": {},
   "outputs": [],
   "source": []
  },
  {
   "cell_type": "markdown",
   "metadata": {},
   "source": [
    "<font color=\"RED\" size=\"+1\">**[Q]**</font> **Changement d'échelle**\n",
    "\n",
    "Même chose mais avec maintenant un intervalle de taille 40.\n"
   ]
  },
  {
   "cell_type": "code",
   "execution_count": null,
   "metadata": {},
   "outputs": [],
   "source": []
  },
  {
   "cell_type": "markdown",
   "metadata": {},
   "source": [
    "### Variance\n",
    "\n",
    "<font color=\"RED\" size=\"+1\">**[Q]**</font> **Calcul de variances**\n",
    "\n",
    "On souhaite maintenant rajouter une colonne <tt>HighQ_var</tt> aux données originales contenant la variance des prix par état. Donner les intructions Python correspondantes.\n",
    "\n",
    "**ATTENTION**, cela suppose de traiter les états (State) les uns après les autres... par exemple, à l'aide d'un <tt>groupby</tt> sur le dataframe...\n",
    "\n",
    "\n",
    "Remarque: pour être efficace, utiliser la fonction variance de pandas pour les dataframes..."
   ]
  },
  {
   "cell_type": "code",
   "execution_count": null,
   "metadata": {},
   "outputs": [],
   "source": []
  },
  {
   "cell_type": "markdown",
   "metadata": {},
   "source": [
    "# Travail de synthèse : La Californie\n",
    "\n",
    "Pandas permet de faire la synthèse de données de la manière suivante (pour le DataFrame de nom <tt>df</tt>): \n",
    "    \n",
    "    df.describe()\n",
    "    \n",
    "\n",
    "<font color=\"RED\" size=\"+1\">**[Q]**</font> Vérifier que les valeurs trouvées sur l'état de la Californie correspondent aux valeurs trouvées grâce à vos différentes fonctions. \n",
    "\n",
    "Pour cela, donner dans ce qui suit le code qui utilise vos fonctions (moyennes, variance, et quartiles) ainsi que le résutlats de la fonction <tt>describe</tt>.\n"
   ]
  },
  {
   "cell_type": "code",
   "execution_count": null,
   "metadata": {},
   "outputs": [],
   "source": []
  },
  {
   "cell_type": "markdown",
   "metadata": {},
   "source": [
    "<font color=\"RED\" size=\"+1\">**[Q]**</font> **Matrice de corrélation**\n",
    "\n",
    "\n",
    "Nous allons maintenant nous intéresser à calculer la corrélation entre les prix à New York et les prix en Californie.\n",
    "\n",
    "Commencer par représenter le nuage des points des prix (par date) en Californie (axe $X$) et à New York (axe $Y$) pour la bonne qualité.\n",
    "\n",
    "Pour cela,  on commence par créer un DataFrame avec ces informations:"
   ]
  },
  {
   "cell_type": "code",
   "execution_count": null,
   "metadata": {},
   "outputs": [],
   "source": [
    "prix_ny=prices_pd[prices_pd['State']=='New York']\n",
    "prix_ca=prices_pd[prices_pd['State']=='California']\n",
    "prix_ca_ny=prix_ca.merge(prix_ny,on='date')\n",
    "prix_ca_ny.head()\n",
    "\n",
    "# Exécuter cette boîte et commenter le résultat obtenu"
   ]
  },
  {
   "cell_type": "markdown",
   "metadata": {},
   "source": [
    "<font color=\"RED\" size=\"+1\">**[Q]**</font> **Nuages de points**\n",
    "\n",
    "\n",
    "Représenter graphiquement le nuage des points : voir <http://matplotlib.org/examples/shapes_and_collections/scatter_demo.html>"
   ]
  },
  {
   "cell_type": "code",
   "execution_count": null,
   "metadata": {},
   "outputs": [],
   "source": []
  },
  {
   "cell_type": "code",
   "execution_count": null,
   "metadata": {},
   "outputs": [],
   "source": []
  },
  {
   "cell_type": "code",
   "execution_count": null,
   "metadata": {},
   "outputs": [],
   "source": []
  },
  {
   "cell_type": "markdown",
   "metadata": {},
   "source": [
    "<font color=\"RED\" size=\"+1\">**[Q]**</font> **Corrélations**\n",
    "\n",
    "A l'aide de la fonction `moyenne` écrite précédemment, écrire une fonction `correlation(X,Y)` qui calcule la corrélation lineaire entre deux variables $X$ et $Y$ fournis sous la forme de deux tableaux Numpy.\n",
    "\n",
    "Remarque: coefficient de corrélation linéaire de deux variables $X$ et $Y$ (on choisit le coefficient de Pearson):\n",
    "$$c = \\frac{cov(X,Y)}{\\sigma_X \\sigma_Y}$$\n",
    "\n",
    "avec les définitions suivantes:\n",
    "- $cov(X,Y)= \\frac{1}{n}\\sum_{i=1}^{n} (x_i-\\bar{X})(y_i-\\bar{Y})$: mesure de covariance entre $X$ et $Y$ qui contiennent chacune $n$ valeurs, et de moyenne $\\bar{X}$ et $\\bar{Y}$ respectivement.\n",
    "- $\\sigma_X = \\sqrt{\\frac{1}{n}\\sum_{i=1}^{n}(x_i - \\bar{X})^2}$: écart-type de la variable $X$ (resp. $\\sigma_Y$ pour la variable $Y$).\n",
    "\n",
    "\n",
    "**Remarque 2: il ne doit pas y avoir de boucle (for, while, compréhension) dans votre fonction...**"
   ]
  },
  {
   "cell_type": "code",
   "execution_count": null,
   "metadata": {},
   "outputs": [],
   "source": []
  },
  {
   "cell_type": "code",
   "execution_count": null,
   "metadata": {},
   "outputs": [],
   "source": [
    "# Appliquer votre fonction avec l'instruction suivante:\n",
    "\n",
    "print(\"Correlation de HighQ_x et HighQ_y : %f\"%correlation(prix_ca_ny[\"HighQ_x\"].values,prix_ca_ny[\"HighQ_y\"].values))"
   ]
  },
  {
   "cell_type": "markdown",
   "metadata": {},
   "source": [
    "<font color=\"RED\" size=\"+1\">**[Q]**</font> Compléter la ligne suivante pour obtenir le résultat fourni par la fonction pandas `corr`.\n",
    "\n"
   ]
  },
  {
   "cell_type": "code",
   "execution_count": null,
   "metadata": {},
   "outputs": [],
   "source": [
    "# A COMPLETER :\n",
    "#prix_ca_ny[[\"HighQ_x\",\"HighQ_y\"]].#COMPLETER ICI#\n",
    "\n"
   ]
  },
  {
   "cell_type": "markdown",
   "metadata": {},
   "source": [
    "<font color=\"RED\" size=\"+1\">**[Q]**</font> **Matrice de corrélations**\n",
    "\n",
    "Calculer la matrice des corrélations pour toutes les combinaisons d'états."
   ]
  },
  {
   "cell_type": "code",
   "execution_count": null,
   "metadata": {},
   "outputs": [],
   "source": []
  },
  {
   "cell_type": "markdown",
   "metadata": {},
   "source": [
    "<font color=\"RED\" size=\"+1\">**[Q]**</font> **D'autres corrélations...**\n",
    "\n",
    "\n",
    "Calculer les correlations entre le prix (<tt>low</tt> et <tt>high</tt>) en fonction du revenu moyen par état disponible dans le tableau <tt>demography_pd</tt> chargé au début de cette feuille Jupyter. \n",
    "\n",
    "Que peut-on en conclure ?"
   ]
  },
  {
   "cell_type": "code",
   "execution_count": null,
   "metadata": {},
   "outputs": [],
   "source": []
  }
 ],
 "metadata": {
  "kernelspec": {
   "display_name": "Python 3 (ipykernel)",
   "language": "python",
   "name": "python3"
  },
  "language_info": {
   "codemirror_mode": {
    "name": "ipython",
    "version": 3
   },
   "file_extension": ".py",
   "mimetype": "text/x-python",
   "name": "python",
   "nbconvert_exporter": "python",
   "pygments_lexer": "ipython3",
   "version": "3.9.6"
  }
 },
 "nbformat": 4,
 "nbformat_minor": 4
}
