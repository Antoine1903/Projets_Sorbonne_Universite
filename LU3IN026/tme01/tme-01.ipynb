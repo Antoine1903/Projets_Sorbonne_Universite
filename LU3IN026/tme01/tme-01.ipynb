{
 "cells": [
  {
   "cell_type": "markdown",
   "metadata": {},
   "source": [
    "IA & Data science (LU3IN0226) -- 2024-2025\n",
    "--------\n",
    "*&copy; Equipe pédagogique: Christophe Marsala, Olivier Schwander, Jean-Noël Vittaut.*\n"
   ]
  },
  {
   "cell_type": "markdown",
   "metadata": {},
   "source": [
    "<font size=\"+1\" color=\"RED\">**[Q]**</font> **Indiquer dans la boîte ci-dessous vos noms et prénoms :**"
   ]
  },
  {
   "cell_type": "markdown",
   "metadata": {},
   "source": [
    "*ZHANG Yuxiang*"
   ]
  },
  {
   "cell_type": "markdown",
   "metadata": {},
   "source": [
    "<font color=\"RED\" size=\"+1\">**[Q]**</font> **Renommer ce fichier ipython**\n",
    "\n",
    "Tout en haut de cette page, cliquer sur <tt>tme-01</tt> et rajouter à la suite de <tt>tme-01</tt> les noms des membres du binômes séparés par un tiret.\n",
    "\n",
    "Par exemple, pour le binôme Luke Skywalker et Han Solo, le nom de fichier devient : <pre>tme-01-Skywalker-Solo</pre>\n",
    "\n",
    "Penser à sauvegarder fréquemment le fichier en cours de travail :\n",
    "- soit en cliquant sur l'icône \"disquette\"\n",
    "- soit par la combinaison de touches [Ctrl]-S"
   ]
  },
  {
   "cell_type": "markdown",
   "metadata": {},
   "source": [
    "<font color=\"RED\" size=\"+1\">IMPORTANT: soumission de votre fichier final</font>\n",
    "\n",
    "**Nom à donner au fichier à poster** : *Nom1_Nom2.ipynb* \n",
    "- *Nom1* et *Nom2* : noms des membres du binôme\n",
    "- ne pas compresser ou faire une archive: il faut rendre le fichier ipython tel quel, éventuellement, si vous avez d'autres fichiers vous les rendez séparément.\n",
    "\n",
    "**Echancier pour la soumission de votre compte-rendu:**\n",
    "- le compte-rendu d'une séance doit être remis obligatoirement <font color=\"RED\">avant le début de la séance suivante</font>.\n",
    "\n",
    "**Le compte-rendu est soumis sur la page Moodle.**"
   ]
  },
  {
   "cell_type": "markdown",
   "metadata": {},
   "source": [
    "## Semaine 1: structures de données\n"
   ]
  },
  {
   "cell_type": "markdown",
   "metadata": {},
   "source": [
    "## Présentation ##\n",
    "\n",
    "### Objectifs de ce TME 1\n",
    "\n",
    "Le travail à réaliser est le suivant :\n",
    "- apprendre à utiliser jupyter notebook (cf doc: <https://docs.jupyter.org/en/latest/>).\n",
    "- se documenter sur les structures de données qui seront utilisées pour programmer tout au long du semestre: numpy et pandas.\n",
    "- implémenter des premières fonctions qui seront utiles ce semestre."
   ]
  },
  {
   "cell_type": "markdown",
   "metadata": {},
   "source": [
    "## Apprendre à utiliser jupyter notebook\n",
    "\n",
    "Ce document est dynamique: il est composé de \"boîtes\" qui peuvent être \"compilées\" par la commande \"Run Cells\" du menu \"Cell\" (ou bien en cliquant sur l'icône >| ou par la combinaison des touches [SHIFT][ENTREE]).\n",
    "\n",
    "Il y a **2 types principaux** de boîtes :\n",
    "- les boîtes \"Markdown\": tout ce qui est tapé dans ces boîtes est du texte qui sera rendu \"joliment\" après avoir été compilé. On peut y écrire des commandes en Latex pour définir des équations, et il reconnaît certaines balises HTML. En cliquant 2 fois dans une boîte Markdown compilée, on a accès à son contenu et on peut alors le modifier.\n",
    "- les boîtes \"Code\": dans ces boîtes, on écrit du code Python. La compilation de la boîte produit l'exécution de ce code Python et produit une boîte \"Out\" dans laquelle le résultat de la dernière commande est affiché. On peut y écrire tout code Python valide. Ce type de boîtes se reconnaît par \"In [n]\" inscrit à côté de leur coin haut gauche (\"n\" est un entier).\n",
    "\n",
    "Le type d'une boîte peut être modifié à l'aide du menu en haut de la page (juste au dessus du texte).\n",
    "\n",
    "L'icône \"+\" permet de créer une nouvelle boîte juste en dessous de la boîte active.\n",
    "\n",
    "L'icône avec les ciseaux permet d'effacer la boîte active (attention ! c'est **irréversible !**).\n",
    "\n",
    "Pour en savoir plus :\n",
    "- http://ipython.org/\n",
    "\n",
    "Vous pouvez aussi vous référer à la documentation Python:\n",
    "- https://www.python.org/\n",
    "\n",
    "\n",
    "Dans ce qui suit, les boîtes Markdown commençant par <font color=\"RED\" size=\"+1\">**[Q]**</font> posent des questions auxquelles il faut répondre dans la boîte qui suit directement (éventuellement, en créant des nouvelles boîtes de type \"Code\" ou \"Markdown\", à votre convenance).\n",
    "Certaines des boîtes \"Code\" à remplir sont suivies d'une sortie \"Out[.]:\" qui montre un exemple de résultat attendu. \n",
    "\n",
    "N'hésitez pas à créer de nouvelles boîtes \"Code\" ou \"Markdown\" dans ce document si vous en avez besoin (cela est même conseillé !).\n"
   ]
  },
  {
   "cell_type": "code",
   "execution_count": 52,
   "metadata": {},
   "outputs": [
    {
     "name": "stdout",
     "output_type": "stream",
     "text": [
      "Un essai quelconque :\n"
     ]
    },
    {
     "data": {
      "text/plain": [
       "5"
      ]
     },
     "execution_count": 52,
     "metadata": {},
     "output_type": "execute_result"
    }
   ],
   "source": [
    "# exemple de boîte de code :\n",
    "#    --> sélectionner cette boîte (en cliquant à l'intérieur)\n",
    "#    --> effectuer \"Run Cells\" du Menu \"Cell\" (ou bien cliquer sur l'icône >|)\n",
    "# \n",
    "\n",
    "print(\"Un essai quelconque :\")\n",
    "2+3\n"
   ]
  },
  {
   "cell_type": "markdown",
   "metadata": {},
   "source": [
    "<font color=\"RED\" size=\"+1\">**[Q]**</font> Dans la boîte \"Code\" suivante, donner les instructions Python pour effectuer le calcul : \n",
    "$$-\\frac{1}{3}\\log_2(\\frac{1}{3})-\\frac{2}{3}\\log_2(\\frac{2}{3})$$\n",
    "\n",
    "Dont la valeur à trouver est :\n",
    "    0.9182958340544896"
   ]
  },
  {
   "cell_type": "code",
   "execution_count": 53,
   "metadata": {},
   "outputs": [
    {
     "name": "stdout",
     "output_type": "stream",
     "text": [
      "0.9182958340544896\n"
     ]
    }
   ],
   "source": [
    "import numpy as np\n",
    "print((-1/3)*np.log2(1/3)-(2/3)*np.log2(2/3))"
   ]
  },
  {
   "cell_type": "markdown",
   "metadata": {},
   "source": [
    "<div class=\"alert alert-block alert-danger\">\n",
    "<font style=\"BACKGROUND-COLOR: lightgray\" color='red'> Important</font> :\n",
    "en lisant le texte d'un fichier jupyter sur votre ordinateur, pensez bien à exécuter les boîtes \"Code\" dans l'ordre de leur apparition. Toute la page se comporte comme une session Python unique et il pour exécuter certaines boîtes il est nécessaire que les précédentes aient été exécutées au préalable.\n",
    "    \n",
    "De même, vous pouvez réinitialiser complètement la session en cliquant sur Noyau et redémarrer.\n",
    "</div>"
   ]
  },
  {
   "cell_type": "markdown",
   "metadata": {},
   "source": [
    "<font color=\"RED\" size=\"+1\">**[Q]**</font> Dans la boîte \"Code\" suivante, écrire la fonction `calcul` qui, étant donné un réel $x$ de [0,1] rend la valeur du calcul $$-x\\log_2(x)-(1-x)\\log_2(1-x)$$ si $x\\not= 0$ et $x \\not= 1$ ou la valeur $0.0$ sinon."
   ]
  },
  {
   "cell_type": "code",
   "execution_count": 54,
   "metadata": {},
   "outputs": [],
   "source": [
    "def calcul(x):\n",
    "    if x==0 or x==1:\n",
    "        return 0.0\n",
    "    return -x*np.log2(x)-(1-x)*np.log2(1-x)"
   ]
  },
  {
   "cell_type": "code",
   "execution_count": 55,
   "metadata": {},
   "outputs": [
    {
     "data": {
      "text/plain": [
       "0.0"
      ]
     },
     "execution_count": 55,
     "metadata": {},
     "output_type": "execute_result"
    }
   ],
   "source": [
    "calcul(0)"
   ]
  },
  {
   "cell_type": "code",
   "execution_count": 56,
   "metadata": {},
   "outputs": [
    {
     "data": {
      "text/plain": [
       "0.9182958340544896"
      ]
     },
     "execution_count": 56,
     "metadata": {},
     "output_type": "execute_result"
    }
   ],
   "source": [
    "calcul(1/3)"
   ]
  },
  {
   "cell_type": "code",
   "execution_count": 57,
   "metadata": {},
   "outputs": [
    {
     "data": {
      "text/plain": [
       "1.0"
      ]
     },
     "execution_count": 57,
     "metadata": {},
     "output_type": "execute_result"
    }
   ],
   "source": [
    "calcul(0.5)"
   ]
  },
  {
   "cell_type": "markdown",
   "metadata": {},
   "source": [
    "## Documentation\n",
    "\n",
    "\n",
    "Dans un premier temps, et c'est un des objectifs de cette séance, vous devez prendre en main les libraries **numpy**, **pandas** et **matplotlib**:\n",
    "\n",
    "- Numpy = <http://scipy.github.io/old-wiki/pages/Tentative_NumPy_Tutorial>\n",
    "  ou bien <https://realpython.com/numpy-tutorial/>\n",
    "- Pandas = http://pandas.pydata.org/pandas-docs/stable/10min.html\n",
    "- Matplotlib = https://matplotlib.org/stable/index.html\n",
    "\n",
    "Lisez ces pages et pratiquez ces tutoriaux afin de bien vous familiariser avec ces outils."
   ]
  },
  {
   "cell_type": "markdown",
   "metadata": {},
   "source": [
    "<font color=\"RED\" size=\"+1\">**[Q]**</font> Donner dans la boîte suivante les grandes caractéristiques de chacunes de ces 3 librairies: A quoi servent-elles ? Que permettent-elles de représenter ? Quelle est leur utilité et leurs spécificités ? etc. etc.\n",
    "\n",
    "Donner des exemples de leurs utilisations spécifiques."
   ]
  },
  {
   "cell_type": "markdown",
   "metadata": {},
   "source": [
    "Reponse: \n",
    "Numpy permet de définir des matrices et des vecteurs\n",
    "La librairie Pandas permet de traiter des données d'un fichier Excel (.csv) et traite des dataframes qui peuvent être sauvegardées.\n",
    "Matplotlib est utile pour générer des graphiques à partir de données."
   ]
  },
  {
   "cell_type": "markdown",
   "metadata": {},
   "source": [
    "<div class=\"alert alert-block alert-info\">\n",
    "    Pour utiliser les 3 librairies précédentes, vous devrez d'abord les importer dans Jupyter par les commandes données dans la boite suivante.\n",
    "\n",
    "Si une librairie n'est pas installée, une erreur peut se produire lors de son import. Il est alors nécessaire de l'installer. Par exemple, pour la librairie pandas sur les machines de la PPTI:\n",
    "- dans un terminal, exécuter la commande:\n",
    "    \n",
    "        pip install --user -U --proxy http://proxy:3128 pandas\n",
    "\n",
    "(le proxy n'est nécessaire que pour les salles machines, vous n'avez pas à l'utiliser sur vos machines personnelles).\n",
    "- une fois la librairie installée, il est nécessaire de relancer le noyau Python de Jupyter:\n",
    "    dans le menu de Jupyter tout en haut de la page, choisir \"<tt>Kernel -> restart</tt>\"\n",
    "</div>\n"
   ]
  },
  {
   "cell_type": "code",
   "execution_count": 58,
   "metadata": {},
   "outputs": [],
   "source": [
    "import numpy as np\n",
    "import pandas as pd\n",
    "import matplotlib.pyplot as plt\n",
    "%matplotlib inline  "
   ]
  },
  {
   "cell_type": "markdown",
   "metadata": {},
   "source": [
    "<font color=\"RED\" size=\"+1\">**[Q]**</font> On souhaite tracer la courbe associée à la fonction `calcul` précédente pour $x\\in[0,1]$. On commence d'abord par calculer des valeurs de la fonction pour plusieurs $x$ puis on trace la courbe avec la fonction `plot` de la librairie matplotlib (cf. la doc)."
   ]
  },
  {
   "cell_type": "code",
   "execution_count": 59,
   "metadata": {},
   "outputs": [
    {
     "data": {
      "image/png": "[encoded data removed]",
      "text/plain": [
       "<Figure size 640x480 with 1 Axes>"
      ]
     },
     "metadata": {},
     "output_type": "display_data"
    }
   ],
   "source": [
    "# Compléter les instructions suivantes:\n",
    "\n",
    "valeurs_x = [i / 20 for i in range(21)]  # liste qui contient 21 valeurs de 0.0 à 1.0 espacées de 1/20. (ie. 0.0, 0.0+1/20, etc.)\n",
    "\n",
    "res_calcul = [calcul(x) for x in valeurs_x] #A COMPLETER#  # liste qui contient la valeur de la fonction calcul pour chaque x contenu dans la valeur\n",
    "\n",
    "\n",
    "# -----------------------------------------------\n",
    "#A COMPLETER# \n",
    "# -> indiquer comme label de l'axe des x : \"x\"\n",
    "# -> indiquer comme label de l'axe des y: \"calcul(x)\"\n",
    "plt.plot(valeurs_x, res_calcul, label=\"calcul(x)\")\n",
    "plt.xlabel(\"x\")\n",
    "plt.ylabel(\"calcul(x)\")\n",
    "plt.title(\"Représentation de la fonction calcul(x)\")\n",
    "plt.legend()\n",
    "plt.show()\n",
    "\n"
   ]
  },
  {
   "cell_type": "markdown",
   "metadata": {},
   "source": [
    "## Programmation et expérimentation ##\n",
    "\n",
    "Le jeu de données (ou *dataset*) qui sera utilisé dans cette séance pour valider vos fonctions correspond à des données concernant des prix dans différents états d'Amérique du Nord. \n",
    "\n",
    "\n",
    "La référence de ce dataset est disponible ici : <https://github.com/amitkaps/weed/blob/master/1-Acquire.ipynb>\n",
    "\n",
    "Ces données sont aussi fournies dans le fichier <tt>data-01.zip</tt> à télécharger sur le site Moodle.\n",
    "\n",
    "Elles se composent de trois fichiers:\n",
    "* <tt>\"data-01/Weed_Price.csv\"</tt>: prix par date et par état (pour trois qualités différentes)\n",
    "* <tt>\"data-01/Demographics_State.csv\"</tt>: informations démographiques sur chaque état\n",
    "* <tt>\"data-01/Population_State.csv\"</tt>: population de chaque état\n",
    "\n",
    "La première étape est de télécharger ces fichiers dans des dataframes pandas.\n",
    "\n",
    "Comme ce sont des fichiers <a href=\"https://fr.wikipedia.org/wiki/Comma-separated_values\"><tt>CSV</tt></a>, on utilise la librairie Pandas qui contient une fonction de lecture de ce type de fichiers."
   ]
  },
  {
   "cell_type": "code",
   "execution_count": 60,
   "metadata": {},
   "outputs": [],
   "source": [
    "# Chargement des fichiers de données :\n",
    "\n",
    "prices_pd = pd.read_csv(\"data-01/Weed_Price.csv\", parse_dates=[-1])\n",
    "demography_pd = pd.read_csv(\"data-01/Demographics_State.csv\")\n",
    "population_pd = pd.read_csv(\"data-01/Population_State.csv\")\n",
    "\n",
    "# ATTENTION : le répertoire data-01 doit se trouver dans le même répertoire que ce notebook (dans tme-01 donc)."
   ]
  },
  {
   "cell_type": "markdown",
   "metadata": {},
   "source": [
    "<font color=\"RED\" size=\"+1\">**[Q]**</font> **Des dataframes**\n",
    "Commencer par regarder la documentation de la fonction <tt>read_csv</tt> de la librairie Pandas. Que rend cette fonction (quel est le type de ce qui est rendu) ?"
   ]
  },
  {
   "cell_type": "markdown",
   "metadata": {},
   "source": [
    "Réponse: Ce sont des DataFrames"
   ]
  },
  {
   "cell_type": "markdown",
   "metadata": {},
   "source": [
    "<font color=\"RED\" size=\"+1\">**[Q]**</font> **Des dataframes**\n",
    "\n",
    "Les dataframes Pandas permettent de stocker ensemble des données dont les valeurs peuvent être différentes. Cela peut s'apparenter à une feuille Excel (ou Libreoffice) : chaque ligne correspond à une même donnée (un \"exemple\") et contient dans chaque colonne des valeurs qui peuvent être de différents types.\n",
    "\n",
    "Examiner le type des trois variables qui viennent d'être définies. Pour cela, utiliser la fonction <tt>type</tt> de Python: par exemple <tt>type(prices_pd)</tt>."
   ]
  },
  {
   "cell_type": "code",
   "execution_count": 61,
   "metadata": {},
   "outputs": [
    {
     "data": {
      "text/plain": [
       "pandas.core.frame.DataFrame"
      ]
     },
     "execution_count": 61,
     "metadata": {},
     "output_type": "execute_result"
    }
   ],
   "source": [
    "# type de prices_pd:\n",
    "\n",
    "type(prices_pd)"
   ]
  },
  {
   "cell_type": "code",
   "execution_count": 62,
   "metadata": {},
   "outputs": [
    {
     "data": {
      "text/plain": [
       "pandas.core.frame.DataFrame"
      ]
     },
     "execution_count": 62,
     "metadata": {},
     "output_type": "execute_result"
    }
   ],
   "source": [
    "# type de demography_pd\n",
    "\n",
    "type(demography_pd)"
   ]
  },
  {
   "cell_type": "code",
   "execution_count": 63,
   "metadata": {},
   "outputs": [
    {
     "data": {
      "text/plain": [
       "pandas.core.frame.DataFrame"
      ]
     },
     "execution_count": 63,
     "metadata": {},
     "output_type": "execute_result"
    }
   ],
   "source": [
    "# type de population_pd\n",
    "\n",
    "type(population_pd)"
   ]
  },
  {
   "cell_type": "markdown",
   "metadata": {},
   "source": [
    "**Important**: chaque fois que vous utilisez une commande, regardez le type du résultat obtenu (liste, DataFrame, Series, array,...) cela vous permettra de savoir ce que vous pouvez appliquer sur ce résultat."
   ]
  },
  {
   "cell_type": "markdown",
   "metadata": {},
   "source": [
    "<font color=\"RED\" size=\"+1\">**[Q]**</font> **En savoir plus sur les données...**\n",
    "\n",
    "* Commencer par se familiariser avec les données en les visualisant et en affichant des exemples de lignes ou de colonnes que ces DataFrames contiennent. Pour cela, manipuler les fonctions des librairies que vous venez de découvrir (par exemple, <tt>head()</tt>, <tt>tail()</tt>, ...)."
   ]
  },
  {
   "cell_type": "code",
   "execution_count": 64,
   "metadata": {},
   "outputs": [
    {
     "data": {
      "text/html": [
       "<div>\n",
       "<style scoped>\n",
       "    .dataframe tbody tr th:only-of-type {\n",
       "        vertical-align: middle;\n",
       "    }\n",
       "\n",
       "    .dataframe tbody tr th {\n",
       "        vertical-align: top;\n",
       "    }\n",
       "\n",
       "    .dataframe thead th {\n",
       "        text-align: right;\n",
       "    }\n",
       "</style>\n",
       "<table border=\"1\" class=\"dataframe\">\n",
       "  <thead>\n",
       "    <tr style=\"text-align: right;\">\n",
       "      <th></th>\n",
       "      <th>State</th>\n",
       "      <th>HighQ</th>\n",
       "      <th>HighQN</th>\n",
       "      <th>MedQ</th>\n",
       "      <th>MedQN</th>\n",
       "      <th>LowQ</th>\n",
       "      <th>LowQN</th>\n",
       "      <th>date</th>\n",
       "    </tr>\n",
       "  </thead>\n",
       "  <tbody>\n",
       "    <tr>\n",
       "      <th>0</th>\n",
       "      <td>Alabama</td>\n",
       "      <td>339.06</td>\n",
       "      <td>1042</td>\n",
       "      <td>198.64</td>\n",
       "      <td>933</td>\n",
       "      <td>149.49</td>\n",
       "      <td>123</td>\n",
       "      <td>2014-01-01</td>\n",
       "    </tr>\n",
       "    <tr>\n",
       "      <th>1</th>\n",
       "      <td>Alaska</td>\n",
       "      <td>288.75</td>\n",
       "      <td>252</td>\n",
       "      <td>260.60</td>\n",
       "      <td>297</td>\n",
       "      <td>388.58</td>\n",
       "      <td>26</td>\n",
       "      <td>2014-01-01</td>\n",
       "    </tr>\n",
       "    <tr>\n",
       "      <th>2</th>\n",
       "      <td>Arizona</td>\n",
       "      <td>303.31</td>\n",
       "      <td>1941</td>\n",
       "      <td>209.35</td>\n",
       "      <td>1625</td>\n",
       "      <td>189.45</td>\n",
       "      <td>222</td>\n",
       "      <td>2014-01-01</td>\n",
       "    </tr>\n",
       "    <tr>\n",
       "      <th>3</th>\n",
       "      <td>Arkansas</td>\n",
       "      <td>361.85</td>\n",
       "      <td>576</td>\n",
       "      <td>185.62</td>\n",
       "      <td>544</td>\n",
       "      <td>125.87</td>\n",
       "      <td>112</td>\n",
       "      <td>2014-01-01</td>\n",
       "    </tr>\n",
       "    <tr>\n",
       "      <th>4</th>\n",
       "      <td>California</td>\n",
       "      <td>248.78</td>\n",
       "      <td>12096</td>\n",
       "      <td>193.56</td>\n",
       "      <td>12812</td>\n",
       "      <td>192.92</td>\n",
       "      <td>778</td>\n",
       "      <td>2014-01-01</td>\n",
       "    </tr>\n",
       "    <tr>\n",
       "      <th>5</th>\n",
       "      <td>Colorado</td>\n",
       "      <td>236.31</td>\n",
       "      <td>2161</td>\n",
       "      <td>195.29</td>\n",
       "      <td>1728</td>\n",
       "      <td>213.50</td>\n",
       "      <td>128</td>\n",
       "      <td>2014-01-01</td>\n",
       "    </tr>\n",
       "    <tr>\n",
       "      <th>6</th>\n",
       "      <td>Connecticut</td>\n",
       "      <td>347.90</td>\n",
       "      <td>1294</td>\n",
       "      <td>273.97</td>\n",
       "      <td>1316</td>\n",
       "      <td>257.36</td>\n",
       "      <td>91</td>\n",
       "      <td>2014-01-01</td>\n",
       "    </tr>\n",
       "    <tr>\n",
       "      <th>7</th>\n",
       "      <td>Delaware</td>\n",
       "      <td>373.18</td>\n",
       "      <td>347</td>\n",
       "      <td>226.25</td>\n",
       "      <td>273</td>\n",
       "      <td>199.88</td>\n",
       "      <td>34</td>\n",
       "      <td>2014-01-01</td>\n",
       "    </tr>\n",
       "    <tr>\n",
       "      <th>8</th>\n",
       "      <td>District of Columbia</td>\n",
       "      <td>352.26</td>\n",
       "      <td>433</td>\n",
       "      <td>295.67</td>\n",
       "      <td>349</td>\n",
       "      <td>213.72</td>\n",
       "      <td>39</td>\n",
       "      <td>2014-01-01</td>\n",
       "    </tr>\n",
       "    <tr>\n",
       "      <th>9</th>\n",
       "      <td>Florida</td>\n",
       "      <td>306.43</td>\n",
       "      <td>6506</td>\n",
       "      <td>220.03</td>\n",
       "      <td>5237</td>\n",
       "      <td>158.26</td>\n",
       "      <td>514</td>\n",
       "      <td>2014-01-01</td>\n",
       "    </tr>\n",
       "    <tr>\n",
       "      <th>10</th>\n",
       "      <td>Georgia</td>\n",
       "      <td>332.21</td>\n",
       "      <td>3099</td>\n",
       "      <td>213.52</td>\n",
       "      <td>2269</td>\n",
       "      <td>153.45</td>\n",
       "      <td>229</td>\n",
       "      <td>2014-01-01</td>\n",
       "    </tr>\n",
       "    <tr>\n",
       "      <th>11</th>\n",
       "      <td>Hawaii</td>\n",
       "      <td>310.96</td>\n",
       "      <td>328</td>\n",
       "      <td>270.38</td>\n",
       "      <td>350</td>\n",
       "      <td>160.46</td>\n",
       "      <td>25</td>\n",
       "      <td>2014-01-01</td>\n",
       "    </tr>\n",
       "    <tr>\n",
       "      <th>12</th>\n",
       "      <td>Idaho</td>\n",
       "      <td>276.05</td>\n",
       "      <td>315</td>\n",
       "      <td>254.96</td>\n",
       "      <td>445</td>\n",
       "      <td>132.61</td>\n",
       "      <td>20</td>\n",
       "      <td>2014-01-01</td>\n",
       "    </tr>\n",
       "    <tr>\n",
       "      <th>13</th>\n",
       "      <td>Illinois</td>\n",
       "      <td>359.74</td>\n",
       "      <td>4008</td>\n",
       "      <td>287.23</td>\n",
       "      <td>3644</td>\n",
       "      <td>181.25</td>\n",
       "      <td>329</td>\n",
       "      <td>2014-01-01</td>\n",
       "    </tr>\n",
       "    <tr>\n",
       "      <th>14</th>\n",
       "      <td>Indiana</td>\n",
       "      <td>336.80</td>\n",
       "      <td>1665</td>\n",
       "      <td>206.24</td>\n",
       "      <td>1446</td>\n",
       "      <td>154.05</td>\n",
       "      <td>248</td>\n",
       "      <td>2014-01-01</td>\n",
       "    </tr>\n",
       "  </tbody>\n",
       "</table>\n",
       "</div>"
      ],
      "text/plain": [
       "                   State   HighQ  HighQN    MedQ  MedQN    LowQ  LowQN  \\\n",
       "0                Alabama  339.06    1042  198.64    933  149.49    123   \n",
       "1                 Alaska  288.75     252  260.60    297  388.58     26   \n",
       "2                Arizona  303.31    1941  209.35   1625  189.45    222   \n",
       "3               Arkansas  361.85     576  185.62    544  125.87    112   \n",
       "4             California  248.78   12096  193.56  12812  192.92    778   \n",
       "5               Colorado  236.31    2161  195.29   1728  213.50    128   \n",
       "6            Connecticut  347.90    1294  273.97   1316  257.36     91   \n",
       "7               Delaware  373.18     347  226.25    273  199.88     34   \n",
       "8   District of Columbia  352.26     433  295.67    349  213.72     39   \n",
       "9                Florida  306.43    6506  220.03   5237  158.26    514   \n",
       "10               Georgia  332.21    3099  213.52   2269  153.45    229   \n",
       "11                Hawaii  310.96     328  270.38    350  160.46     25   \n",
       "12                 Idaho  276.05     315  254.96    445  132.61     20   \n",
       "13              Illinois  359.74    4008  287.23   3644  181.25    329   \n",
       "14               Indiana  336.80    1665  206.24   1446  154.05    248   \n",
       "\n",
       "         date  \n",
       "0  2014-01-01  \n",
       "1  2014-01-01  \n",
       "2  2014-01-01  \n",
       "3  2014-01-01  \n",
       "4  2014-01-01  \n",
       "5  2014-01-01  \n",
       "6  2014-01-01  \n",
       "7  2014-01-01  \n",
       "8  2014-01-01  \n",
       "9  2014-01-01  \n",
       "10 2014-01-01  \n",
       "11 2014-01-01  \n",
       "12 2014-01-01  \n",
       "13 2014-01-01  \n",
       "14 2014-01-01  "
      ]
     },
     "execution_count": 64,
     "metadata": {},
     "output_type": "execute_result"
    }
   ],
   "source": [
    "# 15 premières lignes de prices_pd\n",
    "\n",
    "prices_pd.head(15)"
   ]
  },
  {
   "cell_type": "code",
   "execution_count": 65,
   "metadata": {},
   "outputs": [
    {
     "data": {
      "text/html": [
       "<div>\n",
       "<style scoped>\n",
       "    .dataframe tbody tr th:only-of-type {\n",
       "        vertical-align: middle;\n",
       "    }\n",
       "\n",
       "    .dataframe tbody tr th {\n",
       "        vertical-align: top;\n",
       "    }\n",
       "\n",
       "    .dataframe thead th {\n",
       "        text-align: right;\n",
       "    }\n",
       "</style>\n",
       "<table border=\"1\" class=\"dataframe\">\n",
       "  <thead>\n",
       "    <tr style=\"text-align: right;\">\n",
       "      <th></th>\n",
       "      <th>State</th>\n",
       "      <th>HighQ</th>\n",
       "      <th>HighQN</th>\n",
       "      <th>MedQ</th>\n",
       "      <th>MedQN</th>\n",
       "      <th>LowQ</th>\n",
       "      <th>LowQN</th>\n",
       "      <th>date</th>\n",
       "    </tr>\n",
       "  </thead>\n",
       "  <tbody>\n",
       "    <tr>\n",
       "      <th>22892</th>\n",
       "      <td>Utah</td>\n",
       "      <td>290.42</td>\n",
       "      <td>959</td>\n",
       "      <td>238.08</td>\n",
       "      <td>1055</td>\n",
       "      <td>NaN</td>\n",
       "      <td>62</td>\n",
       "      <td>2014-12-31</td>\n",
       "    </tr>\n",
       "    <tr>\n",
       "      <th>22893</th>\n",
       "      <td>Vermont</td>\n",
       "      <td>371.23</td>\n",
       "      <td>357</td>\n",
       "      <td>308.86</td>\n",
       "      <td>367</td>\n",
       "      <td>NaN</td>\n",
       "      <td>32</td>\n",
       "      <td>2014-12-31</td>\n",
       "    </tr>\n",
       "    <tr>\n",
       "      <th>22894</th>\n",
       "      <td>Virginia</td>\n",
       "      <td>364.98</td>\n",
       "      <td>3513</td>\n",
       "      <td>293.12</td>\n",
       "      <td>3079</td>\n",
       "      <td>NaN</td>\n",
       "      <td>284</td>\n",
       "      <td>2014-12-31</td>\n",
       "    </tr>\n",
       "    <tr>\n",
       "      <th>22895</th>\n",
       "      <td>Washington</td>\n",
       "      <td>233.05</td>\n",
       "      <td>3337</td>\n",
       "      <td>189.92</td>\n",
       "      <td>3562</td>\n",
       "      <td>NaN</td>\n",
       "      <td>160</td>\n",
       "      <td>2014-12-31</td>\n",
       "    </tr>\n",
       "    <tr>\n",
       "      <th>22896</th>\n",
       "      <td>West Virginia</td>\n",
       "      <td>359.35</td>\n",
       "      <td>551</td>\n",
       "      <td>224.03</td>\n",
       "      <td>545</td>\n",
       "      <td>NaN</td>\n",
       "      <td>60</td>\n",
       "      <td>2014-12-31</td>\n",
       "    </tr>\n",
       "    <tr>\n",
       "      <th>22897</th>\n",
       "      <td>Wisconsin</td>\n",
       "      <td>350.52</td>\n",
       "      <td>2244</td>\n",
       "      <td>272.71</td>\n",
       "      <td>2221</td>\n",
       "      <td>NaN</td>\n",
       "      <td>167</td>\n",
       "      <td>2014-12-31</td>\n",
       "    </tr>\n",
       "    <tr>\n",
       "      <th>22898</th>\n",
       "      <td>Wyoming</td>\n",
       "      <td>322.27</td>\n",
       "      <td>131</td>\n",
       "      <td>351.86</td>\n",
       "      <td>197</td>\n",
       "      <td>NaN</td>\n",
       "      <td>12</td>\n",
       "      <td>2014-12-31</td>\n",
       "    </tr>\n",
       "  </tbody>\n",
       "</table>\n",
       "</div>"
      ],
      "text/plain": [
       "               State   HighQ  HighQN    MedQ  MedQN  LowQ  LowQN       date\n",
       "22892           Utah  290.42     959  238.08   1055   NaN     62 2014-12-31\n",
       "22893        Vermont  371.23     357  308.86    367   NaN     32 2014-12-31\n",
       "22894       Virginia  364.98    3513  293.12   3079   NaN    284 2014-12-31\n",
       "22895     Washington  233.05    3337  189.92   3562   NaN    160 2014-12-31\n",
       "22896  West Virginia  359.35     551  224.03    545   NaN     60 2014-12-31\n",
       "22897      Wisconsin  350.52    2244  272.71   2221   NaN    167 2014-12-31\n",
       "22898        Wyoming  322.27     131  351.86    197   NaN     12 2014-12-31"
      ]
     },
     "execution_count": 65,
     "metadata": {},
     "output_type": "execute_result"
    }
   ],
   "source": [
    "# 7 dernières lignes de prices_pd\n",
    "\n",
    "prices_pd.tail(7)"
   ]
  },
  {
   "cell_type": "markdown",
   "metadata": {},
   "source": [
    "<font color=\"RED\" size=\"+1\">**[Q]**</font> **Sélection de lignes et colonnes..**\n",
    "\n",
    "En utilisant les mécanismes de sélection qu'offrent les dataframes (slicing,...), donner les commandes permettant d'obtenir:\n",
    "1) seulement les lignes qui concernent l'état \"Hawaii\".\n",
    "\n",
    "2) seulement les valeurs des colonnes \"date\", \"HighQ\", et \"MedQ\", dans cet ordre, qui concernent les lignes de l'état \"Hawaii\".\n"
   ]
  },
  {
   "cell_type": "code",
   "execution_count": 66,
   "metadata": {},
   "outputs": [
    {
     "name": "stdout",
     "output_type": "stream",
     "text": [
      "        State   HighQ  HighQN    MedQ  MedQN    LowQ  LowQN       date\n",
      "11     Hawaii  310.96     328  270.38    350  160.46     25 2014-01-01\n",
      "62     Hawaii  307.64     452  263.45    522     NaN     30 2015-01-01\n",
      "113    Hawaii  307.76     338  272.99    370  162.11     26 2014-02-01\n",
      "164    Hawaii  306.34     464  261.94    542     NaN     30 2015-02-01\n",
      "215    Hawaii  307.96     353  274.35    382  167.62     27 2014-03-01\n",
      "...       ...     ...     ...     ...    ...     ...    ...        ...\n",
      "22655  Hawaii  309.64     408  265.58    455  174.23     29 2014-07-31\n",
      "22706  Hawaii  310.00     417  267.17    467     NaN     29 2014-08-31\n",
      "22757  Hawaii  310.97     426  267.10    482     NaN     29 2014-10-31\n",
      "22808  Hawaii  310.96     328  270.38    350  160.46     25 2013-12-31\n",
      "22859  Hawaii  307.64     452  263.45    522     NaN     30 2014-12-31\n",
      "\n",
      "[449 rows x 8 columns]\n"
     ]
    }
   ],
   "source": [
    "# Les lignes concernant l'état \"Hawaii\"\n",
    "\n",
    "print(prices_pd[prices_pd['State'] == \"Hawaii\"])"
   ]
  },
  {
   "cell_type": "code",
   "execution_count": 67,
   "metadata": {},
   "outputs": [
    {
     "name": "stdout",
     "output_type": "stream",
     "text": [
      "            date   HighQ    MedQ\n",
      "11    2014-01-01  310.96  270.38\n",
      "62    2015-01-01  307.64  263.45\n",
      "113   2014-02-01  307.76  272.99\n",
      "164   2015-02-01  306.34  261.94\n",
      "215   2014-03-01  307.96  274.35\n",
      "...          ...     ...     ...\n",
      "22655 2014-07-31  309.64  265.58\n",
      "22706 2014-08-31  310.00  267.17\n",
      "22757 2014-10-31  310.97  267.10\n",
      "22808 2013-12-31  310.96  270.38\n",
      "22859 2014-12-31  307.64  263.45\n",
      "\n",
      "[449 rows x 3 columns]\n"
     ]
    }
   ],
   "source": [
    "# Les valeurs de la colonne \"HighQ\" ne concernant que les lignes de l'état \"Hawaii\" \n",
    "\n",
    "res = prices_pd[prices_pd['State'] == \"Hawaii\"]\n",
    "print(res[['date', 'HighQ', 'MedQ']])"
   ]
  },
  {
   "cell_type": "markdown",
   "metadata": {},
   "source": [
    "Les types des données peuvent être récupérés à travers la méthode <tt>dtypes</tt>:"
   ]
  },
  {
   "cell_type": "code",
   "execution_count": 68,
   "metadata": {},
   "outputs": [
    {
     "data": {
      "text/plain": [
       "State             object\n",
       "HighQ            float64\n",
       "HighQN             int64\n",
       "MedQ             float64\n",
       "MedQN              int64\n",
       "LowQ             float64\n",
       "LowQN              int64\n",
       "date      datetime64[ns]\n",
       "dtype: object"
      ]
     },
     "execution_count": 68,
     "metadata": {},
     "output_type": "execute_result"
    }
   ],
   "source": [
    "prices_pd.dtypes"
   ]
  },
  {
   "cell_type": "markdown",
   "metadata": {},
   "source": [
    "Il y a beaucoup de fonction s à découvrir pour obtenir des informations utiles sur les DataFrames. Par exemple, la liste des états peut être obtenue ainsi:"
   ]
  },
  {
   "cell_type": "code",
   "execution_count": 69,
   "metadata": {},
   "outputs": [],
   "source": [
    "les_etats = np.unique(prices_pd[\"State\"].values)"
   ]
  },
  {
   "cell_type": "code",
   "execution_count": 70,
   "metadata": {},
   "outputs": [
    {
     "name": "stdout",
     "output_type": "stream",
     "text": [
      "['Alabama' 'Alaska' 'Arizona' 'Arkansas' 'California' 'Colorado'\n",
      " 'Connecticut' 'Delaware' 'District of Columbia' 'Florida' 'Georgia'\n",
      " 'Hawaii' 'Idaho' 'Illinois' 'Indiana' 'Iowa' 'Kansas' 'Kentucky'\n",
      " 'Louisiana' 'Maine' 'Maryland' 'Massachusetts' 'Michigan' 'Minnesota'\n",
      " 'Mississippi' 'Missouri' 'Montana' 'Nebraska' 'Nevada' 'New Hampshire'\n",
      " 'New Jersey' 'New Mexico' 'New York' 'North Carolina' 'North Dakota'\n",
      " 'Ohio' 'Oklahoma' 'Oregon' 'Pennsylvania' 'Rhode Island' 'South Carolina'\n",
      " 'South Dakota' 'Tennessee' 'Texas' 'Utah' 'Vermont' 'Virginia'\n",
      " 'Washington' 'West Virginia' 'Wisconsin' 'Wyoming']\n"
     ]
    }
   ],
   "source": [
    "# Afficher la liste des états :\n",
    "\n",
    "print(les_etats)"
   ]
  },
  {
   "cell_type": "markdown",
   "metadata": {},
   "source": [
    "Comparer le nombre de valeurs de :\n",
    "\n",
    "        prices_pd[\"MedQ\"].values\n",
    "\n",
    "et de \n",
    "\n",
    "        np.unique(prices_pd[\"MedQ\"].values)\n",
    "\n",
    "Expliquer ce qui se passe.        "
   ]
  },
  {
   "cell_type": "code",
   "execution_count": 71,
   "metadata": {},
   "outputs": [
    {
     "name": "stdout",
     "output_type": "stream",
     "text": [
      "False\n"
     ]
    }
   ],
   "source": [
    "# Tester l'égalité :\n",
    "print(np.array_equal(prices_pd[\"MedQ\"].values,np.unique(prices_pd[\"MedQ\"].values)))"
   ]
  },
  {
   "cell_type": "markdown",
   "metadata": {},
   "source": [
    "## Implémentation de mesures classiques ##\n"
   ]
  },
  {
   "cell_type": "markdown",
   "metadata": {},
   "source": [
    "Nous allons maintenant écrire les fonctions permettant de calculer des mesures ''basiques'' sur des données unidimensionnelles. Pour cela, nous allons travailler avec la structure <tt>array</tt> de numpy. Pour convertir une colonne de DataFrame en '<tt>array</tt>, voici commment faire, par exemple avec la colonne `\"HighQ\"`:"
   ]
  },
  {
   "cell_type": "code",
   "execution_count": 72,
   "metadata": {},
   "outputs": [
    {
     "data": {
      "text/plain": [
       "array([339.06, 288.75, 303.31, ..., 359.35, 350.52, 322.27])"
      ]
     },
     "execution_count": 72,
     "metadata": {},
     "output_type": "execute_result"
    }
   ],
   "source": [
    "np.array(prices_pd[\"HighQ\"])"
   ]
  },
  {
   "cell_type": "markdown",
   "metadata": {},
   "source": [
    "### Moyenne"
   ]
  },
  {
   "cell_type": "markdown",
   "metadata": {},
   "source": [
    "<font color=\"RED\" size=\"+1\">**[Q]**</font> **La moyenne**\n",
    "\n",
    "\n",
    "Ecrire la fonction `moyenne`(valeurs) qui calcule la moyenne des éléments d'un tableau.\n",
    "\n",
    "Aide: si possible, éviter les boucles et privilégier les fonctions numpy."
   ]
  },
  {
   "cell_type": "code",
   "execution_count": 73,
   "metadata": {},
   "outputs": [],
   "source": [
    "def moyenne(tab):\n",
    "    return np.mean(tab)"
   ]
  },
  {
   "cell_type": "code",
   "execution_count": 74,
   "metadata": {},
   "outputs": [
    {
     "data": {
      "text/plain": [
       "329.7598541421023"
      ]
     },
     "execution_count": 74,
     "metadata": {},
     "output_type": "execute_result"
    }
   ],
   "source": [
    "moyenne(np.array(prices_pd[\"HighQ\"]))"
   ]
  },
  {
   "cell_type": "code",
   "execution_count": 75,
   "metadata": {},
   "outputs": [
    {
     "data": {
      "text/plain": [
       "0        198.64\n",
       "1        260.60\n",
       "2        209.35\n",
       "3        185.62\n",
       "4        193.56\n",
       "          ...  \n",
       "22894    293.12\n",
       "22895    189.92\n",
       "22896    224.03\n",
       "22897    272.71\n",
       "22898    351.86\n",
       "Name: MedQ, Length: 22899, dtype: float64"
      ]
     },
     "execution_count": 75,
     "metadata": {},
     "output_type": "execute_result"
    }
   ],
   "source": [
    "prices_pd[\"MedQ\"]"
   ]
  },
  {
   "cell_type": "markdown",
   "metadata": {},
   "source": [
    "Tester la fonction moyenne et comparer vos résultats avec l'implémentation de base de python donnée ci-dessous:"
   ]
  },
  {
   "cell_type": "code",
   "execution_count": 76,
   "metadata": {},
   "outputs": [
    {
     "name": "stdout",
     "output_type": "stream",
     "text": [
      "La moyenne (MedQ) est avec ma fonction : 247.618306 dollars\n",
      "La moyenne (MedQ) est avec mean        : 247.618306 dollars\n"
     ]
    }
   ],
   "source": [
    "print(\"La moyenne (MedQ) est avec ma fonction : %f dollars\" % moyenne(prices_pd[\"MedQ\"]))\n",
    "print(\"La moyenne (MedQ) est avec mean        : %f dollars\" % prices_pd[\"MedQ\"].mean())"
   ]
  },
  {
   "cell_type": "markdown",
   "metadata": {},
   "source": [
    "<font color=\"RED\" size=\"+1\">**[Q]**</font> **Moyennes sur les qualités**\n",
    "\n",
    "Calculer:\n",
    "* La moyenne des prix pour les qualités medium et high\n",
    "* La moyenne des prix pour les qualités medium et high dans l'état de ''New York''\n",
    "\n",
    "Les calculs seront fait d'une part à l'aide de votre fonction, et d'autre part à l'aide des fonctions de python (pour être sûr d'obtenir la même chose) et vous comparerez les temps d'exécutions."
   ]
  },
  {
   "cell_type": "code",
   "execution_count": 103,
   "metadata": {},
   "outputs": [
    {
     "name": "stdout",
     "output_type": "stream",
     "text": [
      "Affichage de temps d'exécution :\n",
      "--->  0.00010395050048828125 seconds\n"
     ]
    }
   ],
   "source": [
    "# Utile: calculer un temps d'exécution\n",
    "import time\n",
    "\n",
    "print(\"Affichage de temps d'exécution :\")\n",
    "tic = time.time()\n",
    "somme = 0\n",
    "produit = 0\n",
    "for i in range(0,1000):\n",
    "    somme += i\n",
    "    produit *= i\n",
    "toc = time.time()\n",
    "print(\"---> \",toc-tic,\"seconds\")\n"
   ]
  },
  {
   "cell_type": "code",
   "execution_count": 78,
   "metadata": {},
   "outputs": [
    {
     "name": "stdout",
     "output_type": "stream",
     "text": [
      "Calcul des moyennes pour toutes les données avec une fonction personnalisée :\n",
      "Moyenne MedQ : 247.61830603956503\n",
      "Moyenne HighQ : 329.7598541421023\n",
      "Temps d'exécution : 0.0001506805419921875 secondes\n",
      "\n",
      "Calcul des moyennes pour toutes les données avec les fonctions intégrées :\n",
      "Moyenne MedQ : 247.61830603956503\n",
      "Moyenne HighQ : 329.7598541421023\n",
      "Temps d'exécution : 0.00016164779663085938 secondes\n",
      "\n",
      "Calcul des moyennes pour 'New York' avec une fonction personnalisée :\n",
      "Moyenne MedQ : 265.37694877505567\n",
      "Moyenne HighQ : 346.91276169265035\n",
      "Temps d'exécution : 0.0011713504791259766 secondes\n",
      "\n",
      "Calcul des moyennes pour 'New York' avec les fonctions intégrées :\n",
      "Moyenne MedQ : 265.37694877505567\n",
      "Moyenne HighQ : 346.91276169265035\n",
      "Temps d'exécution : 7.462501525878906e-05 secondes\n",
      "\n"
     ]
    }
   ],
   "source": [
    "# 1. Calcul de la moyenne des prix pour toutes les données, pour les qualités \"MedQ\" et \"HighQ\"\n",
    "tic = time.time()\n",
    "moyenne_medq_custom = moyenne(prices_pd[\"MedQ\"].values)\n",
    "moyenne_highq_custom = moyenne(prices_pd[\"HighQ\"].values)\n",
    "toc = time.time()\n",
    "print(\"Calcul des moyennes pour toutes les données avec une fonction personnalisée :\")\n",
    "print(\"Moyenne MedQ :\", moyenne_medq_custom)\n",
    "print(\"Moyenne HighQ :\", moyenne_highq_custom)\n",
    "print(\"Temps d'exécution :\", toc - tic, \"secondes\\n\")\n",
    "\n",
    "# Calcul des moyennes en utilisant les fonctions intégrées de Panda\n",
    "tic = time.time()\n",
    "moyenne_medq_builtin = prices_pd[\"MedQ\"].mean()\n",
    "moyenne_highq_builtin = prices_pd[\"HighQ\"].mean()\n",
    "toc = time.time()\n",
    "print(\"Calcul des moyennes pour toutes les données avec les fonctions intégrées :\")\n",
    "print(\"Moyenne MedQ :\", moyenne_medq_builtin)\n",
    "print(\"Moyenne HighQ :\", moyenne_highq_builtin)\n",
    "print(\"Temps d'exécution :\", toc - tic, \"secondes\\n\")\n",
    "\n",
    "# 2. Calcul de la moyenne des prix pour les données de l'état \"New York\", pour les qualités \"MedQ\" et \"HighQ\"\n",
    "tic = time.time()\n",
    "ny_data = prices_pd[prices_pd[\"State\"] == \"New York\"]\n",
    "moyenne_medq_ny_custom = moyenne(ny_data[\"MedQ\"].values)\n",
    "moyenne_highq_ny_custom = moyenne(ny_data[\"HighQ\"].values)\n",
    "toc = time.time()\n",
    "print(\"Calcul des moyennes pour 'New York' avec une fonction personnalisée :\")\n",
    "print(\"Moyenne MedQ :\", moyenne_medq_ny_custom)\n",
    "print(\"Moyenne HighQ :\", moyenne_highq_ny_custom)\n",
    "print(\"Temps d'exécution :\", toc - tic, \"secondes\\n\")\n",
    "\n",
    "# Calcul des moyennes pour l'état \"New York\" en utilisant les fonctions intégrées de Panda\n",
    "tic = time.time()\n",
    "moyenne_medq_ny_builtin = ny_data[\"MedQ\"].mean()\n",
    "moyenne_highq_ny_builtin = ny_data[\"HighQ\"].mean()\n",
    "toc = time.time()\n",
    "print(\"Calcul des moyennes pour 'New York' avec les fonctions intégrées :\")\n",
    "print(\"Moyenne MedQ :\", moyenne_medq_ny_builtin)\n",
    "print(\"Moyenne HighQ :\", moyenne_highq_ny_builtin)\n",
    "print(\"Temps d'exécution :\", toc - tic, \"secondes\\n\")\n"
   ]
  },
  {
   "cell_type": "markdown",
   "metadata": {},
   "source": [
    "1. Résultats des moyennes :\n",
    "2. \n",
    "Moyenne MedQ pour toutes les données :\n",
    "Fonction personnalisée : 247.61830603956503\n",
    "Fonction intégrée : 247.61830603956503\n",
    "Moyenne HighQ pour toutes les données :\n",
    "Fonction personnalisée : 329.7598541421023\n",
    "Fonction intégrée : 329.7598541421023\n",
    "Moyenne MedQ pour 'New York' :\n",
    "Fonction personnalisée : 265.37694877505567\n",
    "Fonction intégrée : 265.37694877505567\n",
    "Moyenne HighQ pour 'New York' :\n",
    "Fonction personnalisée : 346.91276169265035\n",
    "Fonction intégrée : 346.91276169265035\n",
    "Les résultats sont parfaitement identiques entre la fonction personnalisée (avec np.mean) et les fonctions intégrées de Pandas, ce qui montre que notre fonction personnalisée avec np.mean() fonctionne correctement.\n",
    "\n",
    "3. Comparaison des temps d'exécution\n",
    "Pour toutes les données :\n",
    "Temps d'exécution avec la fonction personnalisée : 0.000926971435546875 secondes\n",
    "Temps d'exécution avec la fonction intégrée : 0.0009930133819580078 secondes\n",
    "La fonction personnalisée est légèrement plus rapide (environ 0.00007 secondes), mais la différence est minime.\n",
    "Pour 'New York' :\n",
    "Temps d'exécution avec la fonction personnalisée : 0.0033369064331054688 secondes\n",
    "Temps d'exécution avec la fonction intégrée : 0.00019288063049316406 secondes\n",
    "Ici, la différence est beaucoup plus significative. La fonction intégrée est beaucoup plus rapide (environ 17 fois plus rapide). Cela est dû à l'optimisation des fonctions intégrées de Pandas."
   ]
  },
  {
   "cell_type": "markdown",
   "metadata": {},
   "source": [
    "<font color=\"RED\" size=\"+1\">**[Q]**</font> **Moyenne sur les états**\n",
    "\n",
    "Calculez la moyenne des prix qualités medium et high dans tous les états -- la liste des états est obtenues ainsi `states=np.unique(prices_pd[\"State\"].values)`\n",
    "\n",
    "Pour cela, vous pouvez (devez) le faire de deux manières:\n",
    "* Faire une boucle sur chacun des états\n",
    "* Utiliser la fonction groupby comme expliqué ici : http://pandas.pydata.org/pandas-docs/stable/groupby.html\n",
    " et ici : https://www.kaggle.com/crawford/python-groupby-tutorial\n"
   ]
  },
  {
   "cell_type": "code",
   "execution_count": 79,
   "metadata": {},
   "outputs": [
    {
     "name": "stdout",
     "output_type": "stream",
     "text": [
      "Prix moyen par état pour la qualité Medium et High (avec ma fonction):\n",
      "\n",
      "État: Alabama\n",
      "  Moyenne MedQ: 204.6061692650334\n",
      "  Moyenne HighQ: 339.5618485523386\n",
      "État: Alaska\n",
      "  Moyenne MedQ: 262.0463919821826\n",
      "  Moyenne HighQ: 291.4820044543429\n",
      "État: Arizona\n",
      "  Moyenne MedQ: 209.36534521158129\n",
      "  Moyenne HighQ: 300.66748329621385\n",
      "État: Arkansas\n",
      "  Moyenne MedQ: 190.4146547884187\n",
      "  Moyenne HighQ: 348.0561469933185\n",
      "État: California\n",
      "  Moyenne MedQ: 191.26890868596882\n",
      "  Moyenne HighQ: 245.37612472160356\n",
      "État: Colorado\n",
      "  Moyenne MedQ: 196.5325167037862\n",
      "  Moyenne HighQ: 238.91870824053453\n",
      "État: Connecticut\n",
      "  Moyenne MedQ: 271.3238975501113\n",
      "  Moyenne HighQ: 341.6940757238307\n",
      "État: Delaware\n",
      "  Moyenne MedQ: 231.23031180400892\n",
      "  Moyenne HighQ: 366.7818485523385\n",
      "État: District of Columbia\n",
      "  Moyenne MedQ: 288.2513140311804\n",
      "  Moyenne HighQ: 348.1774164810691\n",
      "État: Florida\n",
      "  Moyenne MedQ: 217.88256124721602\n",
      "  Moyenne HighQ: 302.57031180400895\n",
      "État: Georgia\n",
      "  Moyenne MedQ: 215.9436302895323\n",
      "  Moyenne HighQ: 326.6596436525612\n",
      "État: Hawaii\n",
      "  Moyenne MedQ: 268.73815144766144\n",
      "  Moyenne HighQ: 309.9189309576838\n",
      "État: Idaho\n",
      "  Moyenne MedQ: 249.8224276169265\n",
      "  Moyenne HighQ: 275.6393763919822\n",
      "État: Illinois\n",
      "  Moyenne MedQ: 284.18008908685965\n",
      "  Moyenne HighQ: 355.46334075723826\n",
      "État: Indiana\n",
      "  Moyenne MedQ: 211.98951002227173\n",
      "  Moyenne HighQ: 333.1911135857461\n",
      "État: Iowa\n",
      "  Moyenne MedQ: 289.9455233853007\n",
      "  Moyenne HighQ: 367.09579064587973\n",
      "État: Kansas\n",
      "  Moyenne MedQ: 261.24307349665924\n",
      "  Moyenne HighQ: 350.8191982182628\n",
      "État: Kentucky\n",
      "  Moyenne MedQ: 179.93376391982184\n",
      "  Moyenne HighQ: 338.855167037862\n",
      "État: Louisiana\n",
      "  Moyenne MedQ: 243.11788418708238\n",
      "  Moyenne HighQ: 366.8325389755011\n",
      "État: Maine\n",
      "  Moyenne MedQ: 248.43817371937638\n",
      "  Moyenne HighQ: 315.39008908685975\n",
      "État: Maryland\n",
      "  Moyenne MedQ: 254.14044543429844\n",
      "  Moyenne HighQ: 370.98516703786197\n",
      "État: Massachusetts\n",
      "  Moyenne MedQ: 290.1978841870824\n",
      "  Moyenne HighQ: 349.01164810690426\n",
      "État: Michigan\n",
      "  Moyenne MedQ: 273.3523385300668\n",
      "  Moyenne HighQ: 292.09051224944324\n",
      "État: Minnesota\n",
      "  Moyenne MedQ: 275.85006681514477\n",
      "  Moyenne HighQ: 358.24327394209354\n",
      "État: Mississippi\n",
      "  Moyenne MedQ: 148.23160356347438\n",
      "  Moyenne HighQ: 337.5592873051225\n",
      "État: Missouri\n",
      "  Moyenne MedQ: 244.81220489977727\n",
      "  Moyenne HighQ: 359.27663697104674\n",
      "État: Montana\n",
      "  Moyenne MedQ: 248.39855233853004\n",
      "  Moyenne HighQ: 267.8317371937639\n",
      "État: Nebraska\n",
      "  Moyenne MedQ: 248.16064587973275\n",
      "  Moyenne HighQ: 341.5593541202673\n",
      "État: Nevada\n",
      "  Moyenne MedQ: 226.21741648106902\n",
      "  Moyenne HighQ: 267.8201113585746\n",
      "État: New Hampshire\n",
      "  Moyenne MedQ: 290.1077505567929\n",
      "  Moyenne HighQ: 359.4760356347439\n",
      "État: New Jersey\n",
      "  Moyenne MedQ: 288.72701559020044\n",
      "  Moyenne HighQ: 349.32169265033406\n",
      "État: New Mexico\n",
      "  Moyenne MedQ: 209.2422494432071\n",
      "  Moyenne HighQ: 289.56253897550107\n",
      "État: New York\n",
      "  Moyenne MedQ: 265.37694877505567\n",
      "  Moyenne HighQ: 346.91276169265035\n",
      "État: North Carolina\n",
      "  Moyenne MedQ: 245.69922048997776\n",
      "  Moyenne HighQ: 349.4750334075724\n",
      "État: North Dakota\n",
      "  Moyenne MedQ: 349.0666815144766\n",
      "  Moyenne HighQ: 398.66875278396435\n",
      "État: Ohio\n",
      "  Moyenne MedQ: 216.95316258351895\n",
      "  Moyenne HighQ: 334.55465478841865\n",
      "État: Oklahoma\n",
      "  Moyenne MedQ: 233.82200445434296\n",
      "  Moyenne HighQ: 361.573140311804\n",
      "État: Oregon\n",
      "  Moyenne MedQ: 183.88986636971043\n",
      "  Moyenne HighQ: 208.49623608017816\n",
      "État: Pennsylvania\n",
      "  Moyenne MedQ: 267.8913363028953\n",
      "  Moyenne HighQ: 366.1256792873051\n",
      "État: Rhode Island\n",
      "  Moyenne MedQ: 258.172293986637\n",
      "  Moyenne HighQ: 323.8383518930958\n",
      "État: South Carolina\n",
      "  Moyenne MedQ: 203.33977728285078\n",
      "  Moyenne HighQ: 341.6929175946548\n",
      "État: South Dakota\n",
      "  Moyenne MedQ: 351.9448106904231\n",
      "  Moyenne HighQ: 375.8184855233853\n",
      "État: Tennessee\n",
      "  Moyenne MedQ: 225.80886414253897\n",
      "  Moyenne HighQ: 352.7530066815144\n",
      "État: Texas\n",
      "  Moyenne MedQ: 233.5368374164811\n",
      "  Moyenne HighQ: 337.1052115812917\n",
      "État: Utah\n",
      "  Moyenne MedQ: 237.3718930957684\n",
      "  Moyenne HighQ: 289.5960579064588\n",
      "État: Vermont\n",
      "  Moyenne MedQ: 315.5475501113586\n",
      "  Moyenne HighQ: 374.25044543429846\n",
      "État: Virginia\n",
      "  Moyenne MedQ: 290.4080846325167\n",
      "  Moyenne HighQ: 368.1469933184855\n",
      "État: Washington\n",
      "  Moyenne MedQ: 189.92498886414256\n",
      "  Moyenne HighQ: 233.38781737193764\n",
      "État: West Virginia\n",
      "  Moyenne MedQ: 215.88380846325168\n",
      "  Moyenne HighQ: 357.394565701559\n",
      "État: Wisconsin\n",
      "  Moyenne MedQ: 271.6481737193764\n",
      "  Moyenne HighQ: 353.05251670378624\n",
      "État: Wyoming\n",
      "  Moyenne MedQ: 358.5348329621381\n",
      "  Moyenne HighQ: 339.0207795100223\n",
      "\n",
      "\n"
     ]
    }
   ],
   "source": [
    "# Methode 1 avec boucle\n",
    "print(\"Prix moyen par état pour la qualité Medium et High (avec ma fonction):\\n\")\n",
    "states = np.unique(prices_pd[\"State\"].values)\n",
    "for state in states:\n",
    "    state_data = prices_pd[prices_pd[\"State\"] == state]\n",
    "    moyenne_medq = np.mean(state_data[\"MedQ\"].values)\n",
    "    moyenne_highq = np.mean(state_data[\"HighQ\"].values)\n",
    "    print(f\"État: {state}\")\n",
    "    print(f\"  Moyenne MedQ: {moyenne_medq}\")\n",
    "    print(f\"  Moyenne HighQ: {moyenne_highq}\")\n",
    "print(\"\\n\")"
   ]
  },
  {
   "cell_type": "code",
   "execution_count": 80,
   "metadata": {},
   "outputs": [
    {
     "name": "stdout",
     "output_type": "stream",
     "text": [
      "Prix moyen par état pour la qualité Medium et High (avec groupby):\n",
      "\n",
      "                            MedQ       HighQ\n",
      "State                                       \n",
      "Alabama               204.606169  339.561849\n",
      "Alaska                262.046392  291.482004\n",
      "Arizona               209.365345  300.667483\n",
      "Arkansas              190.414655  348.056147\n",
      "California            191.268909  245.376125\n",
      "Colorado              196.532517  238.918708\n",
      "Connecticut           271.323898  341.694076\n",
      "Delaware              231.230312  366.781849\n",
      "District of Columbia  288.251314  348.177416\n",
      "Florida               217.882561  302.570312\n",
      "Georgia               215.943630  326.659644\n",
      "Hawaii                268.738151  309.918931\n",
      "Idaho                 249.822428  275.639376\n",
      "Illinois              284.180089  355.463341\n",
      "Indiana               211.989510  333.191114\n",
      "Iowa                  289.945523  367.095791\n",
      "Kansas                261.243073  350.819198\n",
      "Kentucky              179.933764  338.855167\n",
      "Louisiana             243.117884  366.832539\n",
      "Maine                 248.438174  315.390089\n",
      "Maryland              254.140445  370.985167\n",
      "Massachusetts         290.197884  349.011648\n",
      "Michigan              273.352339  292.090512\n",
      "Minnesota             275.850067  358.243274\n",
      "Mississippi           148.231604  337.559287\n",
      "Missouri              244.812205  359.276637\n",
      "Montana               248.398552  267.831737\n",
      "Nebraska              248.160646  341.559354\n",
      "Nevada                226.217416  267.820111\n",
      "New Hampshire         290.107751  359.476036\n",
      "New Jersey            288.727016  349.321693\n",
      "New Mexico            209.242249  289.562539\n",
      "New York              265.376949  346.912762\n",
      "North Carolina        245.699220  349.475033\n",
      "North Dakota          349.066682  398.668753\n",
      "Ohio                  216.953163  334.554655\n",
      "Oklahoma              233.822004  361.573140\n",
      "Oregon                183.889866  208.496236\n",
      "Pennsylvania          267.891336  366.125679\n",
      "Rhode Island          258.172294  323.838352\n",
      "South Carolina        203.339777  341.692918\n",
      "South Dakota          351.944811  375.818486\n",
      "Tennessee             225.808864  352.753007\n",
      "Texas                 233.536837  337.105212\n",
      "Utah                  237.371893  289.596058\n",
      "Vermont               315.547550  374.250445\n",
      "Virginia              290.408085  368.146993\n",
      "Washington            189.924989  233.387817\n",
      "West Virginia         215.883808  357.394566\n",
      "Wisconsin             271.648174  353.052517\n",
      "Wyoming               358.534833  339.020780\n"
     ]
    }
   ],
   "source": [
    "# Methode 2 avec groupby\n",
    "print(\"Prix moyen par état pour la qualité Medium et High (avec groupby):\\n\")\n",
    "grouped = prices_pd.groupby(\"State\")[[\"MedQ\", \"HighQ\"]].mean()\n",
    "print(grouped)"
   ]
  },
  {
   "cell_type": "markdown",
   "metadata": {},
   "source": [
    "<font color=\"RED\" size=\"+1\">**[Q]**</font> **Modification de données**\n",
    "\n",
    "Remplacez le <tt>NAN</tt> de la colonne <tt>LowQ</tt> à l'aide de la fonction décrite ici: http://pandas.pydata.org/pandas-docs/version/0.17.1/generated/pandas.DataFrame.fillna.html avec sa variante pour les versions pandas plus récentes https://pandas.pydata.org/docs/reference/api/pandas.DataFrame.ffill.html.\n",
    "\n",
    "Nous souhaitons plus particulièrement utiliser une méthode de remplissage après avoir trié par état et par date grâce à l'utilisation de la fonction <tt>sort</tt> : \n",
    "\n",
    "            prices_sorted = prices_pd.sort_values(by=['State', 'date'], inplace=False)\n",
    "\n",
    "Expliquer le résultat de cette commande.\n",
    "Que se passerait-il si on utilisait <tt>inplace=True</tt> ?"
   ]
  },
  {
   "cell_type": "code",
   "execution_count": 81,
   "metadata": {},
   "outputs": [
    {
     "name": "stdout",
     "output_type": "stream",
     "text": [
      "         State   HighQ  HighQN    MedQ  MedQN    LowQ  LowQN       date\n",
      "20094  Alabama  339.65    1033  198.04    926  147.15    122 2013-12-27\n",
      "20859  Alabama  339.65    1033  198.04    926  147.15    122 2013-12-28\n",
      "21573  Alabama  339.75    1036  198.26    929  149.49    123 2013-12-29\n",
      "22287  Alabama  339.75    1036  198.81    930  149.49    123 2013-12-30\n",
      "22797  Alabama  339.42    1040  198.68    932  149.49    123 2013-12-31\n"
     ]
    }
   ],
   "source": [
    "# Tri avec les Nan\n",
    "prices_sorted = prices_pd.sort_values(by=['State', 'date'], inplace=False)\n",
    "prices_sorted['LowQ'] = prices_sorted['LowQ'].ffill()\n",
    "print(prices_sorted.head())"
   ]
  },
  {
   "cell_type": "markdown",
   "metadata": {},
   "source": [
    "sort_values(by=['State', 'date'], inplace=False) : Cette commande trie d'abord les données par les colonnes State et date. \n",
    "inplace=False signifie que la fonction ne modifie pas directement l'objet prices_pd original, mais renvoie plutôt un nouveau DataFrame trié. \n",
    "Si inplace=True est utilisé, l'objet prices_pd original sera directement modifié."
   ]
  },
  {
   "cell_type": "markdown",
   "metadata": {},
   "source": [
    "<font color=\"RED\" size=\"+1\">**[Q]**</font> **Changements des résultats**\n",
    "\n",
    "\n",
    "Recalculer la moyenne des prix pour la qualité <tt>LowQ</tt>. Qu'en est-il maintenant ? "
   ]
  },
  {
   "cell_type": "code",
   "execution_count": 82,
   "metadata": {},
   "outputs": [
    {
     "name": "stdout",
     "output_type": "stream",
     "text": [
      "Moyenne avant remplacement des NAN:  203.74784718846217\n",
      "Moyenne après tri et avec NAN:  203.74784718846215\n",
      "Moyenne après remplacement des NAN (sur données triées):  203.62409188174158\n"
     ]
    }
   ],
   "source": [
    "# 1. Moyenne avant remplacement des NAN\n",
    "moyenne_avant_remplacement = prices_pd['LowQ'].mean()\n",
    "\n",
    "# 2. Moyenne après tri et avec NAN\n",
    "prices_sorted = prices_pd.sort_values(by=['State', 'date'], inplace=False)\n",
    "moyenne_avec_nan_apres_tri = prices_sorted['LowQ'].mean()\n",
    "\n",
    "# 3. Moyenne après remplacement des NAN (sur données triées)\n",
    "prices_sorted['LowQ'] = prices_sorted['LowQ'].ffill()\n",
    "moyenne_apres_remplacement = prices_sorted['LowQ'].mean()\n",
    "\n",
    "print(\"Moyenne avant remplacement des NAN: \", moyenne_avant_remplacement)\n",
    "print(\"Moyenne après tri et avec NAN: \", moyenne_avec_nan_apres_tri)\n",
    "print(\"Moyenne après remplacement des NAN (sur données triées): \", moyenne_apres_remplacement)"
   ]
  },
  {
   "cell_type": "markdown",
   "metadata": {},
   "source": [
    "<font color=\"RED\" size=\"+1\">**[Q]**</font> **Tracé d'histogrammes**\n",
    "\n",
    "Donner les instructions Python pour tracer l'histogramme des moyennes des prix (<tt>LowQ</tt>) par état pour les données initiales (ie. avec NAN). \n",
    "\n",
    "\n",
    "Pour vous aider à construire un histogramme, vous pouvez étudier la page suivante:\n",
    "https://matplotlib.org/stable/api/_as_gen/matplotlib.pyplot.hist.html"
   ]
  },
  {
   "cell_type": "code",
   "execution_count": 83,
   "metadata": {},
   "outputs": [
    {
     "data": {
      "text/plain": [
       "(array([1483., 6411., 3222.,  296.,  382.,   64.,    0.,   88.,  214.,\n",
       "         182.]),\n",
       " array([ 63.7  , 130.795, 197.89 , 264.985, 332.08 , 399.175, 466.27 ,\n",
       "        533.365, 600.46 , 667.555, 734.65 ]),\n",
       " <BarContainer object of 10 artists>)"
      ]
     },
     "execution_count": 83,
     "metadata": {},
     "output_type": "execute_result"
    },
    {
     "data": {
      "image/png": "[encoded data removed]",
      "text/plain": [
       "<Figure size 640x480 with 1 Axes>"
      ]
     },
     "metadata": {},
     "output_type": "display_data"
    }
   ],
   "source": [
    "# Par exemple, tracé de l'histograme des valeurs \"LowQ\" sur l'ensemble des données:\n",
    "plt.hist(prices_pd[\"LowQ\"])"
   ]
  },
  {
   "cell_type": "markdown",
   "metadata": {},
   "source": [
    "<font color=\"RED\" size=\"+1\">**[Q]**</font> **Estimation de densité**\n",
    "\n",
    "Nous allons maintenant nous intéresser au calcul du nombre d'états concernés par une fourchette de prix. Pour cela:\n",
    "* Calculer le tableau des prix moyens de la facon suivante\n",
    "    \n"
   ]
  },
  {
   "cell_type": "code",
   "execution_count": 84,
   "metadata": {},
   "outputs": [
    {
     "data": {
      "text/plain": [
       "array([146.83260331, 387.23272727, 190.8268595 , 127.34545455,\n",
       "       190.79599174, 226.79061983, 253.02487603, 205.04599174,\n",
       "       210.56355372, 153.2053719 , 150.26409091, 167.09384298,\n",
       "       139.96285124, 186.54516529, 158.93165289, 248.59553719,\n",
       "       120.1992562 , 124.1568595 , 146.77698347, 244.95165289,\n",
       "       190.18508264, 220.07      , 252.64491736, 182.68330579,\n",
       "       142.75194215, 147.50859504, 659.85107438, 137.89590909,\n",
       "       241.79293388, 639.80780992, 228.61177686,  80.89095041,\n",
       "       201.34      , 150.81061983, 333.96822314, 165.1696281 ,\n",
       "       119.89392562, 170.17338843, 193.22975207, 203.00066116,\n",
       "       184.46760331, 124.31801653, 190.12157025, 143.36289256,\n",
       "       193.84429752, 189.6007438 , 224.23900826, 143.18338843,\n",
       "       155.71516529, 239.56508264, 161.3       ])"
      ]
     },
     "execution_count": 84,
     "metadata": {},
     "output_type": "execute_result"
    }
   ],
   "source": [
    "prix_moyens=prices_pd[[\"State\",\"LowQ\"]].groupby([\"State\"]).mean()\n",
    "#print(prix_moyens)\n",
    "#print(\"===========\")\n",
    "prix_moyens=prix_moyens.values.ravel()\n",
    "\n",
    "prix_moyens"
   ]
  },
  {
   "cell_type": "code",
   "execution_count": 85,
   "metadata": {},
   "outputs": [
    {
     "data": {
      "image/png": "[encoded data removed]",
      "text/plain": [
       "<Figure size 640x480 with 1 Axes>"
      ]
     },
     "metadata": {},
     "output_type": "display_data"
    }
   ],
   "source": [
    "# Histogramme:\n",
    "plt.hist(prix_moyens)\n",
    "plt.show()"
   ]
  },
  {
   "cell_type": "markdown",
   "metadata": {},
   "source": [
    "<font color=\"RED\" size=\"+1\">**[Q]**</font> **Bornes de variations**\n",
    "\n",
    "* Calculer les valeurs min et max des prix moyens"
   ]
  },
  {
   "cell_type": "code",
   "execution_count": 86,
   "metadata": {},
   "outputs": [
    {
     "name": "stdout",
     "output_type": "stream",
     "text": [
      "Valeur minimale des prix moyens : 80.89095041322314\n",
      "Valeur maximale des prix moyens : 659.8510743801653\n"
     ]
    }
   ],
   "source": [
    "min_prix_moyen = prix_moyens.min()\n",
    "max_prix_moyen = prix_moyens.max()\n",
    "\n",
    "print(\"Valeur minimale des prix moyens :\", min_prix_moyen)\n",
    "print(\"Valeur maximale des prix moyens :\", max_prix_moyen)"
   ]
  },
  {
   "cell_type": "markdown",
   "metadata": {},
   "source": [
    "<font color=\"RED\" size=\"+1\">**[Q]**</font> **Calcul d'un effectif**\n",
    "\n",
    "Pour mieux contrôler le tracé de l'histogramme, il est préférable de donner la taille de l'intervalle de discrétisation à utiliser pour calculer les effectifs.\n",
    "\n",
    "En utilisant l'option bins de la fonction de matplotlib `hist`, tracer l'histogramme avec un intervalle de discrétisation de taille 20."
   ]
  },
  {
   "cell_type": "code",
   "execution_count": 87,
   "metadata": {},
   "outputs": [
    {
     "data": {
      "image/png": "[encoded data removed]",
      "text/plain": [
       "<Figure size 640x480 with 1 Axes>"
      ]
     },
     "metadata": {},
     "output_type": "display_data"
    }
   ],
   "source": [
    "plt.hist(prix_moyens, bins=20, edgecolor='black')\n",
    "plt.title('Histogramme des prix moyens (LowQ)')\n",
    "plt.xlabel('Prix moyens')\n",
    "plt.ylabel('Effectif')\n",
    "plt.show()"
   ]
  },
  {
   "cell_type": "markdown",
   "metadata": {},
   "source": [
    "<font color=\"RED\" size=\"+1\">**[Q]**</font> **Changement d'échelle**\n",
    "\n",
    "Même chose mais avec maintenant un intervalle de taille 40.\n"
   ]
  },
  {
   "cell_type": "code",
   "execution_count": 88,
   "metadata": {},
   "outputs": [
    {
     "data": {
      "image/png": "[encoded data removed]",
      "text/plain": [
       "<Figure size 640x480 with 1 Axes>"
      ]
     },
     "metadata": {},
     "output_type": "display_data"
    }
   ],
   "source": [
    "plt.hist(prix_moyens, bins=40, edgecolor='black')\n",
    "plt.title('Histogramme des prix moyens (LowQ)')\n",
    "plt.xlabel('Prix moyens')\n",
    "plt.ylabel('Effectif')\n",
    "plt.show()"
   ]
  },
  {
   "cell_type": "markdown",
   "metadata": {},
   "source": [
    "### Variance\n",
    "\n",
    "<font color=\"RED\" size=\"+1\">**[Q]**</font> **Calcul de variances**\n",
    "\n",
    "On souhaite maintenant rajouter une colonne <tt>HighQ_var</tt> aux données originales contenant la variance des prix par état. Donner les intructions Python correspondantes.\n",
    "\n",
    "**ATTENTION**, cela suppose de traiter les états (State) les uns après les autres... par exemple, à l'aide d'un <tt>groupby</tt> sur le dataframe...\n",
    "\n",
    "\n",
    "Remarque: pour être efficace, utiliser la fonction variance de pandas pour les dataframes..."
   ]
  },
  {
   "cell_type": "code",
   "execution_count": 106,
   "metadata": {},
   "outputs": [
    {
     "name": "stdout",
     "output_type": "stream",
     "text": [
      "               State   HighQ_var   HighQ_var   HighQ_var   HighQ_var\n",
      "0            Alabama    2.370749    2.370749    2.370749    2.370749\n",
      "1             Alaska   31.137567   31.137567   31.137567   31.137567\n",
      "2            Arizona    4.063247    4.063247    4.063247    4.063247\n",
      "3           Arkansas   47.141986   47.141986   47.141986   47.141986\n",
      "4         California    2.982686    2.982686    2.982686    2.982686\n",
      "...              ...         ...         ...         ...         ...\n",
      "22894       Virginia   11.862465   11.862465   11.862465   11.862465\n",
      "22895     Washington    1.347089    1.347089    1.347089    1.347089\n",
      "22896  West Virginia    8.248240    8.248240    8.248240    8.248240\n",
      "22897      Wisconsin   11.744638   11.744638   11.744638   11.744638\n",
      "22898        Wyoming  219.612495  219.612495  219.612495  219.612495\n",
      "\n",
      "[22899 rows x 5 columns]\n"
     ]
    }
   ],
   "source": [
    "highq_var = prices_pd.groupby('State')['HighQ'].var()\n",
    "prices_pd = prices_pd.merge(highq_var, on='State', how='left', suffixes=('', '_var'))\n",
    "print(prices_pd[['State', 'HighQ_var']])"
   ]
  },
  {
   "cell_type": "markdown",
   "metadata": {},
   "source": [
    "# Travail de synthèse : La Californie\n",
    "\n",
    "Pandas permet de faire la synthèse de données de la manière suivante (pour le DataFrame de nom <tt>df</tt>): \n",
    "    \n",
    "    df.describe()\n",
    "    \n",
    "\n",
    "<font color=\"RED\" size=\"+1\">**[Q]**</font> Vérifier que les valeurs trouvées sur l'état de la Californie correspondent aux valeurs trouvées grâce à vos différentes fonctions. \n",
    "\n",
    "Pour cela, donner dans ce qui suit le code qui utilise vos fonctions (moyennes, variance, et quartiles) ainsi que le résutlats de la fonction <tt>describe</tt>.\n"
   ]
  },
  {
   "cell_type": "code",
   "execution_count": 90,
   "metadata": {},
   "outputs": [
    {
     "name": "stdout",
     "output_type": "stream",
     "text": [
      "Résultat de describe() pour la Californie :\n",
      "            HighQ        HighQN        MedQ         MedQN        LowQ  \\\n",
      "count  449.000000    449.000000  449.000000    449.000000  242.000000   \n",
      "mean   245.376125  14947.073497  191.268909  16769.821826  190.795992   \n",
      "min    241.840000  12021.000000  187.850000  12724.000000  187.830000   \n",
      "25%    244.480000  13610.000000  190.260000  14826.000000  189.420000   \n",
      "50%    245.310000  15037.000000  191.570000  16793.000000  191.075000   \n",
      "75%    246.220000  16090.000000  192.550000  18435.000000  192.200000   \n",
      "max    248.820000  18492.000000  193.630000  22027.000000  193.880000   \n",
      "std      1.727046   1656.133565    1.524028   2433.943191    1.586186   \n",
      "\n",
      "             LowQN                           date     HighQ_var  \n",
      "count   449.000000                            449  4.490000e+02  \n",
      "mean    976.298441  2014-08-14 12:59:19.910913024  2.982686e+00  \n",
      "min     770.000000            2013-12-27 00:00:00  2.982686e+00  \n",
      "25%     878.000000            2014-04-18 00:00:00  2.982686e+00  \n",
      "50%     982.000000            2014-08-09 00:00:00  2.982686e+00  \n",
      "75%    1060.000000            2014-11-29 00:00:00  2.982686e+00  \n",
      "max    1232.000000            2015-06-11 00:00:00  2.982686e+00  \n",
      "std     120.246714                            NaN  4.445846e-16  \n",
      "\n",
      "Moyenne calculée manuellement pour la Californie :  190.7959917355372\n",
      "Variance calculée manuellement pour la Californie :  2.5159851119646093\n",
      "1er quartile (Q1) calculé manuellement pour la Californie :  189.42\n",
      "3ème quartile (Q3) calculé manuellement pour la Californie :  192.2\n"
     ]
    }
   ],
   "source": [
    "california_data = prices_pd[prices_pd['State'] == 'California']\n",
    "\n",
    "describe_california = california_data.describe()\n",
    "\n",
    "mean_california = california_data['LowQ'].mean()\n",
    "var_california = california_data['LowQ'].var()\n",
    "q1_california = california_data['LowQ'].quantile(0.25)\n",
    "q3_california = california_data['LowQ'].quantile(0.75)\n",
    "\n",
    "print(\"Résultat de describe() pour la Californie :\")\n",
    "print(describe_california)\n",
    "\n",
    "print(\"\\nMoyenne calculée manuellement pour la Californie : \", mean_california)\n",
    "print(\"Variance calculée manuellement pour la Californie : \", var_california)\n",
    "print(\"1er quartile (Q1) calculé manuellement pour la Californie : \", q1_california)\n",
    "print(\"3ème quartile (Q3) calculé manuellement pour la Californie : \", q3_california)"
   ]
  },
  {
   "cell_type": "markdown",
   "metadata": {},
   "source": [
    "### 1. **Moyenne**\n",
    "   - La moyenne dans `describe()` est de **190.795992**.\n",
    "   - La moyenne que vous avez calculée manuellement est de **190.795992**, ce qui correspond exactement à la valeur retournée par `describe()`.\n",
    "\n",
    "### 2. **Variance**\n",
    "   - `describe()` ne montre pas directement la variance, mais donne l'écart type (`std`), qui est de **1.586186**.\n",
    "   - La variance que vous avez calculée manuellement est de **2.515985**, ce qui correspond au carré de l'écart type affiché dans `describe()` (car **1.586186^2 ≈ 2.515985**).\n",
    "\n",
    "### 3. **Quartiles**\n",
    "   - Les quartiles dans `describe()` sont :\n",
    "     - **Q1 (25%) = 189.42**\n",
    "     - **Q3 (75%) = 192.2**\n",
    "   - Les quartiles que vous avez calculés manuellement sont :\n",
    "     - **Q1 = 189.42**\n",
    "     - **Q3 = 192.2**\n",
    "   - Ces valeurs correspondent exactement à celles données par `describe()`.\n",
    "\n",
    "### Conclusion :\n",
    "- Nos résultats manuels sont cohérents avec ceux obtenus via la méthode `describe()`, en particulier pour la moyenne, la variance et les quartiles.\n",
    "- La méthode `describe()` retourne les statistiques de la colonne `LowQ`, et vos calculs manuels correspondent également à ces statistiques.\n",
    "\n",
    "### Comparaison des résultats :\n",
    "# Résultats de describe()\n",
    "# Moyenne : 190.795992\n",
    "# Variance : 1.586186^2 ≈ 2.515985\n",
    "# 1er Quartile (Q1) : 189.42\n",
    "# 3ème Quartile (Q3) : 192.2\n",
    "\n",
    "# Résultats calculés manuellement\n",
    "# Moyenne : 190.795992\n",
    "# Variance : 2.515985\n",
    "# 1er Quartile (Q1) : 189.42\n",
    "# 3ème Quartile (Q3) : 192.2\n",
    "\n",
    "En résumé, nos résultats manuels sont bien en accord avec ceux de `describe()`."
   ]
  },
  {
   "cell_type": "markdown",
   "metadata": {},
   "source": [
    "<font color=\"RED\" size=\"+1\">**[Q]**</font> **Matrice de corrélation**\n",
    "\n",
    "\n",
    "Nous allons maintenant nous intéresser à calculer la corrélation entre les prix à New York et les prix en Californie.\n",
    "\n",
    "Commencer par représenter le nuage des points des prix (par date) en Californie (axe $X$) et à New York (axe $Y$) pour la bonne qualité.\n",
    "\n",
    "Pour cela,  on commence par créer un DataFrame avec ces informations:"
   ]
  },
  {
   "cell_type": "code",
   "execution_count": 91,
   "metadata": {},
   "outputs": [
    {
     "data": {
      "text/html": [
       "<div>\n",
       "<style scoped>\n",
       "    .dataframe tbody tr th:only-of-type {\n",
       "        vertical-align: middle;\n",
       "    }\n",
       "\n",
       "    .dataframe tbody tr th {\n",
       "        vertical-align: top;\n",
       "    }\n",
       "\n",
       "    .dataframe thead th {\n",
       "        text-align: right;\n",
       "    }\n",
       "</style>\n",
       "<table border=\"1\" class=\"dataframe\">\n",
       "  <thead>\n",
       "    <tr style=\"text-align: right;\">\n",
       "      <th></th>\n",
       "      <th>State_x</th>\n",
       "      <th>HighQ_x</th>\n",
       "      <th>HighQN_x</th>\n",
       "      <th>MedQ_x</th>\n",
       "      <th>MedQN_x</th>\n",
       "      <th>LowQ_x</th>\n",
       "      <th>LowQN_x</th>\n",
       "      <th>date</th>\n",
       "      <th>HighQ_var_x</th>\n",
       "      <th>State_y</th>\n",
       "      <th>HighQ_y</th>\n",
       "      <th>HighQN_y</th>\n",
       "      <th>MedQ_y</th>\n",
       "      <th>MedQN_y</th>\n",
       "      <th>LowQ_y</th>\n",
       "      <th>LowQN_y</th>\n",
       "      <th>HighQ_var_y</th>\n",
       "    </tr>\n",
       "  </thead>\n",
       "  <tbody>\n",
       "    <tr>\n",
       "      <th>0</th>\n",
       "      <td>California</td>\n",
       "      <td>248.78</td>\n",
       "      <td>12096</td>\n",
       "      <td>193.56</td>\n",
       "      <td>12812</td>\n",
       "      <td>192.92</td>\n",
       "      <td>778</td>\n",
       "      <td>2014-01-01</td>\n",
       "      <td>2.982686</td>\n",
       "      <td>New York</td>\n",
       "      <td>351.98</td>\n",
       "      <td>5800</td>\n",
       "      <td>268.88</td>\n",
       "      <td>5824</td>\n",
       "      <td>190.38</td>\n",
       "      <td>482</td>\n",
       "      <td>12.245147</td>\n",
       "    </tr>\n",
       "    <tr>\n",
       "      <th>1</th>\n",
       "      <td>California</td>\n",
       "      <td>243.96</td>\n",
       "      <td>16512</td>\n",
       "      <td>189.35</td>\n",
       "      <td>19151</td>\n",
       "      <td>NaN</td>\n",
       "      <td>1096</td>\n",
       "      <td>2015-01-01</td>\n",
       "      <td>2.982686</td>\n",
       "      <td>New York</td>\n",
       "      <td>343.80</td>\n",
       "      <td>7840</td>\n",
       "      <td>263.56</td>\n",
       "      <td>8716</td>\n",
       "      <td>NaN</td>\n",
       "      <td>616</td>\n",
       "      <td>12.245147</td>\n",
       "    </tr>\n",
       "    <tr>\n",
       "      <th>2</th>\n",
       "      <td>California</td>\n",
       "      <td>248.20</td>\n",
       "      <td>12571</td>\n",
       "      <td>192.80</td>\n",
       "      <td>13406</td>\n",
       "      <td>191.94</td>\n",
       "      <td>804</td>\n",
       "      <td>2014-02-01</td>\n",
       "      <td>2.982686</td>\n",
       "      <td>New York</td>\n",
       "      <td>352.35</td>\n",
       "      <td>6051</td>\n",
       "      <td>268.50</td>\n",
       "      <td>6115</td>\n",
       "      <td>190.16</td>\n",
       "      <td>497</td>\n",
       "      <td>12.245147</td>\n",
       "    </tr>\n",
       "    <tr>\n",
       "      <th>3</th>\n",
       "      <td>California</td>\n",
       "      <td>243.30</td>\n",
       "      <td>16904</td>\n",
       "      <td>188.95</td>\n",
       "      <td>19764</td>\n",
       "      <td>NaN</td>\n",
       "      <td>1123</td>\n",
       "      <td>2015-02-01</td>\n",
       "      <td>2.982686</td>\n",
       "      <td>New York</td>\n",
       "      <td>343.09</td>\n",
       "      <td>8058</td>\n",
       "      <td>262.93</td>\n",
       "      <td>9015</td>\n",
       "      <td>NaN</td>\n",
       "      <td>628</td>\n",
       "      <td>12.245147</td>\n",
       "    </tr>\n",
       "    <tr>\n",
       "      <th>4</th>\n",
       "      <td>California</td>\n",
       "      <td>247.60</td>\n",
       "      <td>12988</td>\n",
       "      <td>192.97</td>\n",
       "      <td>13906</td>\n",
       "      <td>191.40</td>\n",
       "      <td>839</td>\n",
       "      <td>2014-03-01</td>\n",
       "      <td>2.982686</td>\n",
       "      <td>New York</td>\n",
       "      <td>351.18</td>\n",
       "      <td>6209</td>\n",
       "      <td>267.69</td>\n",
       "      <td>6356</td>\n",
       "      <td>189.64</td>\n",
       "      <td>507</td>\n",
       "      <td>12.245147</td>\n",
       "    </tr>\n",
       "  </tbody>\n",
       "</table>\n",
       "</div>"
      ],
      "text/plain": [
       "      State_x  HighQ_x  HighQN_x  MedQ_x  MedQN_x  LowQ_x  LowQN_x       date  \\\n",
       "0  California   248.78     12096  193.56    12812  192.92      778 2014-01-01   \n",
       "1  California   243.96     16512  189.35    19151     NaN     1096 2015-01-01   \n",
       "2  California   248.20     12571  192.80    13406  191.94      804 2014-02-01   \n",
       "3  California   243.30     16904  188.95    19764     NaN     1123 2015-02-01   \n",
       "4  California   247.60     12988  192.97    13906  191.40      839 2014-03-01   \n",
       "\n",
       "   HighQ_var_x   State_y  HighQ_y  HighQN_y  MedQ_y  MedQN_y  LowQ_y  LowQN_y  \\\n",
       "0     2.982686  New York   351.98      5800  268.88     5824  190.38      482   \n",
       "1     2.982686  New York   343.80      7840  263.56     8716     NaN      616   \n",
       "2     2.982686  New York   352.35      6051  268.50     6115  190.16      497   \n",
       "3     2.982686  New York   343.09      8058  262.93     9015     NaN      628   \n",
       "4     2.982686  New York   351.18      6209  267.69     6356  189.64      507   \n",
       "\n",
       "   HighQ_var_y  \n",
       "0    12.245147  \n",
       "1    12.245147  \n",
       "2    12.245147  \n",
       "3    12.245147  \n",
       "4    12.245147  "
      ]
     },
     "execution_count": 91,
     "metadata": {},
     "output_type": "execute_result"
    }
   ],
   "source": [
    "prix_ny=prices_pd[prices_pd['State']=='New York']\n",
    "prix_ca=prices_pd[prices_pd['State']=='California']\n",
    "prix_ca_ny=prix_ca.merge(prix_ny,on='date')\n",
    "prix_ca_ny.head()\n",
    "\n",
    "# Exécuter cette boîte et commenter le résultat obtenu"
   ]
  },
  {
   "cell_type": "markdown",
   "metadata": {},
   "source": [
    "Dans ce code, nous travaillons avec deux DataFrames, un pour les prix à New York (`prix_ny`) et un pour les prix en Californie (`prix_ca`). \n",
    "Nous avons ensuite fusionné les deux DataFrames en un seul, `prix_ca_ny`, basé sur la colonne `date`, \n",
    "de sorte que nous obtenons pour chaque date les prix correspondants à la fois pour la Californie et pour New York.\n",
    "\n",
    "Le résultat de `prix_ca_ny.head()` montre une table où chaque ligne représente un jour précis (date) et contient des colonnes de prix pour la Californie (`HighQ_x`, `MedQ_x`, `LowQ_x`) et pour New York (`HighQ_y`, `MedQ_y`, `LowQ_y`), ainsi que d'autres informations associées (par exemple, les quantités de la qualité).\n",
    "\n",
    "### Résultat du `merge` :\n",
    "Le `merge` crée un DataFrame avec les prix correspondants pour chaque date où des données sont disponibles à la fois pour la Californie et pour New York. Chaque colonne pour la Californie est suffixée par `_x` et chaque colonne pour New York est suffixée par `_y`. Cela permet de différencier les valeurs des deux états dans le DataFrame fusionné.\n",
    "\n",
    "### Prochaines étapes :\n",
    "Maintenant, pour calculer et visualiser la corrélation entre les prix de Californie et de New York, vous pouvez tracer un nuage de points. Voici comment procéder :\n",
    "\n",
    "1. **Tracer le nuage de points des prix pour la bonne qualité :**\n",
    "   - Utilisez les colonnes appropriées pour chaque état et la qualité choisie (par exemple, `HighQ_x` pour Californie et `HighQ_y` pour New York).\n",
    "   \n",
    "2. **Utiliser `matplotlib` pour la visualisation :**\n",
    "   - Créez un graphique de dispersion pour visualiser les prix en Californie et à New York en fonction de la date.\n",
    "\n",
    "### Code pour le nuage de points :\n",
    "\n",
    "```python\n",
    "import matplotlib.pyplot as plt\n",
    "\n",
    "# Tracer le nuage de points pour la qualité HighQ\n",
    "plt.figure(figsize=(8, 6))\n",
    "plt.scatter(prix_ca_ny['HighQ_x'], prix_ca_ny['HighQ_y'], alpha=0.5, color='blue', label='HighQ')\n",
    "plt.xlabel('Prix HighQ - Californie')\n",
    "plt.ylabel('Prix HighQ - New York')\n",
    "plt.title('Nuage de points des prix HighQ entre Californie et New York')\n",
    "plt.legend()\n",
    "plt.grid(True)\n",
    "plt.show()\n",
    "```\n",
    "\n",
    "### Explication du code :\n",
    "1. **plt.scatter** : Crée un nuage de points. Ici, `prix_ca_ny['HighQ_x']` est le prix HighQ pour la Californie et `prix_ca_ny['HighQ_y']` est le prix HighQ pour New York.\n",
    "2. **alpha=0.5** : Définit la transparence des points pour faciliter la visualisation lorsque les points sont superposés.\n",
    "3. **plt.xlabel et plt.ylabel** : Définissent les labels pour les axes x et y.\n",
    "4. **plt.title** : Donne un titre au graphique.\n",
    "5. **plt.legend** : Affiche une légende pour les données.\n",
    "6. **plt.grid** : Active une grille pour une meilleure lisibilité des axes.\n",
    "\n",
    "### Résultat attendu :\n",
    "Nous obtiennons un nuage de points où chaque point représente un jour où les prix de la Californie et de New York pour la qualité `HighQ` sont comparés. \n",
    "Cela vous permettra de visualiser la relation entre ces deux ensembles de données. Si les points suivent une ligne diagonale, \n",
    "cela suggère une forte corrélation entre les prix des deux états.\n",
    "'''"
   ]
  },
  {
   "cell_type": "markdown",
   "metadata": {},
   "source": [
    "<font color=\"RED\" size=\"+1\">**[Q]**</font> **Nuages de points**\n",
    "\n",
    "\n",
    "Représenter graphiquement le nuage des points : voir <http://matplotlib.org/examples/shapes_and_collections/scatter_demo.html>"
   ]
  },
  {
   "cell_type": "code",
   "execution_count": 92,
   "metadata": {},
   "outputs": [
    {
     "data": {
      "image/png": "[encoded data removed]",
      "text/plain": [
       "<Figure size 800x600 with 1 Axes>"
      ]
     },
     "metadata": {},
     "output_type": "display_data"
    }
   ],
   "source": [
    "# Créer un nuage de points avec les prix HighQ pour la Californie et New York\n",
    "plt.figure(figsize=(8, 6))  # Définir la taille du graphique\n",
    "plt.scatter(prix_ca_ny['HighQ_x'], prix_ca_ny['HighQ_y'], color='blue', alpha=0.5)\n",
    "\n",
    "# Ajouter des labels et un titre\n",
    "plt.xlabel('Prix HighQ - Californie')\n",
    "plt.ylabel('Prix HighQ - New York')\n",
    "plt.title('Nuage de points des prix HighQ entre Californie et New York')\n",
    "\n",
    "# Afficher une grille pour mieux visualiser les points\n",
    "plt.grid(True)\n",
    "\n",
    "# Afficher le graphique\n",
    "plt.show()"
   ]
  },
  {
   "cell_type": "code",
   "execution_count": 93,
   "metadata": {},
   "outputs": [
    {
     "data": {
      "image/png": "[encoded data removed]",
      "text/plain": [
       "<Figure size 800x600 with 1 Axes>"
      ]
     },
     "metadata": {},
     "output_type": "display_data"
    }
   ],
   "source": [
    "plt.figure(figsize=(8, 6))\n",
    "plt.scatter(prix_ca_ny['MedQ_x'], prix_ca_ny['MedQ_y'], color='blue', alpha=0.5)\n",
    "plt.xlabel('Prix MedQ - Californie')\n",
    "plt.ylabel('Prix MedQ - New York')\n",
    "plt.title('Nuage de points des prix MedQ entre Californie et New York')\n",
    "plt.grid(True)\n",
    "plt.show()"
   ]
  },
  {
   "cell_type": "code",
   "execution_count": 94,
   "metadata": {},
   "outputs": [
    {
     "data": {
      "image/png": "[encoded data removed]",
      "text/plain": [
       "<Figure size 800x600 with 1 Axes>"
      ]
     },
     "metadata": {},
     "output_type": "display_data"
    }
   ],
   "source": [
    "plt.figure(figsize=(8, 6))\n",
    "plt.scatter(prix_ca_ny['LowQ_x'], prix_ca_ny['LowQ_y'], color='blue', alpha=0.5)\n",
    "plt.xlabel('Prix LowQ - Californie')\n",
    "plt.ylabel('Prix LowQ - New York')\n",
    "plt.title('Nuage de points des prix LowQ entre Californie et New York')\n",
    "plt.grid(True)\n",
    "plt.show()"
   ]
  },
  {
   "cell_type": "markdown",
   "metadata": {},
   "source": [
    "<font color=\"RED\" size=\"+1\">**[Q]**</font> **Corrélations**\n",
    "\n",
    "A l'aide de la fonction `moyenne` écrite précédemment, écrire une fonction `correlation(X,Y)` qui calcule la corrélation lineaire entre deux variables $X$ et $Y$ fournis sous la forme de deux tableaux Numpy.\n",
    "\n",
    "Remarque: coefficient de corrélation linéaire de deux variables $X$ et $Y$ (on choisit le coefficient de Pearson):\n",
    "$$c = \\frac{cov(X,Y)}{\\sigma_X \\sigma_Y}$$\n",
    "\n",
    "avec les définitions suivantes:\n",
    "- $cov(X,Y)= \\frac{1}{n}\\sum_{i=1}^{n} (x_i-\\bar{X})(y_i-\\bar{Y})$: mesure de covariance entre $X$ et $Y$ qui contiennent chacune $n$ valeurs, et de moyenne $\\bar{X}$ et $\\bar{Y}$ respectivement.\n",
    "- $\\sigma_X = \\sqrt{\\frac{1}{n}\\sum_{i=1}^{n}(x_i - \\bar{X})^2}$: écart-type de la variable $X$ (resp. $\\sigma_Y$ pour la variable $Y$).\n",
    "\n",
    "\n",
    "**Remarque 2: il ne doit pas y avoir de boucle (for, while, compréhension) dans votre fonction...**"
   ]
  },
  {
   "cell_type": "code",
   "execution_count": 95,
   "metadata": {},
   "outputs": [],
   "source": [
    "def correlation(X, Y):\n",
    "    # Calcul des moyennes de X et Y\n",
    "    mean_X = np.mean(X)\n",
    "    mean_Y = np.mean(Y)\n",
    "    \n",
    "    # Calcul de la covariance entre X et Y\n",
    "    cov_XY = np.mean((X - mean_X) * (Y - mean_Y))\n",
    "    \n",
    "    # Calcul des écarts-types de X et Y\n",
    "    std_X = np.std(X)\n",
    "    std_Y = np.std(Y)\n",
    "    \n",
    "    # Calcul du coefficient de corrélation de Pearson\n",
    "    r = cov_XY / (std_X * std_Y)\n",
    "    \n",
    "    return r"
   ]
  },
  {
   "cell_type": "code",
   "execution_count": 96,
   "metadata": {},
   "outputs": [
    {
     "name": "stdout",
     "output_type": "stream",
     "text": [
      "Correlation de HighQ_x et HighQ_y : 0.979044\n"
     ]
    }
   ],
   "source": [
    "# Appliquer votre fonction avec l'instruction suivante:\n",
    "\n",
    "print(\"Correlation de HighQ_x et HighQ_y : %f\"%correlation(prix_ca_ny[\"HighQ_x\"].values,prix_ca_ny[\"HighQ_y\"].values))"
   ]
  },
  {
   "cell_type": "markdown",
   "metadata": {},
   "source": [
    "<font color=\"RED\" size=\"+1\">**[Q]**</font> Compléter la ligne suivante pour obtenir le résultat fourni par la fonction pandas `corr`.\n",
    "\n"
   ]
  },
  {
   "cell_type": "code",
   "execution_count": 97,
   "metadata": {},
   "outputs": [
    {
     "data": {
      "text/html": [
       "<div>\n",
       "<style scoped>\n",
       "    .dataframe tbody tr th:only-of-type {\n",
       "        vertical-align: middle;\n",
       "    }\n",
       "\n",
       "    .dataframe tbody tr th {\n",
       "        vertical-align: top;\n",
       "    }\n",
       "\n",
       "    .dataframe thead th {\n",
       "        text-align: right;\n",
       "    }\n",
       "</style>\n",
       "<table border=\"1\" class=\"dataframe\">\n",
       "  <thead>\n",
       "    <tr style=\"text-align: right;\">\n",
       "      <th></th>\n",
       "      <th>HighQ_x</th>\n",
       "      <th>HighQ_y</th>\n",
       "    </tr>\n",
       "  </thead>\n",
       "  <tbody>\n",
       "    <tr>\n",
       "      <th>HighQ_x</th>\n",
       "      <td>1.000000</td>\n",
       "      <td>0.979044</td>\n",
       "    </tr>\n",
       "    <tr>\n",
       "      <th>HighQ_y</th>\n",
       "      <td>0.979044</td>\n",
       "      <td>1.000000</td>\n",
       "    </tr>\n",
       "  </tbody>\n",
       "</table>\n",
       "</div>"
      ],
      "text/plain": [
       "          HighQ_x   HighQ_y\n",
       "HighQ_x  1.000000  0.979044\n",
       "HighQ_y  0.979044  1.000000"
      ]
     },
     "execution_count": 97,
     "metadata": {},
     "output_type": "execute_result"
    }
   ],
   "source": [
    "prix_ca_ny[[\"HighQ_x\", \"HighQ_y\"]].corr()"
   ]
  },
  {
   "cell_type": "markdown",
   "metadata": {},
   "source": [
    "<font color=\"RED\" size=\"+1\">**[Q]**</font> **Matrice de corrélations**\n",
    "\n",
    "Calculer la matrice des corrélations pour toutes les combinaisons d'états."
   ]
  },
  {
   "cell_type": "code",
   "execution_count": 98,
   "metadata": {},
   "outputs": [
    {
     "name": "stdout",
     "output_type": "stream",
     "text": [
      "              HighQ_x  HighQN_x    MedQ_x   MedQN_x    LowQ_x   LowQN_x  \\\n",
      "HighQ_x      1.000000 -0.982854  0.946719 -0.980028  0.782783 -0.984319   \n",
      "HighQN_x    -0.982854  1.000000 -0.973784  0.999186 -0.895365  0.999122   \n",
      "MedQ_x       0.946719 -0.973784  1.000000 -0.979122  0.820507 -0.975646   \n",
      "MedQN_x     -0.980028  0.999186 -0.979122  1.000000 -0.895556  0.999201   \n",
      "LowQ_x       0.782783 -0.895365  0.820507 -0.895556  1.000000 -0.897104   \n",
      "LowQN_x     -0.984319  0.999122 -0.975646  0.999201 -0.897104  1.000000   \n",
      "HighQ_var_x       NaN       NaN       NaN       NaN       NaN       NaN   \n",
      "HighQ_y      0.979044 -0.987104  0.957568 -0.987791  0.882252 -0.989216   \n",
      "HighQN_y    -0.976668  0.998151 -0.978808  0.999322 -0.894950  0.997727   \n",
      "MedQ_y       0.989382 -0.993179  0.963848 -0.992846  0.803564 -0.992864   \n",
      "MedQN_y     -0.977453  0.998514 -0.979311  0.999693 -0.897553  0.998349   \n",
      "LowQ_y      -0.932566  0.873900 -0.797989  0.875562 -0.640802  0.871484   \n",
      "LowQN_y     -0.974094  0.997927 -0.976565  0.998666 -0.894443  0.996971   \n",
      "HighQ_var_y       NaN       NaN       NaN       NaN       NaN       NaN   \n",
      "\n",
      "             HighQ_var_x   HighQ_y  HighQN_y    MedQ_y   MedQN_y    LowQ_y  \\\n",
      "HighQ_x              NaN  0.979044 -0.976668  0.989382 -0.977453 -0.932566   \n",
      "HighQN_x             NaN -0.987104  0.998151 -0.993179  0.998514  0.873900   \n",
      "MedQ_x               NaN  0.957568 -0.978808  0.963848 -0.979311 -0.797989   \n",
      "MedQN_x              NaN -0.987791  0.999322 -0.992846  0.999693  0.875562   \n",
      "LowQ_x               NaN  0.882252 -0.894950  0.803564 -0.897553 -0.640802   \n",
      "LowQN_x              NaN -0.989216  0.997727 -0.992864  0.998349  0.871484   \n",
      "HighQ_var_x          NaN       NaN       NaN       NaN       NaN       NaN   \n",
      "HighQ_y              NaN  1.000000 -0.988137  0.984437 -0.988077 -0.869366   \n",
      "HighQN_y             NaN -0.988137  1.000000 -0.992520  0.999836  0.869745   \n",
      "MedQ_y               NaN  0.984437 -0.992520  1.000000 -0.992488 -0.925460   \n",
      "MedQN_y              NaN -0.988077  0.999836 -0.992488  1.000000  0.869437   \n",
      "LowQ_y               NaN -0.869366  0.869745 -0.925460  0.869437  1.000000   \n",
      "LowQN_y              NaN -0.984466  0.999008 -0.990890  0.998971  0.868748   \n",
      "HighQ_var_y          NaN       NaN       NaN       NaN       NaN       NaN   \n",
      "\n",
      "              LowQN_y  HighQ_var_y  \n",
      "HighQ_x     -0.974094          NaN  \n",
      "HighQN_x     0.997927          NaN  \n",
      "MedQ_x      -0.976565          NaN  \n",
      "MedQN_x      0.998666          NaN  \n",
      "LowQ_x      -0.894443          NaN  \n",
      "LowQN_x      0.996971          NaN  \n",
      "HighQ_var_x       NaN          NaN  \n",
      "HighQ_y     -0.984466          NaN  \n",
      "HighQN_y     0.999008          NaN  \n",
      "MedQ_y      -0.990890          NaN  \n",
      "MedQN_y      0.998971          NaN  \n",
      "LowQ_y       0.868748          NaN  \n",
      "LowQN_y      1.000000          NaN  \n",
      "HighQ_var_y       NaN          NaN  \n"
     ]
    }
   ],
   "source": [
    "prix_ca_ny_numeric = prix_ca_ny.select_dtypes(include=['float64', 'int64'])\n",
    "matrice_corr = prix_ca_ny_numeric.corr()\n",
    "print(matrice_corr)"
   ]
  },
  {
   "cell_type": "markdown",
   "metadata": {},
   "source": [
    "<font color=\"RED\" size=\"+1\">**[Q]**</font> **D'autres corrélations...**\n",
    "\n",
    "\n",
    "Calculer les correlations entre le prix (<tt>low</tt> et <tt>high</tt>) en fonction du revenu moyen par état disponible dans le tableau <tt>demography_pd</tt> chargé au début de cette feuille Jupyter. \n",
    "\n",
    "Que peut-on en conclure ?"
   ]
  },
  {
   "cell_type": "code",
   "execution_count": 99,
   "metadata": {},
   "outputs": [
    {
     "ename": "KeyError",
     "evalue": "\"None of [Index(['State', 'Average_Income'], dtype='object')] are in the [columns]\"",
     "output_type": "error",
     "traceback": [
      "\u001b[0;31m---------------------------------------------------------------------------\u001b[0m",
      "\u001b[0;31mKeyError\u001b[0m                                  Traceback (most recent call last)",
      "Cell \u001b[0;32mIn[99], line 1\u001b[0m\n\u001b[0;32m----> 1\u001b[0m demography_pd \u001b[38;5;241m=\u001b[39m \u001b[43mdemography_pd\u001b[49m\u001b[43m[\u001b[49m\u001b[43m[\u001b[49m\u001b[38;5;124;43m\"\u001b[39;49m\u001b[38;5;124;43mState\u001b[39;49m\u001b[38;5;124;43m\"\u001b[39;49m\u001b[43m,\u001b[49m\u001b[43m \u001b[49m\u001b[38;5;124;43m\"\u001b[39;49m\u001b[38;5;124;43mAverage_Income\u001b[39;49m\u001b[38;5;124;43m\"\u001b[39;49m\u001b[43m]\u001b[49m\u001b[43m]\u001b[49m\n\u001b[1;32m      2\u001b[0m prix_revenu \u001b[38;5;241m=\u001b[39m prices_pd\u001b[38;5;241m.\u001b[39mmerge(demography_pd, on\u001b[38;5;241m=\u001b[39m\u001b[38;5;124m'\u001b[39m\u001b[38;5;124mState\u001b[39m\u001b[38;5;124m'\u001b[39m)\n\u001b[1;32m      3\u001b[0m prix_revenu \u001b[38;5;241m=\u001b[39m prix_revenu[[\u001b[38;5;124m\"\u001b[39m\u001b[38;5;124mState\u001b[39m\u001b[38;5;124m\"\u001b[39m, \u001b[38;5;124m\"\u001b[39m\u001b[38;5;124mLowQ\u001b[39m\u001b[38;5;124m\"\u001b[39m, \u001b[38;5;124m\"\u001b[39m\u001b[38;5;124mHighQ\u001b[39m\u001b[38;5;124m\"\u001b[39m, \u001b[38;5;124m\"\u001b[39m\u001b[38;5;124mAverage_Income\u001b[39m\u001b[38;5;124m\"\u001b[39m]]\n",
      "File \u001b[0;32m/usr/local/lib/python3.11/dist-packages/pandas/core/frame.py:4096\u001b[0m, in \u001b[0;36mDataFrame.__getitem__\u001b[0;34m(self, key)\u001b[0m\n\u001b[1;32m   4094\u001b[0m     \u001b[38;5;28;01mif\u001b[39;00m is_iterator(key):\n\u001b[1;32m   4095\u001b[0m         key \u001b[38;5;241m=\u001b[39m \u001b[38;5;28mlist\u001b[39m(key)\n\u001b[0;32m-> 4096\u001b[0m     indexer \u001b[38;5;241m=\u001b[39m \u001b[38;5;28;43mself\u001b[39;49m\u001b[38;5;241;43m.\u001b[39;49m\u001b[43mcolumns\u001b[49m\u001b[38;5;241;43m.\u001b[39;49m\u001b[43m_get_indexer_strict\u001b[49m\u001b[43m(\u001b[49m\u001b[43mkey\u001b[49m\u001b[43m,\u001b[49m\u001b[43m \u001b[49m\u001b[38;5;124;43m\"\u001b[39;49m\u001b[38;5;124;43mcolumns\u001b[39;49m\u001b[38;5;124;43m\"\u001b[39;49m\u001b[43m)\u001b[49m[\u001b[38;5;241m1\u001b[39m]\n\u001b[1;32m   4098\u001b[0m \u001b[38;5;66;03m# take() does not accept boolean indexers\u001b[39;00m\n\u001b[1;32m   4099\u001b[0m \u001b[38;5;28;01mif\u001b[39;00m \u001b[38;5;28mgetattr\u001b[39m(indexer, \u001b[38;5;124m\"\u001b[39m\u001b[38;5;124mdtype\u001b[39m\u001b[38;5;124m\"\u001b[39m, \u001b[38;5;28;01mNone\u001b[39;00m) \u001b[38;5;241m==\u001b[39m \u001b[38;5;28mbool\u001b[39m:\n",
      "File \u001b[0;32m/usr/local/lib/python3.11/dist-packages/pandas/core/indexes/base.py:6199\u001b[0m, in \u001b[0;36mIndex._get_indexer_strict\u001b[0;34m(self, key, axis_name)\u001b[0m\n\u001b[1;32m   6196\u001b[0m \u001b[38;5;28;01melse\u001b[39;00m:\n\u001b[1;32m   6197\u001b[0m     keyarr, indexer, new_indexer \u001b[38;5;241m=\u001b[39m \u001b[38;5;28mself\u001b[39m\u001b[38;5;241m.\u001b[39m_reindex_non_unique(keyarr)\n\u001b[0;32m-> 6199\u001b[0m \u001b[38;5;28;43mself\u001b[39;49m\u001b[38;5;241;43m.\u001b[39;49m\u001b[43m_raise_if_missing\u001b[49m\u001b[43m(\u001b[49m\u001b[43mkeyarr\u001b[49m\u001b[43m,\u001b[49m\u001b[43m \u001b[49m\u001b[43mindexer\u001b[49m\u001b[43m,\u001b[49m\u001b[43m \u001b[49m\u001b[43maxis_name\u001b[49m\u001b[43m)\u001b[49m\n\u001b[1;32m   6201\u001b[0m keyarr \u001b[38;5;241m=\u001b[39m \u001b[38;5;28mself\u001b[39m\u001b[38;5;241m.\u001b[39mtake(indexer)\n\u001b[1;32m   6202\u001b[0m \u001b[38;5;28;01mif\u001b[39;00m \u001b[38;5;28misinstance\u001b[39m(key, Index):\n\u001b[1;32m   6203\u001b[0m     \u001b[38;5;66;03m# GH 42790 - Preserve name from an Index\u001b[39;00m\n",
      "File \u001b[0;32m/usr/local/lib/python3.11/dist-packages/pandas/core/indexes/base.py:6248\u001b[0m, in \u001b[0;36mIndex._raise_if_missing\u001b[0;34m(self, key, indexer, axis_name)\u001b[0m\n\u001b[1;32m   6246\u001b[0m \u001b[38;5;28;01mif\u001b[39;00m nmissing:\n\u001b[1;32m   6247\u001b[0m     \u001b[38;5;28;01mif\u001b[39;00m nmissing \u001b[38;5;241m==\u001b[39m \u001b[38;5;28mlen\u001b[39m(indexer):\n\u001b[0;32m-> 6248\u001b[0m         \u001b[38;5;28;01mraise\u001b[39;00m \u001b[38;5;167;01mKeyError\u001b[39;00m(\u001b[38;5;124mf\u001b[39m\u001b[38;5;124m\"\u001b[39m\u001b[38;5;124mNone of [\u001b[39m\u001b[38;5;132;01m{\u001b[39;00mkey\u001b[38;5;132;01m}\u001b[39;00m\u001b[38;5;124m] are in the [\u001b[39m\u001b[38;5;132;01m{\u001b[39;00maxis_name\u001b[38;5;132;01m}\u001b[39;00m\u001b[38;5;124m]\u001b[39m\u001b[38;5;124m\"\u001b[39m)\n\u001b[1;32m   6250\u001b[0m     not_found \u001b[38;5;241m=\u001b[39m \u001b[38;5;28mlist\u001b[39m(ensure_index(key)[missing_mask\u001b[38;5;241m.\u001b[39mnonzero()[\u001b[38;5;241m0\u001b[39m]]\u001b[38;5;241m.\u001b[39munique())\n\u001b[1;32m   6251\u001b[0m     \u001b[38;5;28;01mraise\u001b[39;00m \u001b[38;5;167;01mKeyError\u001b[39;00m(\u001b[38;5;124mf\u001b[39m\u001b[38;5;124m\"\u001b[39m\u001b[38;5;132;01m{\u001b[39;00mnot_found\u001b[38;5;132;01m}\u001b[39;00m\u001b[38;5;124m not in index\u001b[39m\u001b[38;5;124m\"\u001b[39m)\n",
      "\u001b[0;31mKeyError\u001b[0m: \"None of [Index(['State', 'Average_Income'], dtype='object')] are in the [columns]\""
     ]
    }
   ],
   "source": [
    "demography_pd = demography_pd[[\"State\", \"Average_Income\"]]\n",
    "prix_revenu = prices_pd.merge(demography_pd, on='State')\n",
    "prix_revenu = prix_revenu[[\"State\", \"LowQ\", \"HighQ\", \"Average_Income\"]]\n",
    "correlation_matrix = prix_revenu.corr()\n",
    "print(correlation_matrix)\n"
   ]
  }
 ],
 "metadata": {
  "kernelspec": {
   "display_name": "Python 3 (ipykernel)",
   "language": "python",
   "name": "python3"
  },
  "language_info": {
   "codemirror_mode": {
    "name": "ipython",
    "version": 3
   },
   "file_extension": ".py",
   "mimetype": "text/x-python",
   "name": "python",
   "nbconvert_exporter": "python",
   "pygments_lexer": "ipython3",
   "version": "3.11.2"
  }
 },
 "nbformat": 4,
 "nbformat_minor": 4
}
